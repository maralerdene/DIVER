{
  "nbformat": 4,
  "nbformat_minor": 0,
  "metadata": {
    "colab": {
      "name": "Neural_Network.ipynb",
      "provenance": [],
      "authorship_tag": "ABX9TyPaVVcpd30jIhV4SBoqaXz1",
      "include_colab_link": true
    },
    "kernelspec": {
      "name": "python3",
      "display_name": "Python 3"
    },
    "language_info": {
      "name": "python"
    }
  },
  "cells": [
    {
      "cell_type": "markdown",
      "metadata": {
        "id": "view-in-github",
        "colab_type": "text"
      },
      "source": [
        "<a href=\"https://colab.research.google.com/github/fkvivid/DIVER/blob/main/Neural_Network.ipynb\" target=\"_parent\"><img src=\"https://colab.research.google.com/assets/colab-badge.svg\" alt=\"Open In Colab\"/></a>"
      ]
    },
    {
      "cell_type": "code",
      "execution_count": 42,
      "metadata": {
        "id": "KTSwyole5ypC"
      },
      "outputs": [],
      "source": [
        "import numpy as np\n",
        "import pandas as pd \n",
        "from keras.datasets import mnist\n",
        "# Evaluation index\n",
        "from sklearn.metrics import accuracy_score\n",
        "from sklearn.metrics import precision_score\n",
        "from sklearn.metrics import recall_score\n",
        "from sklearn.metrics import f1_score\n",
        "(X_train, y_train), (X_test, y_test) = mnist.load_data()"
      ]
    },
    {
      "cell_type": "code",
      "source": [
        "print(X_train.shape) # (60000, 28, 28)\n",
        "print(X_test.shape) # (10000, 28, 28)\n",
        "print(X_train[0].dtype) # uint8\n",
        "print(X_train[0])\n",
        "\n",
        "data = pd.DataFrame(X_train[0])"
      ],
      "metadata": {
        "colab": {
          "base_uri": "https://localhost:8080/"
        },
        "id": "5Cd6PzrC6khb",
        "outputId": "169b7375-b24e-4bcc-bfe3-3544c52aa377"
      },
      "execution_count": 43,
      "outputs": [
        {
          "output_type": "stream",
          "name": "stdout",
          "text": [
            "(60000, 28, 28)\n",
            "(10000, 28, 28)\n",
            "uint8\n",
            "[[  0   0   0   0   0   0   0   0   0   0   0   0   0   0   0   0   0   0\n",
            "    0   0   0   0   0   0   0   0   0   0]\n",
            " [  0   0   0   0   0   0   0   0   0   0   0   0   0   0   0   0   0   0\n",
            "    0   0   0   0   0   0   0   0   0   0]\n",
            " [  0   0   0   0   0   0   0   0   0   0   0   0   0   0   0   0   0   0\n",
            "    0   0   0   0   0   0   0   0   0   0]\n",
            " [  0   0   0   0   0   0   0   0   0   0   0   0   0   0   0   0   0   0\n",
            "    0   0   0   0   0   0   0   0   0   0]\n",
            " [  0   0   0   0   0   0   0   0   0   0   0   0   0   0   0   0   0   0\n",
            "    0   0   0   0   0   0   0   0   0   0]\n",
            " [  0   0   0   0   0   0   0   0   0   0   0   0   3  18  18  18 126 136\n",
            "  175  26 166 255 247 127   0   0   0   0]\n",
            " [  0   0   0   0   0   0   0   0  30  36  94 154 170 253 253 253 253 253\n",
            "  225 172 253 242 195  64   0   0   0   0]\n",
            " [  0   0   0   0   0   0   0  49 238 253 253 253 253 253 253 253 253 251\n",
            "   93  82  82  56  39   0   0   0   0   0]\n",
            " [  0   0   0   0   0   0   0  18 219 253 253 253 253 253 198 182 247 241\n",
            "    0   0   0   0   0   0   0   0   0   0]\n",
            " [  0   0   0   0   0   0   0   0  80 156 107 253 253 205  11   0  43 154\n",
            "    0   0   0   0   0   0   0   0   0   0]\n",
            " [  0   0   0   0   0   0   0   0   0  14   1 154 253  90   0   0   0   0\n",
            "    0   0   0   0   0   0   0   0   0   0]\n",
            " [  0   0   0   0   0   0   0   0   0   0   0 139 253 190   2   0   0   0\n",
            "    0   0   0   0   0   0   0   0   0   0]\n",
            " [  0   0   0   0   0   0   0   0   0   0   0  11 190 253  70   0   0   0\n",
            "    0   0   0   0   0   0   0   0   0   0]\n",
            " [  0   0   0   0   0   0   0   0   0   0   0   0  35 241 225 160 108   1\n",
            "    0   0   0   0   0   0   0   0   0   0]\n",
            " [  0   0   0   0   0   0   0   0   0   0   0   0   0  81 240 253 253 119\n",
            "   25   0   0   0   0   0   0   0   0   0]\n",
            " [  0   0   0   0   0   0   0   0   0   0   0   0   0   0  45 186 253 253\n",
            "  150  27   0   0   0   0   0   0   0   0]\n",
            " [  0   0   0   0   0   0   0   0   0   0   0   0   0   0   0  16  93 252\n",
            "  253 187   0   0   0   0   0   0   0   0]\n",
            " [  0   0   0   0   0   0   0   0   0   0   0   0   0   0   0   0   0 249\n",
            "  253 249  64   0   0   0   0   0   0   0]\n",
            " [  0   0   0   0   0   0   0   0   0   0   0   0   0   0  46 130 183 253\n",
            "  253 207   2   0   0   0   0   0   0   0]\n",
            " [  0   0   0   0   0   0   0   0   0   0   0   0  39 148 229 253 253 253\n",
            "  250 182   0   0   0   0   0   0   0   0]\n",
            " [  0   0   0   0   0   0   0   0   0   0  24 114 221 253 253 253 253 201\n",
            "   78   0   0   0   0   0   0   0   0   0]\n",
            " [  0   0   0   0   0   0   0   0  23  66 213 253 253 253 253 198  81   2\n",
            "    0   0   0   0   0   0   0   0   0   0]\n",
            " [  0   0   0   0   0   0  18 171 219 253 253 253 253 195  80   9   0   0\n",
            "    0   0   0   0   0   0   0   0   0   0]\n",
            " [  0   0   0   0  55 172 226 253 253 253 253 244 133  11   0   0   0   0\n",
            "    0   0   0   0   0   0   0   0   0   0]\n",
            " [  0   0   0   0 136 253 253 253 212 135 132  16   0   0   0   0   0   0\n",
            "    0   0   0   0   0   0   0   0   0   0]\n",
            " [  0   0   0   0   0   0   0   0   0   0   0   0   0   0   0   0   0   0\n",
            "    0   0   0   0   0   0   0   0   0   0]\n",
            " [  0   0   0   0   0   0   0   0   0   0   0   0   0   0   0   0   0   0\n",
            "    0   0   0   0   0   0   0   0   0   0]\n",
            " [  0   0   0   0   0   0   0   0   0   0   0   0   0   0   0   0   0   0\n",
            "    0   0   0   0   0   0   0   0   0   0]]\n"
          ]
        }
      ]
    },
    {
      "cell_type": "code",
      "source": [
        "pd.set_option('display.max_columns', None)\n",
        "pd.set_option('display.max_rows', None)"
      ],
      "metadata": {
        "id": "-XC9gQyE6nPR"
      },
      "execution_count": 44,
      "outputs": []
    },
    {
      "cell_type": "code",
      "source": [
        "data"
      ],
      "metadata": {
        "colab": {
          "base_uri": "https://localhost:8080/",
          "height": 927
        },
        "id": "fT-ECFSO78ZT",
        "outputId": "b2573fe0-d672-4621-be5c-0bb414f9da19"
      },
      "execution_count": 45,
      "outputs": [
        {
          "output_type": "execute_result",
          "data": {
            "text/plain": [
              "    0   1   2   3    4    5    6    7    8    9    10   11   12   13   14  \\\n",
              "0    0   0   0   0    0    0    0    0    0    0    0    0    0    0    0   \n",
              "1    0   0   0   0    0    0    0    0    0    0    0    0    0    0    0   \n",
              "2    0   0   0   0    0    0    0    0    0    0    0    0    0    0    0   \n",
              "3    0   0   0   0    0    0    0    0    0    0    0    0    0    0    0   \n",
              "4    0   0   0   0    0    0    0    0    0    0    0    0    0    0    0   \n",
              "5    0   0   0   0    0    0    0    0    0    0    0    0    3   18   18   \n",
              "6    0   0   0   0    0    0    0    0   30   36   94  154  170  253  253   \n",
              "7    0   0   0   0    0    0    0   49  238  253  253  253  253  253  253   \n",
              "8    0   0   0   0    0    0    0   18  219  253  253  253  253  253  198   \n",
              "9    0   0   0   0    0    0    0    0   80  156  107  253  253  205   11   \n",
              "10   0   0   0   0    0    0    0    0    0   14    1  154  253   90    0   \n",
              "11   0   0   0   0    0    0    0    0    0    0    0  139  253  190    2   \n",
              "12   0   0   0   0    0    0    0    0    0    0    0   11  190  253   70   \n",
              "13   0   0   0   0    0    0    0    0    0    0    0    0   35  241  225   \n",
              "14   0   0   0   0    0    0    0    0    0    0    0    0    0   81  240   \n",
              "15   0   0   0   0    0    0    0    0    0    0    0    0    0    0   45   \n",
              "16   0   0   0   0    0    0    0    0    0    0    0    0    0    0    0   \n",
              "17   0   0   0   0    0    0    0    0    0    0    0    0    0    0    0   \n",
              "18   0   0   0   0    0    0    0    0    0    0    0    0    0    0   46   \n",
              "19   0   0   0   0    0    0    0    0    0    0    0    0   39  148  229   \n",
              "20   0   0   0   0    0    0    0    0    0    0   24  114  221  253  253   \n",
              "21   0   0   0   0    0    0    0    0   23   66  213  253  253  253  253   \n",
              "22   0   0   0   0    0    0   18  171  219  253  253  253  253  195   80   \n",
              "23   0   0   0   0   55  172  226  253  253  253  253  244  133   11    0   \n",
              "24   0   0   0   0  136  253  253  253  212  135  132   16    0    0    0   \n",
              "25   0   0   0   0    0    0    0    0    0    0    0    0    0    0    0   \n",
              "26   0   0   0   0    0    0    0    0    0    0    0    0    0    0    0   \n",
              "27   0   0   0   0    0    0    0    0    0    0    0    0    0    0    0   \n",
              "\n",
              "     15   16   17   18   19   20   21   22   23  24  25  26  27  \n",
              "0     0    0    0    0    0    0    0    0    0   0   0   0   0  \n",
              "1     0    0    0    0    0    0    0    0    0   0   0   0   0  \n",
              "2     0    0    0    0    0    0    0    0    0   0   0   0   0  \n",
              "3     0    0    0    0    0    0    0    0    0   0   0   0   0  \n",
              "4     0    0    0    0    0    0    0    0    0   0   0   0   0  \n",
              "5    18  126  136  175   26  166  255  247  127   0   0   0   0  \n",
              "6   253  253  253  225  172  253  242  195   64   0   0   0   0  \n",
              "7   253  253  251   93   82   82   56   39    0   0   0   0   0  \n",
              "8   182  247  241    0    0    0    0    0    0   0   0   0   0  \n",
              "9     0   43  154    0    0    0    0    0    0   0   0   0   0  \n",
              "10    0    0    0    0    0    0    0    0    0   0   0   0   0  \n",
              "11    0    0    0    0    0    0    0    0    0   0   0   0   0  \n",
              "12    0    0    0    0    0    0    0    0    0   0   0   0   0  \n",
              "13  160  108    1    0    0    0    0    0    0   0   0   0   0  \n",
              "14  253  253  119   25    0    0    0    0    0   0   0   0   0  \n",
              "15  186  253  253  150   27    0    0    0    0   0   0   0   0  \n",
              "16   16   93  252  253  187    0    0    0    0   0   0   0   0  \n",
              "17    0    0  249  253  249   64    0    0    0   0   0   0   0  \n",
              "18  130  183  253  253  207    2    0    0    0   0   0   0   0  \n",
              "19  253  253  253  250  182    0    0    0    0   0   0   0   0  \n",
              "20  253  253  201   78    0    0    0    0    0   0   0   0   0  \n",
              "21  198   81    2    0    0    0    0    0    0   0   0   0   0  \n",
              "22    9    0    0    0    0    0    0    0    0   0   0   0   0  \n",
              "23    0    0    0    0    0    0    0    0    0   0   0   0   0  \n",
              "24    0    0    0    0    0    0    0    0    0   0   0   0   0  \n",
              "25    0    0    0    0    0    0    0    0    0   0   0   0   0  \n",
              "26    0    0    0    0    0    0    0    0    0   0   0   0   0  \n",
              "27    0    0    0    0    0    0    0    0    0   0   0   0   0  "
            ],
            "text/html": [
              "\n",
              "  <div id=\"df-84a77e22-7fbf-4ed5-83a4-b77af7e570e6\">\n",
              "    <div class=\"colab-df-container\">\n",
              "      <div>\n",
              "<style scoped>\n",
              "    .dataframe tbody tr th:only-of-type {\n",
              "        vertical-align: middle;\n",
              "    }\n",
              "\n",
              "    .dataframe tbody tr th {\n",
              "        vertical-align: top;\n",
              "    }\n",
              "\n",
              "    .dataframe thead th {\n",
              "        text-align: right;\n",
              "    }\n",
              "</style>\n",
              "<table border=\"1\" class=\"dataframe\">\n",
              "  <thead>\n",
              "    <tr style=\"text-align: right;\">\n",
              "      <th></th>\n",
              "      <th>0</th>\n",
              "      <th>1</th>\n",
              "      <th>2</th>\n",
              "      <th>3</th>\n",
              "      <th>4</th>\n",
              "      <th>5</th>\n",
              "      <th>6</th>\n",
              "      <th>7</th>\n",
              "      <th>8</th>\n",
              "      <th>9</th>\n",
              "      <th>10</th>\n",
              "      <th>11</th>\n",
              "      <th>12</th>\n",
              "      <th>13</th>\n",
              "      <th>14</th>\n",
              "      <th>15</th>\n",
              "      <th>16</th>\n",
              "      <th>17</th>\n",
              "      <th>18</th>\n",
              "      <th>19</th>\n",
              "      <th>20</th>\n",
              "      <th>21</th>\n",
              "      <th>22</th>\n",
              "      <th>23</th>\n",
              "      <th>24</th>\n",
              "      <th>25</th>\n",
              "      <th>26</th>\n",
              "      <th>27</th>\n",
              "    </tr>\n",
              "  </thead>\n",
              "  <tbody>\n",
              "    <tr>\n",
              "      <th>0</th>\n",
              "      <td>0</td>\n",
              "      <td>0</td>\n",
              "      <td>0</td>\n",
              "      <td>0</td>\n",
              "      <td>0</td>\n",
              "      <td>0</td>\n",
              "      <td>0</td>\n",
              "      <td>0</td>\n",
              "      <td>0</td>\n",
              "      <td>0</td>\n",
              "      <td>0</td>\n",
              "      <td>0</td>\n",
              "      <td>0</td>\n",
              "      <td>0</td>\n",
              "      <td>0</td>\n",
              "      <td>0</td>\n",
              "      <td>0</td>\n",
              "      <td>0</td>\n",
              "      <td>0</td>\n",
              "      <td>0</td>\n",
              "      <td>0</td>\n",
              "      <td>0</td>\n",
              "      <td>0</td>\n",
              "      <td>0</td>\n",
              "      <td>0</td>\n",
              "      <td>0</td>\n",
              "      <td>0</td>\n",
              "      <td>0</td>\n",
              "    </tr>\n",
              "    <tr>\n",
              "      <th>1</th>\n",
              "      <td>0</td>\n",
              "      <td>0</td>\n",
              "      <td>0</td>\n",
              "      <td>0</td>\n",
              "      <td>0</td>\n",
              "      <td>0</td>\n",
              "      <td>0</td>\n",
              "      <td>0</td>\n",
              "      <td>0</td>\n",
              "      <td>0</td>\n",
              "      <td>0</td>\n",
              "      <td>0</td>\n",
              "      <td>0</td>\n",
              "      <td>0</td>\n",
              "      <td>0</td>\n",
              "      <td>0</td>\n",
              "      <td>0</td>\n",
              "      <td>0</td>\n",
              "      <td>0</td>\n",
              "      <td>0</td>\n",
              "      <td>0</td>\n",
              "      <td>0</td>\n",
              "      <td>0</td>\n",
              "      <td>0</td>\n",
              "      <td>0</td>\n",
              "      <td>0</td>\n",
              "      <td>0</td>\n",
              "      <td>0</td>\n",
              "    </tr>\n",
              "    <tr>\n",
              "      <th>2</th>\n",
              "      <td>0</td>\n",
              "      <td>0</td>\n",
              "      <td>0</td>\n",
              "      <td>0</td>\n",
              "      <td>0</td>\n",
              "      <td>0</td>\n",
              "      <td>0</td>\n",
              "      <td>0</td>\n",
              "      <td>0</td>\n",
              "      <td>0</td>\n",
              "      <td>0</td>\n",
              "      <td>0</td>\n",
              "      <td>0</td>\n",
              "      <td>0</td>\n",
              "      <td>0</td>\n",
              "      <td>0</td>\n",
              "      <td>0</td>\n",
              "      <td>0</td>\n",
              "      <td>0</td>\n",
              "      <td>0</td>\n",
              "      <td>0</td>\n",
              "      <td>0</td>\n",
              "      <td>0</td>\n",
              "      <td>0</td>\n",
              "      <td>0</td>\n",
              "      <td>0</td>\n",
              "      <td>0</td>\n",
              "      <td>0</td>\n",
              "    </tr>\n",
              "    <tr>\n",
              "      <th>3</th>\n",
              "      <td>0</td>\n",
              "      <td>0</td>\n",
              "      <td>0</td>\n",
              "      <td>0</td>\n",
              "      <td>0</td>\n",
              "      <td>0</td>\n",
              "      <td>0</td>\n",
              "      <td>0</td>\n",
              "      <td>0</td>\n",
              "      <td>0</td>\n",
              "      <td>0</td>\n",
              "      <td>0</td>\n",
              "      <td>0</td>\n",
              "      <td>0</td>\n",
              "      <td>0</td>\n",
              "      <td>0</td>\n",
              "      <td>0</td>\n",
              "      <td>0</td>\n",
              "      <td>0</td>\n",
              "      <td>0</td>\n",
              "      <td>0</td>\n",
              "      <td>0</td>\n",
              "      <td>0</td>\n",
              "      <td>0</td>\n",
              "      <td>0</td>\n",
              "      <td>0</td>\n",
              "      <td>0</td>\n",
              "      <td>0</td>\n",
              "    </tr>\n",
              "    <tr>\n",
              "      <th>4</th>\n",
              "      <td>0</td>\n",
              "      <td>0</td>\n",
              "      <td>0</td>\n",
              "      <td>0</td>\n",
              "      <td>0</td>\n",
              "      <td>0</td>\n",
              "      <td>0</td>\n",
              "      <td>0</td>\n",
              "      <td>0</td>\n",
              "      <td>0</td>\n",
              "      <td>0</td>\n",
              "      <td>0</td>\n",
              "      <td>0</td>\n",
              "      <td>0</td>\n",
              "      <td>0</td>\n",
              "      <td>0</td>\n",
              "      <td>0</td>\n",
              "      <td>0</td>\n",
              "      <td>0</td>\n",
              "      <td>0</td>\n",
              "      <td>0</td>\n",
              "      <td>0</td>\n",
              "      <td>0</td>\n",
              "      <td>0</td>\n",
              "      <td>0</td>\n",
              "      <td>0</td>\n",
              "      <td>0</td>\n",
              "      <td>0</td>\n",
              "    </tr>\n",
              "    <tr>\n",
              "      <th>5</th>\n",
              "      <td>0</td>\n",
              "      <td>0</td>\n",
              "      <td>0</td>\n",
              "      <td>0</td>\n",
              "      <td>0</td>\n",
              "      <td>0</td>\n",
              "      <td>0</td>\n",
              "      <td>0</td>\n",
              "      <td>0</td>\n",
              "      <td>0</td>\n",
              "      <td>0</td>\n",
              "      <td>0</td>\n",
              "      <td>3</td>\n",
              "      <td>18</td>\n",
              "      <td>18</td>\n",
              "      <td>18</td>\n",
              "      <td>126</td>\n",
              "      <td>136</td>\n",
              "      <td>175</td>\n",
              "      <td>26</td>\n",
              "      <td>166</td>\n",
              "      <td>255</td>\n",
              "      <td>247</td>\n",
              "      <td>127</td>\n",
              "      <td>0</td>\n",
              "      <td>0</td>\n",
              "      <td>0</td>\n",
              "      <td>0</td>\n",
              "    </tr>\n",
              "    <tr>\n",
              "      <th>6</th>\n",
              "      <td>0</td>\n",
              "      <td>0</td>\n",
              "      <td>0</td>\n",
              "      <td>0</td>\n",
              "      <td>0</td>\n",
              "      <td>0</td>\n",
              "      <td>0</td>\n",
              "      <td>0</td>\n",
              "      <td>30</td>\n",
              "      <td>36</td>\n",
              "      <td>94</td>\n",
              "      <td>154</td>\n",
              "      <td>170</td>\n",
              "      <td>253</td>\n",
              "      <td>253</td>\n",
              "      <td>253</td>\n",
              "      <td>253</td>\n",
              "      <td>253</td>\n",
              "      <td>225</td>\n",
              "      <td>172</td>\n",
              "      <td>253</td>\n",
              "      <td>242</td>\n",
              "      <td>195</td>\n",
              "      <td>64</td>\n",
              "      <td>0</td>\n",
              "      <td>0</td>\n",
              "      <td>0</td>\n",
              "      <td>0</td>\n",
              "    </tr>\n",
              "    <tr>\n",
              "      <th>7</th>\n",
              "      <td>0</td>\n",
              "      <td>0</td>\n",
              "      <td>0</td>\n",
              "      <td>0</td>\n",
              "      <td>0</td>\n",
              "      <td>0</td>\n",
              "      <td>0</td>\n",
              "      <td>49</td>\n",
              "      <td>238</td>\n",
              "      <td>253</td>\n",
              "      <td>253</td>\n",
              "      <td>253</td>\n",
              "      <td>253</td>\n",
              "      <td>253</td>\n",
              "      <td>253</td>\n",
              "      <td>253</td>\n",
              "      <td>253</td>\n",
              "      <td>251</td>\n",
              "      <td>93</td>\n",
              "      <td>82</td>\n",
              "      <td>82</td>\n",
              "      <td>56</td>\n",
              "      <td>39</td>\n",
              "      <td>0</td>\n",
              "      <td>0</td>\n",
              "      <td>0</td>\n",
              "      <td>0</td>\n",
              "      <td>0</td>\n",
              "    </tr>\n",
              "    <tr>\n",
              "      <th>8</th>\n",
              "      <td>0</td>\n",
              "      <td>0</td>\n",
              "      <td>0</td>\n",
              "      <td>0</td>\n",
              "      <td>0</td>\n",
              "      <td>0</td>\n",
              "      <td>0</td>\n",
              "      <td>18</td>\n",
              "      <td>219</td>\n",
              "      <td>253</td>\n",
              "      <td>253</td>\n",
              "      <td>253</td>\n",
              "      <td>253</td>\n",
              "      <td>253</td>\n",
              "      <td>198</td>\n",
              "      <td>182</td>\n",
              "      <td>247</td>\n",
              "      <td>241</td>\n",
              "      <td>0</td>\n",
              "      <td>0</td>\n",
              "      <td>0</td>\n",
              "      <td>0</td>\n",
              "      <td>0</td>\n",
              "      <td>0</td>\n",
              "      <td>0</td>\n",
              "      <td>0</td>\n",
              "      <td>0</td>\n",
              "      <td>0</td>\n",
              "    </tr>\n",
              "    <tr>\n",
              "      <th>9</th>\n",
              "      <td>0</td>\n",
              "      <td>0</td>\n",
              "      <td>0</td>\n",
              "      <td>0</td>\n",
              "      <td>0</td>\n",
              "      <td>0</td>\n",
              "      <td>0</td>\n",
              "      <td>0</td>\n",
              "      <td>80</td>\n",
              "      <td>156</td>\n",
              "      <td>107</td>\n",
              "      <td>253</td>\n",
              "      <td>253</td>\n",
              "      <td>205</td>\n",
              "      <td>11</td>\n",
              "      <td>0</td>\n",
              "      <td>43</td>\n",
              "      <td>154</td>\n",
              "      <td>0</td>\n",
              "      <td>0</td>\n",
              "      <td>0</td>\n",
              "      <td>0</td>\n",
              "      <td>0</td>\n",
              "      <td>0</td>\n",
              "      <td>0</td>\n",
              "      <td>0</td>\n",
              "      <td>0</td>\n",
              "      <td>0</td>\n",
              "    </tr>\n",
              "    <tr>\n",
              "      <th>10</th>\n",
              "      <td>0</td>\n",
              "      <td>0</td>\n",
              "      <td>0</td>\n",
              "      <td>0</td>\n",
              "      <td>0</td>\n",
              "      <td>0</td>\n",
              "      <td>0</td>\n",
              "      <td>0</td>\n",
              "      <td>0</td>\n",
              "      <td>14</td>\n",
              "      <td>1</td>\n",
              "      <td>154</td>\n",
              "      <td>253</td>\n",
              "      <td>90</td>\n",
              "      <td>0</td>\n",
              "      <td>0</td>\n",
              "      <td>0</td>\n",
              "      <td>0</td>\n",
              "      <td>0</td>\n",
              "      <td>0</td>\n",
              "      <td>0</td>\n",
              "      <td>0</td>\n",
              "      <td>0</td>\n",
              "      <td>0</td>\n",
              "      <td>0</td>\n",
              "      <td>0</td>\n",
              "      <td>0</td>\n",
              "      <td>0</td>\n",
              "    </tr>\n",
              "    <tr>\n",
              "      <th>11</th>\n",
              "      <td>0</td>\n",
              "      <td>0</td>\n",
              "      <td>0</td>\n",
              "      <td>0</td>\n",
              "      <td>0</td>\n",
              "      <td>0</td>\n",
              "      <td>0</td>\n",
              "      <td>0</td>\n",
              "      <td>0</td>\n",
              "      <td>0</td>\n",
              "      <td>0</td>\n",
              "      <td>139</td>\n",
              "      <td>253</td>\n",
              "      <td>190</td>\n",
              "      <td>2</td>\n",
              "      <td>0</td>\n",
              "      <td>0</td>\n",
              "      <td>0</td>\n",
              "      <td>0</td>\n",
              "      <td>0</td>\n",
              "      <td>0</td>\n",
              "      <td>0</td>\n",
              "      <td>0</td>\n",
              "      <td>0</td>\n",
              "      <td>0</td>\n",
              "      <td>0</td>\n",
              "      <td>0</td>\n",
              "      <td>0</td>\n",
              "    </tr>\n",
              "    <tr>\n",
              "      <th>12</th>\n",
              "      <td>0</td>\n",
              "      <td>0</td>\n",
              "      <td>0</td>\n",
              "      <td>0</td>\n",
              "      <td>0</td>\n",
              "      <td>0</td>\n",
              "      <td>0</td>\n",
              "      <td>0</td>\n",
              "      <td>0</td>\n",
              "      <td>0</td>\n",
              "      <td>0</td>\n",
              "      <td>11</td>\n",
              "      <td>190</td>\n",
              "      <td>253</td>\n",
              "      <td>70</td>\n",
              "      <td>0</td>\n",
              "      <td>0</td>\n",
              "      <td>0</td>\n",
              "      <td>0</td>\n",
              "      <td>0</td>\n",
              "      <td>0</td>\n",
              "      <td>0</td>\n",
              "      <td>0</td>\n",
              "      <td>0</td>\n",
              "      <td>0</td>\n",
              "      <td>0</td>\n",
              "      <td>0</td>\n",
              "      <td>0</td>\n",
              "    </tr>\n",
              "    <tr>\n",
              "      <th>13</th>\n",
              "      <td>0</td>\n",
              "      <td>0</td>\n",
              "      <td>0</td>\n",
              "      <td>0</td>\n",
              "      <td>0</td>\n",
              "      <td>0</td>\n",
              "      <td>0</td>\n",
              "      <td>0</td>\n",
              "      <td>0</td>\n",
              "      <td>0</td>\n",
              "      <td>0</td>\n",
              "      <td>0</td>\n",
              "      <td>35</td>\n",
              "      <td>241</td>\n",
              "      <td>225</td>\n",
              "      <td>160</td>\n",
              "      <td>108</td>\n",
              "      <td>1</td>\n",
              "      <td>0</td>\n",
              "      <td>0</td>\n",
              "      <td>0</td>\n",
              "      <td>0</td>\n",
              "      <td>0</td>\n",
              "      <td>0</td>\n",
              "      <td>0</td>\n",
              "      <td>0</td>\n",
              "      <td>0</td>\n",
              "      <td>0</td>\n",
              "    </tr>\n",
              "    <tr>\n",
              "      <th>14</th>\n",
              "      <td>0</td>\n",
              "      <td>0</td>\n",
              "      <td>0</td>\n",
              "      <td>0</td>\n",
              "      <td>0</td>\n",
              "      <td>0</td>\n",
              "      <td>0</td>\n",
              "      <td>0</td>\n",
              "      <td>0</td>\n",
              "      <td>0</td>\n",
              "      <td>0</td>\n",
              "      <td>0</td>\n",
              "      <td>0</td>\n",
              "      <td>81</td>\n",
              "      <td>240</td>\n",
              "      <td>253</td>\n",
              "      <td>253</td>\n",
              "      <td>119</td>\n",
              "      <td>25</td>\n",
              "      <td>0</td>\n",
              "      <td>0</td>\n",
              "      <td>0</td>\n",
              "      <td>0</td>\n",
              "      <td>0</td>\n",
              "      <td>0</td>\n",
              "      <td>0</td>\n",
              "      <td>0</td>\n",
              "      <td>0</td>\n",
              "    </tr>\n",
              "    <tr>\n",
              "      <th>15</th>\n",
              "      <td>0</td>\n",
              "      <td>0</td>\n",
              "      <td>0</td>\n",
              "      <td>0</td>\n",
              "      <td>0</td>\n",
              "      <td>0</td>\n",
              "      <td>0</td>\n",
              "      <td>0</td>\n",
              "      <td>0</td>\n",
              "      <td>0</td>\n",
              "      <td>0</td>\n",
              "      <td>0</td>\n",
              "      <td>0</td>\n",
              "      <td>0</td>\n",
              "      <td>45</td>\n",
              "      <td>186</td>\n",
              "      <td>253</td>\n",
              "      <td>253</td>\n",
              "      <td>150</td>\n",
              "      <td>27</td>\n",
              "      <td>0</td>\n",
              "      <td>0</td>\n",
              "      <td>0</td>\n",
              "      <td>0</td>\n",
              "      <td>0</td>\n",
              "      <td>0</td>\n",
              "      <td>0</td>\n",
              "      <td>0</td>\n",
              "    </tr>\n",
              "    <tr>\n",
              "      <th>16</th>\n",
              "      <td>0</td>\n",
              "      <td>0</td>\n",
              "      <td>0</td>\n",
              "      <td>0</td>\n",
              "      <td>0</td>\n",
              "      <td>0</td>\n",
              "      <td>0</td>\n",
              "      <td>0</td>\n",
              "      <td>0</td>\n",
              "      <td>0</td>\n",
              "      <td>0</td>\n",
              "      <td>0</td>\n",
              "      <td>0</td>\n",
              "      <td>0</td>\n",
              "      <td>0</td>\n",
              "      <td>16</td>\n",
              "      <td>93</td>\n",
              "      <td>252</td>\n",
              "      <td>253</td>\n",
              "      <td>187</td>\n",
              "      <td>0</td>\n",
              "      <td>0</td>\n",
              "      <td>0</td>\n",
              "      <td>0</td>\n",
              "      <td>0</td>\n",
              "      <td>0</td>\n",
              "      <td>0</td>\n",
              "      <td>0</td>\n",
              "    </tr>\n",
              "    <tr>\n",
              "      <th>17</th>\n",
              "      <td>0</td>\n",
              "      <td>0</td>\n",
              "      <td>0</td>\n",
              "      <td>0</td>\n",
              "      <td>0</td>\n",
              "      <td>0</td>\n",
              "      <td>0</td>\n",
              "      <td>0</td>\n",
              "      <td>0</td>\n",
              "      <td>0</td>\n",
              "      <td>0</td>\n",
              "      <td>0</td>\n",
              "      <td>0</td>\n",
              "      <td>0</td>\n",
              "      <td>0</td>\n",
              "      <td>0</td>\n",
              "      <td>0</td>\n",
              "      <td>249</td>\n",
              "      <td>253</td>\n",
              "      <td>249</td>\n",
              "      <td>64</td>\n",
              "      <td>0</td>\n",
              "      <td>0</td>\n",
              "      <td>0</td>\n",
              "      <td>0</td>\n",
              "      <td>0</td>\n",
              "      <td>0</td>\n",
              "      <td>0</td>\n",
              "    </tr>\n",
              "    <tr>\n",
              "      <th>18</th>\n",
              "      <td>0</td>\n",
              "      <td>0</td>\n",
              "      <td>0</td>\n",
              "      <td>0</td>\n",
              "      <td>0</td>\n",
              "      <td>0</td>\n",
              "      <td>0</td>\n",
              "      <td>0</td>\n",
              "      <td>0</td>\n",
              "      <td>0</td>\n",
              "      <td>0</td>\n",
              "      <td>0</td>\n",
              "      <td>0</td>\n",
              "      <td>0</td>\n",
              "      <td>46</td>\n",
              "      <td>130</td>\n",
              "      <td>183</td>\n",
              "      <td>253</td>\n",
              "      <td>253</td>\n",
              "      <td>207</td>\n",
              "      <td>2</td>\n",
              "      <td>0</td>\n",
              "      <td>0</td>\n",
              "      <td>0</td>\n",
              "      <td>0</td>\n",
              "      <td>0</td>\n",
              "      <td>0</td>\n",
              "      <td>0</td>\n",
              "    </tr>\n",
              "    <tr>\n",
              "      <th>19</th>\n",
              "      <td>0</td>\n",
              "      <td>0</td>\n",
              "      <td>0</td>\n",
              "      <td>0</td>\n",
              "      <td>0</td>\n",
              "      <td>0</td>\n",
              "      <td>0</td>\n",
              "      <td>0</td>\n",
              "      <td>0</td>\n",
              "      <td>0</td>\n",
              "      <td>0</td>\n",
              "      <td>0</td>\n",
              "      <td>39</td>\n",
              "      <td>148</td>\n",
              "      <td>229</td>\n",
              "      <td>253</td>\n",
              "      <td>253</td>\n",
              "      <td>253</td>\n",
              "      <td>250</td>\n",
              "      <td>182</td>\n",
              "      <td>0</td>\n",
              "      <td>0</td>\n",
              "      <td>0</td>\n",
              "      <td>0</td>\n",
              "      <td>0</td>\n",
              "      <td>0</td>\n",
              "      <td>0</td>\n",
              "      <td>0</td>\n",
              "    </tr>\n",
              "    <tr>\n",
              "      <th>20</th>\n",
              "      <td>0</td>\n",
              "      <td>0</td>\n",
              "      <td>0</td>\n",
              "      <td>0</td>\n",
              "      <td>0</td>\n",
              "      <td>0</td>\n",
              "      <td>0</td>\n",
              "      <td>0</td>\n",
              "      <td>0</td>\n",
              "      <td>0</td>\n",
              "      <td>24</td>\n",
              "      <td>114</td>\n",
              "      <td>221</td>\n",
              "      <td>253</td>\n",
              "      <td>253</td>\n",
              "      <td>253</td>\n",
              "      <td>253</td>\n",
              "      <td>201</td>\n",
              "      <td>78</td>\n",
              "      <td>0</td>\n",
              "      <td>0</td>\n",
              "      <td>0</td>\n",
              "      <td>0</td>\n",
              "      <td>0</td>\n",
              "      <td>0</td>\n",
              "      <td>0</td>\n",
              "      <td>0</td>\n",
              "      <td>0</td>\n",
              "    </tr>\n",
              "    <tr>\n",
              "      <th>21</th>\n",
              "      <td>0</td>\n",
              "      <td>0</td>\n",
              "      <td>0</td>\n",
              "      <td>0</td>\n",
              "      <td>0</td>\n",
              "      <td>0</td>\n",
              "      <td>0</td>\n",
              "      <td>0</td>\n",
              "      <td>23</td>\n",
              "      <td>66</td>\n",
              "      <td>213</td>\n",
              "      <td>253</td>\n",
              "      <td>253</td>\n",
              "      <td>253</td>\n",
              "      <td>253</td>\n",
              "      <td>198</td>\n",
              "      <td>81</td>\n",
              "      <td>2</td>\n",
              "      <td>0</td>\n",
              "      <td>0</td>\n",
              "      <td>0</td>\n",
              "      <td>0</td>\n",
              "      <td>0</td>\n",
              "      <td>0</td>\n",
              "      <td>0</td>\n",
              "      <td>0</td>\n",
              "      <td>0</td>\n",
              "      <td>0</td>\n",
              "    </tr>\n",
              "    <tr>\n",
              "      <th>22</th>\n",
              "      <td>0</td>\n",
              "      <td>0</td>\n",
              "      <td>0</td>\n",
              "      <td>0</td>\n",
              "      <td>0</td>\n",
              "      <td>0</td>\n",
              "      <td>18</td>\n",
              "      <td>171</td>\n",
              "      <td>219</td>\n",
              "      <td>253</td>\n",
              "      <td>253</td>\n",
              "      <td>253</td>\n",
              "      <td>253</td>\n",
              "      <td>195</td>\n",
              "      <td>80</td>\n",
              "      <td>9</td>\n",
              "      <td>0</td>\n",
              "      <td>0</td>\n",
              "      <td>0</td>\n",
              "      <td>0</td>\n",
              "      <td>0</td>\n",
              "      <td>0</td>\n",
              "      <td>0</td>\n",
              "      <td>0</td>\n",
              "      <td>0</td>\n",
              "      <td>0</td>\n",
              "      <td>0</td>\n",
              "      <td>0</td>\n",
              "    </tr>\n",
              "    <tr>\n",
              "      <th>23</th>\n",
              "      <td>0</td>\n",
              "      <td>0</td>\n",
              "      <td>0</td>\n",
              "      <td>0</td>\n",
              "      <td>55</td>\n",
              "      <td>172</td>\n",
              "      <td>226</td>\n",
              "      <td>253</td>\n",
              "      <td>253</td>\n",
              "      <td>253</td>\n",
              "      <td>253</td>\n",
              "      <td>244</td>\n",
              "      <td>133</td>\n",
              "      <td>11</td>\n",
              "      <td>0</td>\n",
              "      <td>0</td>\n",
              "      <td>0</td>\n",
              "      <td>0</td>\n",
              "      <td>0</td>\n",
              "      <td>0</td>\n",
              "      <td>0</td>\n",
              "      <td>0</td>\n",
              "      <td>0</td>\n",
              "      <td>0</td>\n",
              "      <td>0</td>\n",
              "      <td>0</td>\n",
              "      <td>0</td>\n",
              "      <td>0</td>\n",
              "    </tr>\n",
              "    <tr>\n",
              "      <th>24</th>\n",
              "      <td>0</td>\n",
              "      <td>0</td>\n",
              "      <td>0</td>\n",
              "      <td>0</td>\n",
              "      <td>136</td>\n",
              "      <td>253</td>\n",
              "      <td>253</td>\n",
              "      <td>253</td>\n",
              "      <td>212</td>\n",
              "      <td>135</td>\n",
              "      <td>132</td>\n",
              "      <td>16</td>\n",
              "      <td>0</td>\n",
              "      <td>0</td>\n",
              "      <td>0</td>\n",
              "      <td>0</td>\n",
              "      <td>0</td>\n",
              "      <td>0</td>\n",
              "      <td>0</td>\n",
              "      <td>0</td>\n",
              "      <td>0</td>\n",
              "      <td>0</td>\n",
              "      <td>0</td>\n",
              "      <td>0</td>\n",
              "      <td>0</td>\n",
              "      <td>0</td>\n",
              "      <td>0</td>\n",
              "      <td>0</td>\n",
              "    </tr>\n",
              "    <tr>\n",
              "      <th>25</th>\n",
              "      <td>0</td>\n",
              "      <td>0</td>\n",
              "      <td>0</td>\n",
              "      <td>0</td>\n",
              "      <td>0</td>\n",
              "      <td>0</td>\n",
              "      <td>0</td>\n",
              "      <td>0</td>\n",
              "      <td>0</td>\n",
              "      <td>0</td>\n",
              "      <td>0</td>\n",
              "      <td>0</td>\n",
              "      <td>0</td>\n",
              "      <td>0</td>\n",
              "      <td>0</td>\n",
              "      <td>0</td>\n",
              "      <td>0</td>\n",
              "      <td>0</td>\n",
              "      <td>0</td>\n",
              "      <td>0</td>\n",
              "      <td>0</td>\n",
              "      <td>0</td>\n",
              "      <td>0</td>\n",
              "      <td>0</td>\n",
              "      <td>0</td>\n",
              "      <td>0</td>\n",
              "      <td>0</td>\n",
              "      <td>0</td>\n",
              "    </tr>\n",
              "    <tr>\n",
              "      <th>26</th>\n",
              "      <td>0</td>\n",
              "      <td>0</td>\n",
              "      <td>0</td>\n",
              "      <td>0</td>\n",
              "      <td>0</td>\n",
              "      <td>0</td>\n",
              "      <td>0</td>\n",
              "      <td>0</td>\n",
              "      <td>0</td>\n",
              "      <td>0</td>\n",
              "      <td>0</td>\n",
              "      <td>0</td>\n",
              "      <td>0</td>\n",
              "      <td>0</td>\n",
              "      <td>0</td>\n",
              "      <td>0</td>\n",
              "      <td>0</td>\n",
              "      <td>0</td>\n",
              "      <td>0</td>\n",
              "      <td>0</td>\n",
              "      <td>0</td>\n",
              "      <td>0</td>\n",
              "      <td>0</td>\n",
              "      <td>0</td>\n",
              "      <td>0</td>\n",
              "      <td>0</td>\n",
              "      <td>0</td>\n",
              "      <td>0</td>\n",
              "    </tr>\n",
              "    <tr>\n",
              "      <th>27</th>\n",
              "      <td>0</td>\n",
              "      <td>0</td>\n",
              "      <td>0</td>\n",
              "      <td>0</td>\n",
              "      <td>0</td>\n",
              "      <td>0</td>\n",
              "      <td>0</td>\n",
              "      <td>0</td>\n",
              "      <td>0</td>\n",
              "      <td>0</td>\n",
              "      <td>0</td>\n",
              "      <td>0</td>\n",
              "      <td>0</td>\n",
              "      <td>0</td>\n",
              "      <td>0</td>\n",
              "      <td>0</td>\n",
              "      <td>0</td>\n",
              "      <td>0</td>\n",
              "      <td>0</td>\n",
              "      <td>0</td>\n",
              "      <td>0</td>\n",
              "      <td>0</td>\n",
              "      <td>0</td>\n",
              "      <td>0</td>\n",
              "      <td>0</td>\n",
              "      <td>0</td>\n",
              "      <td>0</td>\n",
              "      <td>0</td>\n",
              "    </tr>\n",
              "  </tbody>\n",
              "</table>\n",
              "</div>\n",
              "      <button class=\"colab-df-convert\" onclick=\"convertToInteractive('df-84a77e22-7fbf-4ed5-83a4-b77af7e570e6')\"\n",
              "              title=\"Convert this dataframe to an interactive table.\"\n",
              "              style=\"display:none;\">\n",
              "        \n",
              "  <svg xmlns=\"http://www.w3.org/2000/svg\" height=\"24px\"viewBox=\"0 0 24 24\"\n",
              "       width=\"24px\">\n",
              "    <path d=\"M0 0h24v24H0V0z\" fill=\"none\"/>\n",
              "    <path d=\"M18.56 5.44l.94 2.06.94-2.06 2.06-.94-2.06-.94-.94-2.06-.94 2.06-2.06.94zm-11 1L8.5 8.5l.94-2.06 2.06-.94-2.06-.94L8.5 2.5l-.94 2.06-2.06.94zm10 10l.94 2.06.94-2.06 2.06-.94-2.06-.94-.94-2.06-.94 2.06-2.06.94z\"/><path d=\"M17.41 7.96l-1.37-1.37c-.4-.4-.92-.59-1.43-.59-.52 0-1.04.2-1.43.59L10.3 9.45l-7.72 7.72c-.78.78-.78 2.05 0 2.83L4 21.41c.39.39.9.59 1.41.59.51 0 1.02-.2 1.41-.59l7.78-7.78 2.81-2.81c.8-.78.8-2.07 0-2.86zM5.41 20L4 18.59l7.72-7.72 1.47 1.35L5.41 20z\"/>\n",
              "  </svg>\n",
              "      </button>\n",
              "      \n",
              "  <style>\n",
              "    .colab-df-container {\n",
              "      display:flex;\n",
              "      flex-wrap:wrap;\n",
              "      gap: 12px;\n",
              "    }\n",
              "\n",
              "    .colab-df-convert {\n",
              "      background-color: #E8F0FE;\n",
              "      border: none;\n",
              "      border-radius: 50%;\n",
              "      cursor: pointer;\n",
              "      display: none;\n",
              "      fill: #1967D2;\n",
              "      height: 32px;\n",
              "      padding: 0 0 0 0;\n",
              "      width: 32px;\n",
              "    }\n",
              "\n",
              "    .colab-df-convert:hover {\n",
              "      background-color: #E2EBFA;\n",
              "      box-shadow: 0px 1px 2px rgba(60, 64, 67, 0.3), 0px 1px 3px 1px rgba(60, 64, 67, 0.15);\n",
              "      fill: #174EA6;\n",
              "    }\n",
              "\n",
              "    [theme=dark] .colab-df-convert {\n",
              "      background-color: #3B4455;\n",
              "      fill: #D2E3FC;\n",
              "    }\n",
              "\n",
              "    [theme=dark] .colab-df-convert:hover {\n",
              "      background-color: #434B5C;\n",
              "      box-shadow: 0px 1px 3px 1px rgba(0, 0, 0, 0.15);\n",
              "      filter: drop-shadow(0px 1px 2px rgba(0, 0, 0, 0.3));\n",
              "      fill: #FFFFFF;\n",
              "    }\n",
              "  </style>\n",
              "\n",
              "      <script>\n",
              "        const buttonEl =\n",
              "          document.querySelector('#df-84a77e22-7fbf-4ed5-83a4-b77af7e570e6 button.colab-df-convert');\n",
              "        buttonEl.style.display =\n",
              "          google.colab.kernel.accessAllowed ? 'block' : 'none';\n",
              "\n",
              "        async function convertToInteractive(key) {\n",
              "          const element = document.querySelector('#df-84a77e22-7fbf-4ed5-83a4-b77af7e570e6');\n",
              "          const dataTable =\n",
              "            await google.colab.kernel.invokeFunction('convertToInteractive',\n",
              "                                                     [key], {});\n",
              "          if (!dataTable) return;\n",
              "\n",
              "          const docLinkHtml = 'Like what you see? Visit the ' +\n",
              "            '<a target=\"_blank\" href=https://colab.research.google.com/notebooks/data_table.ipynb>data table notebook</a>'\n",
              "            + ' to learn more about interactive tables.';\n",
              "          element.innerHTML = '';\n",
              "          dataTable['output_type'] = 'display_data';\n",
              "          await google.colab.output.renderOutput(dataTable, element);\n",
              "          const docLink = document.createElement('div');\n",
              "          docLink.innerHTML = docLinkHtml;\n",
              "          element.appendChild(docLink);\n",
              "        }\n",
              "      </script>\n",
              "    </div>\n",
              "  </div>\n",
              "  "
            ]
          },
          "metadata": {},
          "execution_count": 45
        }
      ]
    },
    {
      "cell_type": "code",
      "source": [
        "X_train = X_train.reshape(-1, 784)\n",
        "X_test = X_test.reshape(-1, 784)"
      ],
      "metadata": {
        "id": "HMzsDnuO8Juv"
      },
      "execution_count": 46,
      "outputs": []
    },
    {
      "cell_type": "code",
      "source": [
        "import matplotlib.pyplot as plt\n",
        "%matplotlib inline\n",
        "index = 0\n",
        "image = X_train[index].reshape(28,28)\n",
        "# X_train[index]: (784,)\n",
        "# image: (28, 28)\n",
        "plt.imshow(image, 'gray')\n",
        "plt.title('label : {}'.format(y_train[index]))\n",
        "plt.show()\n"
      ],
      "metadata": {
        "colab": {
          "base_uri": "https://localhost:8080/",
          "height": 281
        },
        "id": "4Mgv8p9E8Vjq",
        "outputId": "1b368df2-7f9d-4986-ffca-1c832757e363"
      },
      "execution_count": 47,
      "outputs": [
        {
          "output_type": "display_data",
          "data": {
            "text/plain": [
              "<Figure size 432x288 with 1 Axes>"
            ],
            "image/png": "[encoded data removed]"
          },
          "metadata": {
            "needs_background": "light"
          }
        }
      ]
    },
    {
      "cell_type": "code",
      "source": [
        "index = 0\n",
        "image = X_train[index].reshape(28,28)\n",
        "image = image.astype(np.float) # float型に変換\n",
        "image -= 105.35 # 意図的に負の小数値を作り出してみる\n",
        "plt.imshow(image, 'gray')\n",
        "plt.title('label : {}'.format(y_train[index]))\n",
        "plt.show()\n",
        "print(image) # 値を確認"
      ],
      "metadata": {
        "colab": {
          "base_uri": "https://localhost:8080/",
          "height": 1000
        },
        "id": "xUTmd1gj8YGH",
        "outputId": "d9df0945-4cd5-4ffc-fb6f-7a1568833980"
      },
      "execution_count": 48,
      "outputs": [
        {
          "output_type": "stream",
          "name": "stderr",
          "text": [
            "/usr/local/lib/python3.7/dist-packages/ipykernel_launcher.py:3: DeprecationWarning: `np.float` is a deprecated alias for the builtin `float`. To silence this warning, use `float` by itself. Doing this will not modify any behavior and is safe. If you specifically wanted the numpy scalar type, use `np.float64` here.\n",
            "Deprecated in NumPy 1.20; for more details and guidance: https://numpy.org/devdocs/release/1.20.0-notes.html#deprecations\n",
            "  This is separate from the ipykernel package so we can avoid doing imports until\n"
          ]
        },
        {
          "output_type": "display_data",
          "data": {
            "text/plain": [
              "<Figure size 432x288 with 1 Axes>"
            ],
            "image/png": "[encoded data removed]"
          },
          "metadata": {
            "needs_background": "light"
          }
        },
        {
          "output_type": "stream",
          "name": "stdout",
          "text": [
            "[[-105.35 -105.35 -105.35 -105.35 -105.35 -105.35 -105.35 -105.35 -105.35\n",
            "  -105.35 -105.35 -105.35 -105.35 -105.35 -105.35 -105.35 -105.35 -105.35\n",
            "  -105.35 -105.35 -105.35 -105.35 -105.35 -105.35 -105.35 -105.35 -105.35\n",
            "  -105.35]\n",
            " [-105.35 -105.35 -105.35 -105.35 -105.35 -105.35 -105.35 -105.35 -105.35\n",
            "  -105.35 -105.35 -105.35 -105.35 -105.35 -105.35 -105.35 -105.35 -105.35\n",
            "  -105.35 -105.35 -105.35 -105.35 -105.35 -105.35 -105.35 -105.35 -105.35\n",
            "  -105.35]\n",
            " [-105.35 -105.35 -105.35 -105.35 -105.35 -105.35 -105.35 -105.35 -105.35\n",
            "  -105.35 -105.35 -105.35 -105.35 -105.35 -105.35 -105.35 -105.35 -105.35\n",
            "  -105.35 -105.35 -105.35 -105.35 -105.35 -105.35 -105.35 -105.35 -105.35\n",
            "  -105.35]\n",
            " [-105.35 -105.35 -105.35 -105.35 -105.35 -105.35 -105.35 -105.35 -105.35\n",
            "  -105.35 -105.35 -105.35 -105.35 -105.35 -105.35 -105.35 -105.35 -105.35\n",
            "  -105.35 -105.35 -105.35 -105.35 -105.35 -105.35 -105.35 -105.35 -105.35\n",
            "  -105.35]\n",
            " [-105.35 -105.35 -105.35 -105.35 -105.35 -105.35 -105.35 -105.35 -105.35\n",
            "  -105.35 -105.35 -105.35 -105.35 -105.35 -105.35 -105.35 -105.35 -105.35\n",
            "  -105.35 -105.35 -105.35 -105.35 -105.35 -105.35 -105.35 -105.35 -105.35\n",
            "  -105.35]\n",
            " [-105.35 -105.35 -105.35 -105.35 -105.35 -105.35 -105.35 -105.35 -105.35\n",
            "  -105.35 -105.35 -105.35 -102.35  -87.35  -87.35  -87.35   20.65   30.65\n",
            "    69.65  -79.35   60.65  149.65  141.65   21.65 -105.35 -105.35 -105.35\n",
            "  -105.35]\n",
            " [-105.35 -105.35 -105.35 -105.35 -105.35 -105.35 -105.35 -105.35  -75.35\n",
            "   -69.35  -11.35   48.65   64.65  147.65  147.65  147.65  147.65  147.65\n",
            "   119.65   66.65  147.65  136.65   89.65  -41.35 -105.35 -105.35 -105.35\n",
            "  -105.35]\n",
            " [-105.35 -105.35 -105.35 -105.35 -105.35 -105.35 -105.35  -56.35  132.65\n",
            "   147.65  147.65  147.65  147.65  147.65  147.65  147.65  147.65  145.65\n",
            "   -12.35  -23.35  -23.35  -49.35  -66.35 -105.35 -105.35 -105.35 -105.35\n",
            "  -105.35]\n",
            " [-105.35 -105.35 -105.35 -105.35 -105.35 -105.35 -105.35  -87.35  113.65\n",
            "   147.65  147.65  147.65  147.65  147.65   92.65   76.65  141.65  135.65\n",
            "  -105.35 -105.35 -105.35 -105.35 -105.35 -105.35 -105.35 -105.35 -105.35\n",
            "  -105.35]\n",
            " [-105.35 -105.35 -105.35 -105.35 -105.35 -105.35 -105.35 -105.35  -25.35\n",
            "    50.65    1.65  147.65  147.65   99.65  -94.35 -105.35  -62.35   48.65\n",
            "  -105.35 -105.35 -105.35 -105.35 -105.35 -105.35 -105.35 -105.35 -105.35\n",
            "  -105.35]\n",
            " [-105.35 -105.35 -105.35 -105.35 -105.35 -105.35 -105.35 -105.35 -105.35\n",
            "   -91.35 -104.35   48.65  147.65  -15.35 -105.35 -105.35 -105.35 -105.35\n",
            "  -105.35 -105.35 -105.35 -105.35 -105.35 -105.35 -105.35 -105.35 -105.35\n",
            "  -105.35]\n",
            " [-105.35 -105.35 -105.35 -105.35 -105.35 -105.35 -105.35 -105.35 -105.35\n",
            "  -105.35 -105.35   33.65  147.65   84.65 -103.35 -105.35 -105.35 -105.35\n",
            "  -105.35 -105.35 -105.35 -105.35 -105.35 -105.35 -105.35 -105.35 -105.35\n",
            "  -105.35]\n",
            " [-105.35 -105.35 -105.35 -105.35 -105.35 -105.35 -105.35 -105.35 -105.35\n",
            "  -105.35 -105.35  -94.35   84.65  147.65  -35.35 -105.35 -105.35 -105.35\n",
            "  -105.35 -105.35 -105.35 -105.35 -105.35 -105.35 -105.35 -105.35 -105.35\n",
            "  -105.35]\n",
            " [-105.35 -105.35 -105.35 -105.35 -105.35 -105.35 -105.35 -105.35 -105.35\n",
            "  -105.35 -105.35 -105.35  -70.35  135.65  119.65   54.65    2.65 -104.35\n",
            "  -105.35 -105.35 -105.35 -105.35 -105.35 -105.35 -105.35 -105.35 -105.35\n",
            "  -105.35]\n",
            " [-105.35 -105.35 -105.35 -105.35 -105.35 -105.35 -105.35 -105.35 -105.35\n",
            "  -105.35 -105.35 -105.35 -105.35  -24.35  134.65  147.65  147.65   13.65\n",
            "   -80.35 -105.35 -105.35 -105.35 -105.35 -105.35 -105.35 -105.35 -105.35\n",
            "  -105.35]\n",
            " [-105.35 -105.35 -105.35 -105.35 -105.35 -105.35 -105.35 -105.35 -105.35\n",
            "  -105.35 -105.35 -105.35 -105.35 -105.35  -60.35   80.65  147.65  147.65\n",
            "    44.65  -78.35 -105.35 -105.35 -105.35 -105.35 -105.35 -105.35 -105.35\n",
            "  -105.35]\n",
            " [-105.35 -105.35 -105.35 -105.35 -105.35 -105.35 -105.35 -105.35 -105.35\n",
            "  -105.35 -105.35 -105.35 -105.35 -105.35 -105.35  -89.35  -12.35  146.65\n",
            "   147.65   81.65 -105.35 -105.35 -105.35 -105.35 -105.35 -105.35 -105.35\n",
            "  -105.35]\n",
            " [-105.35 -105.35 -105.35 -105.35 -105.35 -105.35 -105.35 -105.35 -105.35\n",
            "  -105.35 -105.35 -105.35 -105.35 -105.35 -105.35 -105.35 -105.35  143.65\n",
            "   147.65  143.65  -41.35 -105.35 -105.35 -105.35 -105.35 -105.35 -105.35\n",
            "  -105.35]\n",
            " [-105.35 -105.35 -105.35 -105.35 -105.35 -105.35 -105.35 -105.35 -105.35\n",
            "  -105.35 -105.35 -105.35 -105.35 -105.35  -59.35   24.65   77.65  147.65\n",
            "   147.65  101.65 -103.35 -105.35 -105.35 -105.35 -105.35 -105.35 -105.35\n",
            "  -105.35]\n",
            " [-105.35 -105.35 -105.35 -105.35 -105.35 -105.35 -105.35 -105.35 -105.35\n",
            "  -105.35 -105.35 -105.35  -66.35   42.65  123.65  147.65  147.65  147.65\n",
            "   144.65   76.65 -105.35 -105.35 -105.35 -105.35 -105.35 -105.35 -105.35\n",
            "  -105.35]\n",
            " [-105.35 -105.35 -105.35 -105.35 -105.35 -105.35 -105.35 -105.35 -105.35\n",
            "  -105.35  -81.35    8.65  115.65  147.65  147.65  147.65  147.65   95.65\n",
            "   -27.35 -105.35 -105.35 -105.35 -105.35 -105.35 -105.35 -105.35 -105.35\n",
            "  -105.35]\n",
            " [-105.35 -105.35 -105.35 -105.35 -105.35 -105.35 -105.35 -105.35  -82.35\n",
            "   -39.35  107.65  147.65  147.65  147.65  147.65   92.65  -24.35 -103.35\n",
            "  -105.35 -105.35 -105.35 -105.35 -105.35 -105.35 -105.35 -105.35 -105.35\n",
            "  -105.35]\n",
            " [-105.35 -105.35 -105.35 -105.35 -105.35 -105.35  -87.35   65.65  113.65\n",
            "   147.65  147.65  147.65  147.65   89.65  -25.35  -96.35 -105.35 -105.35\n",
            "  -105.35 -105.35 -105.35 -105.35 -105.35 -105.35 -105.35 -105.35 -105.35\n",
            "  -105.35]\n",
            " [-105.35 -105.35 -105.35 -105.35  -50.35   66.65  120.65  147.65  147.65\n",
            "   147.65  147.65  138.65   27.65  -94.35 -105.35 -105.35 -105.35 -105.35\n",
            "  -105.35 -105.35 -105.35 -105.35 -105.35 -105.35 -105.35 -105.35 -105.35\n",
            "  -105.35]\n",
            " [-105.35 -105.35 -105.35 -105.35   30.65  147.65  147.65  147.65  106.65\n",
            "    29.65   26.65  -89.35 -105.35 -105.35 -105.35 -105.35 -105.35 -105.35\n",
            "  -105.35 -105.35 -105.35 -105.35 -105.35 -105.35 -105.35 -105.35 -105.35\n",
            "  -105.35]\n",
            " [-105.35 -105.35 -105.35 -105.35 -105.35 -105.35 -105.35 -105.35 -105.35\n",
            "  -105.35 -105.35 -105.35 -105.35 -105.35 -105.35 -105.35 -105.35 -105.35\n",
            "  -105.35 -105.35 -105.35 -105.35 -105.35 -105.35 -105.35 -105.35 -105.35\n",
            "  -105.35]\n",
            " [-105.35 -105.35 -105.35 -105.35 -105.35 -105.35 -105.35 -105.35 -105.35\n",
            "  -105.35 -105.35 -105.35 -105.35 -105.35 -105.35 -105.35 -105.35 -105.35\n",
            "  -105.35 -105.35 -105.35 -105.35 -105.35 -105.35 -105.35 -105.35 -105.35\n",
            "  -105.35]\n",
            " [-105.35 -105.35 -105.35 -105.35 -105.35 -105.35 -105.35 -105.35 -105.35\n",
            "  -105.35 -105.35 -105.35 -105.35 -105.35 -105.35 -105.35 -105.35 -105.35\n",
            "  -105.35 -105.35 -105.35 -105.35 -105.35 -105.35 -105.35 -105.35 -105.35\n",
            "  -105.35]]\n"
          ]
        }
      ]
    },
    {
      "cell_type": "code",
      "source": [
        "plt.imshow(image, 'gray', vmin = 0, vmax = 255)"
      ],
      "metadata": {
        "colab": {
          "base_uri": "https://localhost:8080/",
          "height": 282
        },
        "id": "8FmEFsga9VRv",
        "outputId": "827e8091-bce4-4765-de91-bc97e21c6301"
      },
      "execution_count": 49,
      "outputs": [
        {
          "output_type": "execute_result",
          "data": {
            "text/plain": [
              "<matplotlib.image.AxesImage at 0x7f32c4343050>"
            ]
          },
          "metadata": {},
          "execution_count": 49
        },
        {
          "output_type": "display_data",
          "data": {
            "text/plain": [
              "<Figure size 432x288 with 1 Axes>"
            ],
            "image/png": "[encoded data removed]"
          },
          "metadata": {
            "needs_background": "light"
          }
        }
      ]
    },
    {
      "cell_type": "code",
      "source": [
        "X_train = X_train.astype(np.float)\n",
        "X_test = X_test.astype(np.float)\n",
        "X_train /= 255\n",
        "X_test /= 255\n",
        "print(X_train.max()) # 1.0\n",
        "print(X_train.min()) # 0.0"
      ],
      "metadata": {
        "colab": {
          "base_uri": "https://localhost:8080/"
        },
        "id": "IT_YMXXp9sSV",
        "outputId": "46e842a2-9026-434a-d524-3f5ba8acc90c"
      },
      "execution_count": 50,
      "outputs": [
        {
          "output_type": "stream",
          "name": "stderr",
          "text": [
            "/usr/local/lib/python3.7/dist-packages/ipykernel_launcher.py:1: DeprecationWarning: `np.float` is a deprecated alias for the builtin `float`. To silence this warning, use `float` by itself. Doing this will not modify any behavior and is safe. If you specifically wanted the numpy scalar type, use `np.float64` here.\n",
            "Deprecated in NumPy 1.20; for more details and guidance: https://numpy.org/devdocs/release/1.20.0-notes.html#deprecations\n",
            "  \"\"\"Entry point for launching an IPython kernel.\n",
            "/usr/local/lib/python3.7/dist-packages/ipykernel_launcher.py:2: DeprecationWarning: `np.float` is a deprecated alias for the builtin `float`. To silence this warning, use `float` by itself. Doing this will not modify any behavior and is safe. If you specifically wanted the numpy scalar type, use `np.float64` here.\n",
            "Deprecated in NumPy 1.20; for more details and guidance: https://numpy.org/devdocs/release/1.20.0-notes.html#deprecations\n",
            "  \n"
          ]
        },
        {
          "output_type": "stream",
          "name": "stdout",
          "text": [
            "1.0\n",
            "0.0\n"
          ]
        }
      ]
    },
    {
      "cell_type": "code",
      "source": [
        "# Split into training data and validation data\n",
        "from sklearn.model_selection import train_test_split\n",
        "\n",
        "X_train, X_val, y_train, y_val = train_test_split(X_train, y_train, test_size=0.2)\n",
        "print(X_train.shape)\n",
        "print(X_val.shape)"
      ],
      "metadata": {
        "colab": {
          "base_uri": "https://localhost:8080/"
        },
        "id": "o3SqiMr4PTat",
        "outputId": "510336ae-d619-41b7-dbc4-ab9edb7a3ccb"
      },
      "execution_count": 51,
      "outputs": [
        {
          "output_type": "stream",
          "name": "stdout",
          "text": [
            "(48000, 784)\n",
            "(12000, 784)\n"
          ]
        }
      ]
    },
    {
      "cell_type": "code",
      "source": [
        "# One-hot encoding of correct label value\n",
        "from sklearn.preprocessing import OneHotEncoder\n",
        "\n",
        "enc = OneHotEncoder(handle_unknown='ignore', sparse=False)\n",
        "y_train_one_hot = enc.fit_transform(y_train[:, np.newaxis])\n",
        "y_val_one_hot = enc.transform(y_val[:, np.newaxis])\n",
        "print(y_train.shape) # (60000,)\n",
        "print(y_train_one_hot.shape) # (60000, 10)\n",
        "print(y_train_one_hot.dtype) # float64"
      ],
      "metadata": {
        "colab": {
          "base_uri": "https://localhost:8080/"
        },
        "id": "BsWc81ry9xvu",
        "outputId": "9410019a-f53c-48b3-baa8-c42fc4659c60"
      },
      "execution_count": 52,
      "outputs": [
        {
          "output_type": "stream",
          "name": "stdout",
          "text": [
            "(48000,)\n",
            "(48000, 10)\n",
            "float64\n"
          ]
        }
      ]
    },
    {
      "cell_type": "code",
      "source": [
        "# Mini-batch processing class\n",
        "class GetMiniBatch:\n",
        "    \"\"\"\n",
        "    Iterator to get the mini-batch\n",
        "\n",
        "    Parameters\n",
        "    ----------\n",
        "    X : ndarray of the following form, shape (n_samples, n_features)\n",
        "      Training data\n",
        "    y : ndarray of the following form, shape (n_samples, 1)\n",
        "      correct value\n",
        "    batch_size : int\n",
        "      Batch Size\n",
        "    seed : int\n",
        "      Seeding random numbers in NumPy\n",
        "    \"\"\"\n",
        "    def __init__(self, X, y, batch_size = 20, seed=None):\n",
        "        self.batch_size = batch_size\n",
        "        np.random.seed(seed)\n",
        "        shuffle_index = np.random.permutation(np.arange(X.shape[0]))\n",
        "        self._X = X[shuffle_index]\n",
        "        self._y = y[shuffle_index]\n",
        "        self._stop = np.ceil(X.shape[0]/self.batch_size).astype(np.int)\n",
        "    def __len__(self):\n",
        "        return self._stop\n",
        "    def __getitem__(self,item):\n",
        "        p0 = item*self.batch_size\n",
        "        p1 = item*self.batch_size + self.batch_size\n",
        "        return self._X[p0:p1], self._y[p0:p1]        \n",
        "    def __iter__(self):\n",
        "        self._counter = 0\n",
        "        return self\n",
        "    def __next__(self):\n",
        "        if self._counter >= self._stop:\n",
        "            raise StopIteration()\n",
        "        p0 = self._counter*self.batch_size\n",
        "        p1 = self._counter*self.batch_size + self.batch_size\n",
        "        self._counter += 1\n",
        "        return self._X[p0:p1], self._y[p0:p1]"
      ],
      "metadata": {
        "id": "Vuz2e-gKPAXe"
      },
      "execution_count": 53,
      "outputs": []
    },
    {
      "cell_type": "code",
      "source": [
        "# Mini-batch processing\n",
        "get_mini_batch = GetMiniBatch(X_train, y_train, batch_size=20)\n",
        "print(len(get_mini_batch)) # 2400\n",
        "print(get_mini_batch[5]) # Can get the fifth mini-batch.\n",
        "\n",
        "for mini_X_train, mini_y_train in get_mini_batch:\n",
        "    # You can use a mini-batch within this for statement\n",
        "    pass"
      ],
      "metadata": {
        "colab": {
          "base_uri": "https://localhost:8080/"
        },
        "id": "Xu3Yc67tPDR-",
        "outputId": "5fe313a5-c560-4c70-ed07-1290584d7ed8"
      },
      "execution_count": 54,
      "outputs": [
        {
          "output_type": "stream",
          "name": "stdout",
          "text": [
            "2400\n",
            "(array([[0., 0., 0., ..., 0., 0., 0.],\n",
            "       [0., 0., 0., ..., 0., 0., 0.],\n",
            "       [0., 0., 0., ..., 0., 0., 0.],\n",
            "       ...,\n",
            "       [0., 0., 0., ..., 0., 0., 0.],\n",
            "       [0., 0., 0., ..., 0., 0., 0.],\n",
            "       [0., 0., 0., ..., 0., 0., 0.]]), array([6, 6, 4, 7, 3, 6, 6, 2, 1, 1, 0, 2, 5, 0, 4, 8, 3, 1, 4, 4],\n",
            "      dtype=uint8))\n"
          ]
        },
        {
          "output_type": "stream",
          "name": "stderr",
          "text": [
            "/usr/local/lib/python3.7/dist-packages/ipykernel_launcher.py:23: DeprecationWarning: `np.int` is a deprecated alias for the builtin `int`. To silence this warning, use `int` by itself. Doing this will not modify any behavior and is safe. When replacing `np.int`, you may wish to use e.g. `np.int64` or `np.int32` to specify the precision. If you wish to review your current use, check the release note link for additional information.\n",
            "Deprecated in NumPy 1.20; for more details and guidance: https://numpy.org/devdocs/release/1.20.0-notes.html#deprecations\n"
          ]
        }
      ]
    },
    {
      "cell_type": "code",
      "source": [
        "# Scratch Neural Network\n",
        "class ScratchSimpleNeuralNetrowkClassifier():\n",
        "    \"\"\"\n",
        "    A simple three-layer neural network classifier\n",
        "    Parameters\n",
        "    ----------\n",
        "\n",
        "    Attributes\n",
        "    ----------\n",
        "    \"\"\"\n",
        "    def __init__(self, n_epoch=50, n_features=784, n_nodes1=400, n_nodes2=200, \n",
        "                 n_output=10, sigma=0.01, n_batch=20, \n",
        "                 activate_function_key='tanh', lr = 0.01, verbose = False):\n",
        "        \n",
        "        self.n_epoch = n_epoch\n",
        "        self.n_features = n_features\n",
        "        self.n_nodes1 = n_nodes1\n",
        "        self.n_nodes2 = n_nodes2\n",
        "        self.n_output = n_output\n",
        "        self.sigma = sigma\n",
        "        self.n_batch = n_batch\n",
        "        self.activate_function_key = activate_function_key\n",
        "        self.lr = lr\n",
        "        self.verbose = verbose\n",
        "        \n",
        "    def initial_weight(self):\n",
        "        self.W1 = self.sigma * np.random.randn(self.n_features, self.n_nodes1)\n",
        "        self.b1 = np.zeros(self.n_nodes1)\n",
        "        self.W2 = self.sigma * np.random.randn(self.n_nodes1, self.n_nodes2)\n",
        "        self.b2 = np.zeros(self.n_nodes2)\n",
        "        self.W3 = self.sigma * np.random.randn(self.n_nodes2, self.n_output)\n",
        "        self.b3 = np.zeros(self.n_output)\n",
        "        \n",
        "    def activation_function(self,X):\n",
        "        if self.activate_function_key == 'sigmoid':\n",
        "            return 1/(1+np.exp(-X))\n",
        "        \n",
        "        elif self.activate_function_key == 'tanh':\n",
        "            return np.tanh(X)\n",
        "    \n",
        "    def softmax(self,X):\n",
        "        \n",
        "        return np.exp(X-np.max(X))/np.sum(np.exp(X-np.max(X)),axis=1,keepdims=True)\n",
        "    \n",
        "    def loss_function(self,y,yt):\n",
        "        delta = 1e-7\n",
        "        return -np.mean(yt*np.log(y+delta))\n",
        "    \n",
        "    def gradient_descent(self,X,y,yt):\n",
        "        \n",
        "            # 3rd layer\n",
        "            delta_a3 = (y-yt)/self.n_batch\n",
        "            delta_b3 = np.sum(delta_a3,axis=0)\n",
        "            delta_W3 = np.dot(self.z2.T,delta_a3)\n",
        "            delta_z2 = np.dot(delta_a3,self.W3.T)\n",
        "        \n",
        "            self.W3 -= self.lr*delta_W3\n",
        "            self.b3 -= self.lr*delta_b3\n",
        "        \n",
        "            # 2nd layer\n",
        "            if self.activate_function_key == 'sigmoid':\n",
        "                delta_a2 = delta_z2*(1-self.activation_function(self.z2))*self.activation_function(self.z2)\n",
        "            \n",
        "            elif self.activate_function_key == 'tanh':\n",
        "                delta_a2 = delta_z2*(1-np.tanh(self.z2)**2)\n",
        "            \n",
        "            delta_b2 = np.sum(delta_a2,axis=0)\n",
        "            delta_W2 = np.dot(self.z1.T,delta_a2)\n",
        "            delta_z1 = np.dot(delta_a2,self.W2.T)\n",
        "        \n",
        "            self.W2 -= self.lr*delta_W2\n",
        "            self.b2 -= self.lr*delta_b2\n",
        "        \n",
        "            # 1st layer\n",
        "            if self.activate_function_key == 'sigmoid':\n",
        "                delta_a1 = delta_z1*(1-self.activation_function(self.z1))*self.activation_function(self.z1)\n",
        "            \n",
        "            elif self.activate_function_key == 'tanh':\n",
        "                delta_a1 = delta_z1*(1-np.tanh(self.z1)**2)\n",
        "                \n",
        "            delta_b1 = np.sum(delta_a1,axis=0)\n",
        "            delta_W1 = np.dot(X.T,delta_a1)\n",
        "        \n",
        "            self.W1 -= self.lr*delta_W1\n",
        "            self.b1 -= self.lr*delta_b1\n",
        "                \n",
        "    def fit(self, X, y, X_val=False, y_val=False):\n",
        "        \"\"\"\n",
        "        Train a neural network classifier.。\n",
        "\n",
        "        Parameters\n",
        "        ----------\n",
        "        X : ndarray of the following form, shape (n_samples, n_features)\n",
        "            Features of training data\n",
        "        y : ndarray of the following form, shape (n_samples, )\n",
        "            Correct answer value of training data\n",
        "        X_val : ndarray of the following form, shape (n_samples, n_features)\n",
        "            Features of validation data\n",
        "        y_val : ndarray of the following form, shape (n_samples, )\n",
        "            Correct value of validation data\n",
        "        \"\"\"\n",
        "        # Initialize weights\n",
        "        self.initial_weight()\n",
        "        \n",
        "        # List to record the loss_function for each epoch\n",
        "        self.log_loss = []\n",
        "        self.log_loss_val = []\n",
        "        \n",
        "        # Evaluate the estimation of Train data per epoch: Accuracy\n",
        "        self.log_acc = []\n",
        "        self.log_acc_val = []\n",
        "        \n",
        "        for epoch in range(self.n_epoch):\n",
        "            # Mini-batch processing\n",
        "            get_mini_batch = GetMiniBatch(X, y, batch_size=self.n_batch)\n",
        "            \n",
        "            self.loss = 0\n",
        "            self.true_y = np.array([])\n",
        "            self.pred_y = np.array([])\n",
        "            \n",
        "            for mini_X_train, mini_y_train in get_mini_batch:\n",
        "            \n",
        "                # 1st layer\n",
        "                self.z1 = self.activation_function(np.dot(mini_X_train,self.W1) + self.b1)\n",
        "            \n",
        "                # 2nd layer\n",
        "                self.z2 = self.activation_function(np.dot(self.z1,self.W2) + self.b2)\n",
        "            \n",
        "                # 3rd layer (softmax function)\n",
        "                yhat = self.softmax(np.dot(self.z2,self.W3) + self.b3)\n",
        "                \n",
        "                # Backpropagation (stochastic gradient descent method)）\n",
        "                self.gradient_descent(mini_X_train,yhat,mini_y_train)\n",
        "                \n",
        "                # Record correct and estimated values for mini-batch data\n",
        "                self.true_y = np.concatenate([self.true_y,np.argmax(mini_y_train,axis=1)])\n",
        "                self.pred_y = np.concatenate([self.pred_y,np.argmax(yhat,axis=1)])\n",
        "                \n",
        "                # Loss function\n",
        "                self.loss += self.loss_function(yhat,mini_y_train)\n",
        "            \n",
        "            # Record the loss function for each epoch\n",
        "            self.log_loss.append(self.loss/len(get_mini_batch))\n",
        "            \n",
        "            # Accuracy\n",
        "            acc = accuracy_score(self.true_y, self.pred_y)\n",
        "            self.log_acc.append(acc)\n",
        "            \n",
        "            # Calculate once Val data has been entered\n",
        "            if (type(X_val) != bool):\n",
        "                # 1st layer\n",
        "                self.z1_val = self.activation_function(np.dot(X_val,self.W1) + self.b1)\n",
        "            \n",
        "                # 2nd layer\n",
        "                self.z2_val = self.activation_function(np.dot(self.z1_val,self.W2) + self.b2)\n",
        "            \n",
        "                # 3rd layer (softmax function)\n",
        "                yhat_val = self.softmax(np.dot(self.z2_val,self.W3) + self.b3)\n",
        "                \n",
        "                # Loss function\n",
        "                self.loss_val = self.loss_function(yhat_val,y_val)\n",
        "                self.log_loss_val.append(self.loss_val)\n",
        "                \n",
        "                # Accuracy\n",
        "                \n",
        "                acc_val = accuracy_score(np.argmax(y_val,axis=1), np.argmax(yhat_val,axis=1))\n",
        "                self.log_acc_val.append(acc_val)\n",
        "            \n",
        "            #When verbose is set to true, output the learning process and other information.\n",
        "            if self.verbose:\n",
        "                print('epoch:{:>3} loss:{:>8,.3f} acc:{:>5,.3f}'.format(epoch,self.loss/self.n_batch,acc))\n",
        "            \n",
        "    def predict(self, X):\n",
        "        \"\"\"\n",
        "        Estimate using a neural network classifier.。\n",
        "\n",
        "        Parameters\n",
        "        ----------\n",
        "        X : ndarray of the following form, shape (n_samples, n_features)\n",
        "            Sample\n",
        "\n",
        "        Returns\n",
        "        -------\n",
        "            ndarray of the following form, shape (n_samples, 1)\n",
        "            Estimation results\n",
        "        \"\"\"\n",
        "        # 1st layer\n",
        "        self.pred_z1 = self.activation_function(np.dot(X,self.W1) + self.b1)\n",
        "            \n",
        "        # 2nd layer\n",
        "        self.pred_z2 = self.activation_function(np.dot(self.pred_z1,self.W2) + self.b2)\n",
        "        \n",
        "        return np.argmax(np.dot(self.pred_z2,self.W3) + self.b3, axis=1)"
      ],
      "metadata": {
        "id": "uYusua57O3wA"
      },
      "execution_count": 55,
      "outputs": []
    },
    {
      "cell_type": "markdown",
      "source": [
        "【Problem 1】Create the code to determine the initial values of the weights"
      ],
      "metadata": {
        "id": "I4gmRYIKNjVx"
      }
    },
    {
      "cell_type": "code",
      "source": [
        "# Initial value of weight\n",
        "n_features = 784\n",
        "n_nodes1 = 400\n",
        "n_nodes2 = 200\n",
        "n_output =10\n",
        "\n",
        "# Standard deviation of Gaussian distribution\n",
        "sigma = 0.01 \n",
        "W1 = sigma * np.random.randn(n_features, n_nodes1)\n",
        "print('W1',W1.shape)"
      ],
      "metadata": {
        "id": "6sUZkmHu-GIo",
        "colab": {
          "base_uri": "https://localhost:8080/"
        },
        "outputId": "d2c85126-82f1-4091-c6bf-07f1cb03f5a4"
      },
      "execution_count": 56,
      "outputs": [
        {
          "output_type": "stream",
          "name": "stdout",
          "text": [
            "W1 (784, 400)\n"
          ]
        }
      ]
    },
    {
      "cell_type": "code",
      "source": [
        "W1 = sigma * np.random.randn(n_features, n_nodes1)\n",
        "b1 = sigma * np.random.randn(n_nodes1)\n",
        "W2 = sigma * np.random.randn(n_nodes1, n_nodes2)\n",
        "b2 = sigma * np.random.randn(n_nodes2)\n",
        "W3 = sigma * np.random.randn(n_nodes2, n_output)\n",
        "b3 = sigma * np.random.randn(n_output)\n",
        "\n",
        "print('W1',W1.shape)\n",
        "print('W2',W2.shape)\n",
        "print('W3',W3.shape)\n",
        "print('b1',b1.shape)\n",
        "print('b2',b2.shape)\n",
        "print('b3',b3.shape)"
      ],
      "metadata": {
        "colab": {
          "base_uri": "https://localhost:8080/"
        },
        "id": "NvZsUJZ0NrGC",
        "outputId": "ebe13cb0-182e-454b-9ae1-fa0078bb88e6"
      },
      "execution_count": 57,
      "outputs": [
        {
          "output_type": "stream",
          "name": "stdout",
          "text": [
            "W1 (784, 400)\n",
            "W2 (400, 200)\n",
            "W3 (200, 10)\n",
            "b1 (400,)\n",
            "b2 (200,)\n",
            "b3 (10,)\n"
          ]
        }
      ]
    },
    {
      "cell_type": "markdown",
      "source": [
        "【Problem 2】Implementing Forward Propagation"
      ],
      "metadata": {
        "id": "q7kOYx1lNyBn"
      }
    },
    {
      "cell_type": "code",
      "source": [
        "X = X_train[0:20]"
      ],
      "metadata": {
        "id": "x9INb8KvNurF"
      },
      "execution_count": 58,
      "outputs": []
    },
    {
      "cell_type": "code",
      "source": [
        "# Linear combination of the first layer\n",
        "z1 = np.dot(X,W1)# + b1\n",
        "print('z1.shape:',z1.shape)\n",
        "print(z1)"
      ],
      "metadata": {
        "colab": {
          "base_uri": "https://localhost:8080/"
        },
        "id": "0rXihJKzN0GU",
        "outputId": "1b71837a-d81a-438c-f5d9-3f71765482b8"
      },
      "execution_count": 59,
      "outputs": [
        {
          "output_type": "stream",
          "name": "stdout",
          "text": [
            "z1.shape: (20, 400)\n",
            "[[ 0.13749778 -0.19070315 -0.02626912 ...  0.02904882  0.15179103\n",
            "   0.1909522 ]\n",
            " [ 0.13481647 -0.00642852 -0.05299622 ...  0.07191606  0.09461432\n",
            "  -0.100933  ]\n",
            " [ 0.07256482 -0.12694961  0.00908503 ... -0.12059174 -0.01361922\n",
            "   0.19475775]\n",
            " ...\n",
            " [ 0.13214172 -0.16938497 -0.044017   ...  0.04018174  0.1251121\n",
            "   0.01353298]\n",
            " [ 0.19479469 -0.1560178   0.22064804 ...  0.02614014 -0.0395107\n",
            "   0.15186824]\n",
            " [ 0.07922762 -0.02079644 -0.07355451 ... -0.10083866 -0.04885305\n",
            "   0.1536463 ]]\n"
          ]
        }
      ]
    },
    {
      "cell_type": "code",
      "source": [
        "# Activation function for the first layer\n",
        "sig1 = 1/(1+np.exp(-z1))\n",
        "print('sig1.shape:',sig1.shape)\n",
        "print(sig1)"
      ],
      "metadata": {
        "colab": {
          "base_uri": "https://localhost:8080/"
        },
        "id": "3DdfvphXN6Xd",
        "outputId": "1e8e5e65-7c19-486c-e3b6-496a3f633b1c"
      },
      "execution_count": 60,
      "outputs": [
        {
          "output_type": "stream",
          "name": "stdout",
          "text": [
            "sig1.shape: (20, 400)\n",
            "[[0.53432039 0.45246818 0.4934331  ... 0.5072617  0.53787506 0.54759352]\n",
            " [0.53365316 0.49839288 0.48675404 ... 0.51797127 0.52363595 0.47478815]\n",
            " [0.51813325 0.46830515 0.50227124 ... 0.46988855 0.49659525 0.54853612]\n",
            " ...\n",
            " [0.53298744 0.45775471 0.48899753 ... 0.51004408 0.53123729 0.50338319]\n",
            " [0.54854526 0.46107448 0.55493929 ... 0.50653466 0.49012361 0.53789425]\n",
            " [0.51979655 0.49480108 0.48161966 ... 0.47481168 0.48778917 0.53833619]]\n"
          ]
        }
      ]
    },
    {
      "cell_type": "code",
      "source": [
        "# Linear combination of the second layer\n",
        "z2 = np.dot(sig1,W2) + b2\n",
        "print('z2.shape:',z2.shape)\n",
        "print(z2)\n"
      ],
      "metadata": {
        "colab": {
          "base_uri": "https://localhost:8080/"
        },
        "id": "tH8Jbn88N8Yx",
        "outputId": "0f78643d-3aca-4c80-da2e-2d0f1ae9ec9b"
      },
      "execution_count": 61,
      "outputs": [
        {
          "output_type": "stream",
          "name": "stdout",
          "text": [
            "z2.shape: (20, 200)\n",
            "[[ 0.0824229   0.04256144 -0.13678027 ... -0.01374205  0.03493914\n",
            "   0.09721402]\n",
            " [ 0.07937431  0.04318334 -0.13672319 ... -0.00773169  0.03635739\n",
            "   0.09639327]\n",
            " [ 0.08215042  0.04862838 -0.13316305 ... -0.00992917  0.04010321\n",
            "   0.09718111]\n",
            " ...\n",
            " [ 0.07518004  0.04195083 -0.14022183 ... -0.0151435   0.04141123\n",
            "   0.09896352]\n",
            " [ 0.08235404  0.04256734 -0.1383939  ... -0.01341341  0.04013059\n",
            "   0.10225433]\n",
            " [ 0.08083998  0.04495457 -0.13824667 ... -0.00456395  0.03614244\n",
            "   0.09629062]]\n"
          ]
        }
      ]
    },
    {
      "cell_type": "code",
      "source": [
        "# Activation function for the second layer\n",
        "sig2 = 1/(1+np.exp(-z2))\n",
        "print('sig2.shape:',sig2.shape)\n",
        "print(sig2)"
      ],
      "metadata": {
        "colab": {
          "base_uri": "https://localhost:8080/"
        },
        "id": "ueb5WsNbN_g-",
        "outputId": "9258adc0-36e0-423f-82d6-3af11dde0288"
      },
      "execution_count": 62,
      "outputs": [
        {
          "output_type": "stream",
          "name": "stdout",
          "text": [
            "sig2.shape: (20, 200)\n",
            "[[0.52059407 0.51063875 0.46585815 ... 0.49656454 0.5087339  0.52428438]\n",
            " [0.51983317 0.51079416 0.46587235 ... 0.49806709 0.50908835 0.52407968]\n",
            " [0.52052606 0.5121547  0.46675834 ... 0.49751773 0.51002446 0.52427618]\n",
            " ...\n",
            " [0.51878616 0.51048617 0.46500187 ... 0.4962142  0.51035133 0.52472071]\n",
            " [0.52057688 0.51064023 0.46545664 ... 0.4966467  0.5100313  0.52554133]\n",
            " [0.520199   0.51123675 0.46549327 ... 0.49885902 0.50903463 0.52405407]]\n"
          ]
        }
      ]
    },
    {
      "cell_type": "code",
      "source": [
        "# 3rd layer linear combination\n",
        "z3 = np.dot(sig2,W3) + b3\n",
        "print('z3.shape:',z3.shape)\n",
        "print(z3)"
      ],
      "metadata": {
        "colab": {
          "base_uri": "https://localhost:8080/"
        },
        "id": "GtZJ-B3KOCsV",
        "outputId": "e9692f03-6339-45f8-8798-cf13b4d4c135"
      },
      "execution_count": 63,
      "outputs": [
        {
          "output_type": "stream",
          "name": "stdout",
          "text": [
            "z3.shape: (20, 10)\n",
            "[[-7.62327983e-02  3.25510915e-04  1.57625937e-01 -4.98673435e-02\n",
            "  -1.02643469e-01 -3.22479283e-02  1.49102027e-01 -1.51757736e-01\n",
            "   2.68747016e-02  4.64703853e-02]\n",
            " [-7.61198297e-02  6.98612573e-05  1.57596105e-01 -4.98648734e-02\n",
            "  -1.02614090e-01 -3.23284877e-02  1.49385419e-01 -1.51397930e-01\n",
            "   2.69848934e-02  4.64766403e-02]\n",
            " [-7.64894894e-02  2.45001733e-04  1.57260479e-01 -4.99009737e-02\n",
            "  -1.02583208e-01 -3.22989762e-02  1.49083002e-01 -1.51786801e-01\n",
            "   2.67014472e-02  4.62168172e-02]\n",
            " [-7.63100389e-02  2.46156757e-04  1.57625837e-01 -4.98200278e-02\n",
            "  -1.02483029e-01 -3.24422900e-02  1.49187927e-01 -1.51735076e-01\n",
            "   2.68122724e-02  4.63351670e-02]\n",
            " [-7.62196447e-02  2.08156927e-04  1.57712372e-01 -4.98118851e-02\n",
            "  -1.02508976e-01 -3.26664091e-02  1.49168045e-01 -1.51527086e-01\n",
            "   2.67480398e-02  4.61559230e-02]\n",
            " [-7.64515168e-02  2.19645020e-04  1.57318907e-01 -4.97265563e-02\n",
            "  -1.02560314e-01 -3.23478806e-02  1.49154870e-01 -1.51602824e-01\n",
            "   2.66138017e-02  4.62514506e-02]\n",
            " [-7.64647037e-02  2.30037085e-04  1.57352487e-01 -4.98293302e-02\n",
            "  -1.02807668e-01 -3.24293338e-02  1.49176449e-01 -1.52024197e-01\n",
            "   2.67312017e-02  4.62490791e-02]\n",
            " [-7.63316844e-02  1.95291447e-04  1.57312084e-01 -4.99111531e-02\n",
            "  -1.02708178e-01 -3.24992623e-02  1.49150306e-01 -1.51835701e-01\n",
            "   2.69322278e-02  4.64767058e-02]\n",
            " [-7.63845345e-02  1.89044677e-04  1.57542107e-01 -4.98280019e-02\n",
            "  -1.02590522e-01 -3.22009841e-02  1.49096954e-01 -1.51644597e-01\n",
            "   2.68678010e-02  4.64414220e-02]\n",
            " [-7.64789957e-02  8.95756775e-05  1.57377751e-01 -4.99554499e-02\n",
            "  -1.02596707e-01 -3.24192584e-02  1.49028942e-01 -1.51804217e-01\n",
            "   2.69786542e-02  4.62423103e-02]\n",
            " [-7.62882994e-02  9.31287372e-05  1.57509844e-01 -4.98671143e-02\n",
            "  -1.02672959e-01 -3.26459309e-02  1.49112305e-01 -1.51577535e-01\n",
            "   2.67983869e-02  4.62489916e-02]\n",
            " [-7.63793664e-02 -5.72012627e-05  1.57165495e-01 -5.00025539e-02\n",
            "  -1.02599730e-01 -3.26212766e-02  1.49259188e-01 -1.51825182e-01\n",
            "   2.69014485e-02  4.63509472e-02]\n",
            " [-7.61337645e-02  2.37255415e-04  1.57620777e-01 -4.99452364e-02\n",
            "  -1.02677423e-01 -3.23530848e-02  1.49047324e-01 -1.51803237e-01\n",
            "   2.65513177e-02  4.65331638e-02]\n",
            " [-7.63714751e-02  2.00777965e-04  1.57296290e-01 -5.00794013e-02\n",
            "  -1.02547070e-01 -3.23269199e-02  1.49295456e-01 -1.51662268e-01\n",
            "   2.65613835e-02  4.61908005e-02]\n",
            " [-7.65039611e-02  3.69029524e-04  1.57536621e-01 -4.98383471e-02\n",
            "  -1.02726807e-01 -3.25693807e-02  1.49208591e-01 -1.51799999e-01\n",
            "   2.65259249e-02  4.64469111e-02]\n",
            " [-7.64013060e-02  2.58466555e-04  1.57611342e-01 -4.98661069e-02\n",
            "  -1.02683633e-01 -3.23574306e-02  1.49137238e-01 -1.51764548e-01\n",
            "   2.69063598e-02  4.63890004e-02]\n",
            " [-7.64191647e-02  6.86961020e-05  1.57653253e-01 -4.96286253e-02\n",
            "  -1.02383940e-01 -3.21215396e-02  1.49018308e-01 -1.51637620e-01\n",
            "   2.69310307e-02  4.64769510e-02]\n",
            " [-7.62698485e-02  8.35109443e-05  1.57234019e-01 -4.99516087e-02\n",
            "  -1.02589463e-01 -3.24484425e-02  1.49009164e-01 -1.51652095e-01\n",
            "   2.68114109e-02  4.66427210e-02]\n",
            " [-7.64904197e-02  2.12001175e-04  1.57415025e-01 -4.99390834e-02\n",
            "  -1.02616129e-01 -3.24856874e-02  1.49107107e-01 -1.51531503e-01\n",
            "   2.67960359e-02  4.64026872e-02]\n",
            " [-7.62945106e-02  9.54474862e-05  1.57731187e-01 -4.98301841e-02\n",
            "  -1.02456058e-01 -3.22074602e-02  1.49110601e-01 -1.51695359e-01\n",
            "   2.68190759e-02  4.63854995e-02]]\n"
          ]
        }
      ]
    },
    {
      "cell_type": "code",
      "source": [
        "# 3rd layer activation function (softmax function)\n",
        "sfmax = np.zeros([len(X),10])\n",
        "for i in range(20):\n",
        "    sfmax[i] = np.exp(z3[i])/np.sum(np.exp(z3[i]),axis=0)\n",
        "print('sfmax.shape:',sfmax.shape)\n",
        "print(sfmax)\n",
        "print(np.sum(sfmax))"
      ],
      "metadata": {
        "colab": {
          "base_uri": "https://localhost:8080/"
        },
        "id": "BbH1SAStOEZr",
        "outputId": "7d2e0f67-eaab-405f-becc-bf243a43bb6d"
      },
      "execution_count": 64,
      "outputs": [
        {
          "output_type": "stream",
          "name": "stdout",
          "text": [
            "sfmax.shape: (20, 10)\n",
            "[[0.09252571 0.09988753 0.11690309 0.09499764 0.09011403 0.09668627\n",
            "  0.11591085 0.08579508 0.10257498 0.10460483]\n",
            " [0.09253133 0.09985678 0.1168935  0.09499291 0.09011197 0.09667343\n",
            "  0.11593765 0.08582147 0.10258093 0.10460002]\n",
            " [0.09251364 0.09989209 0.11687512 0.09500643 0.09013083 0.09669354\n",
            "  0.11592327 0.08580341 0.10257015 0.10459151]\n",
            " [0.09252074 0.09988196 0.11690583 0.09500437 0.09013061 0.09666976\n",
            "  0.11592354 0.08579904 0.10257099 0.10459315]\n",
            " [0.0925308  0.09987999 0.11691809 0.09500688 0.09012993 0.09664987\n",
            "  0.11592336 0.08581846 0.10256629 0.10457632]\n",
            " [0.09251341 0.09988552 0.11687722 0.09501916 0.09012925 0.0966849\n",
            "  0.11592691 0.08581572 0.10255701 0.1045909 ]\n",
            " [0.09251756 0.09989236 0.11688793 0.09501491 0.09011219 0.09668263\n",
            "  0.11593615 0.08578455 0.10257501 0.10459672]\n",
            " [0.09252467 0.09988328 0.11687665 0.0950018  0.0901161  0.09667045\n",
            "  0.11592661 0.08579591 0.10258987 0.10461466]\n",
            " [0.09251343 0.0998758  0.11689551 0.09500318 0.09012052 0.09669265\n",
            "  0.11591247 0.08580642 0.10257623 0.10460379]\n",
            " [0.09251419 0.09987612 0.11688831 0.09500083 0.09012922 0.09668148\n",
            "  0.11591649 0.08580153 0.10259813 0.10459371]\n",
            " [0.09252958 0.09987404 0.1169009  0.09500691 0.09012015 0.09665721\n",
            "  0.11592333 0.08581889 0.10257714 0.10459186]\n",
            " [0.09252583 0.09986408 0.11686656 0.09499884 0.0901313  0.09666448\n",
            "  0.11594622 0.08580198 0.1025929  0.10460781]\n",
            " [0.09254021 0.09988448 0.11690923 0.09499572 0.09011617 0.09668168\n",
            "  0.1159112  0.08579612 0.10254773 0.10461744]\n",
            " [0.0925234  0.09988643 0.11687784 0.09498829 0.09013296 0.09668962\n",
            "  0.11594645 0.08581302 0.1025545  0.10458748]\n",
            " [0.09250955 0.09990152 0.11690393 0.09500956 0.09011522 0.09666452\n",
            "  0.11593439 0.08579973 0.10254911 0.10461247]\n",
            " [0.09251381 0.09988481 0.11690604 0.09500154 0.090114   0.09667954\n",
            "  0.11591955 0.08579791 0.10258232 0.10460049]\n",
            " [0.09250609 0.09985932 0.11690328 0.09501788 0.09013511 0.09669601\n",
            "  0.11589817 0.08580318 0.10257813 0.10460283]\n",
            " [0.09253025 0.09987196 0.11686734 0.09499781 0.09012666 0.09667521\n",
            "  0.11591007 0.08581153 0.10257732 0.10463187]\n",
            " [0.09250949 0.09988441 0.11688806 0.09499864 0.09012391 0.09667124\n",
            "  0.11592098 0.08582155 0.10257535 0.10460636]\n",
            " [0.09252003 0.09986458 0.11691543 0.09500119 0.09013095 0.09669021\n",
            "  0.11591188 0.08580045 0.1025693  0.10459598]]\n",
            "20.0\n"
          ]
        }
      ]
    },
    {
      "cell_type": "code",
      "source": [
        "# Calculate without a for statement\n",
        "softmax = np.exp(z3).T/np.sum(np.exp(z3),axis=1)\n",
        "print('softmax.shape:',softmax.shape)\n",
        "print(softmax.T)\n",
        "print(np.sum(softmax))"
      ],
      "metadata": {
        "colab": {
          "base_uri": "https://localhost:8080/"
        },
        "id": "3pa-NlxSOGtN",
        "outputId": "80d06ea0-0e56-42f8-b1be-a4ff49371f59"
      },
      "execution_count": 65,
      "outputs": [
        {
          "output_type": "stream",
          "name": "stdout",
          "text": [
            "softmax.shape: (10, 20)\n",
            "[[0.09252571 0.09988753 0.11690309 0.09499764 0.09011403 0.09668627\n",
            "  0.11591085 0.08579508 0.10257498 0.10460483]\n",
            " [0.09253133 0.09985678 0.1168935  0.09499291 0.09011197 0.09667343\n",
            "  0.11593765 0.08582147 0.10258093 0.10460002]\n",
            " [0.09251364 0.09989209 0.11687512 0.09500643 0.09013083 0.09669354\n",
            "  0.11592327 0.08580341 0.10257015 0.10459151]\n",
            " [0.09252074 0.09988196 0.11690583 0.09500437 0.09013061 0.09666976\n",
            "  0.11592354 0.08579904 0.10257099 0.10459315]\n",
            " [0.0925308  0.09987999 0.11691809 0.09500688 0.09012993 0.09664987\n",
            "  0.11592336 0.08581846 0.10256629 0.10457632]\n",
            " [0.09251341 0.09988552 0.11687722 0.09501916 0.09012925 0.0966849\n",
            "  0.11592691 0.08581572 0.10255701 0.1045909 ]\n",
            " [0.09251756 0.09989236 0.11688793 0.09501491 0.09011219 0.09668263\n",
            "  0.11593615 0.08578455 0.10257501 0.10459672]\n",
            " [0.09252467 0.09988328 0.11687665 0.0950018  0.0901161  0.09667045\n",
            "  0.11592661 0.08579591 0.10258987 0.10461466]\n",
            " [0.09251343 0.0998758  0.11689551 0.09500318 0.09012052 0.09669265\n",
            "  0.11591247 0.08580642 0.10257623 0.10460379]\n",
            " [0.09251419 0.09987612 0.11688831 0.09500083 0.09012922 0.09668148\n",
            "  0.11591649 0.08580153 0.10259813 0.10459371]\n",
            " [0.09252958 0.09987404 0.1169009  0.09500691 0.09012015 0.09665721\n",
            "  0.11592333 0.08581889 0.10257714 0.10459186]\n",
            " [0.09252583 0.09986408 0.11686656 0.09499884 0.0901313  0.09666448\n",
            "  0.11594622 0.08580198 0.1025929  0.10460781]\n",
            " [0.09254021 0.09988448 0.11690923 0.09499572 0.09011617 0.09668168\n",
            "  0.1159112  0.08579612 0.10254773 0.10461744]\n",
            " [0.0925234  0.09988643 0.11687784 0.09498829 0.09013296 0.09668962\n",
            "  0.11594645 0.08581302 0.1025545  0.10458748]\n",
            " [0.09250955 0.09990152 0.11690393 0.09500956 0.09011522 0.09666452\n",
            "  0.11593439 0.08579973 0.10254911 0.10461247]\n",
            " [0.09251381 0.09988481 0.11690604 0.09500154 0.090114   0.09667954\n",
            "  0.11591955 0.08579791 0.10258232 0.10460049]\n",
            " [0.09250609 0.09985932 0.11690328 0.09501788 0.09013511 0.09669601\n",
            "  0.11589817 0.08580318 0.10257813 0.10460283]\n",
            " [0.09253025 0.09987196 0.11686734 0.09499781 0.09012666 0.09667521\n",
            "  0.11591007 0.08581153 0.10257732 0.10463187]\n",
            " [0.09250949 0.09988441 0.11688806 0.09499864 0.09012391 0.09667124\n",
            "  0.11592098 0.08582155 0.10257535 0.10460636]\n",
            " [0.09252003 0.09986458 0.11691543 0.09500119 0.09013095 0.09669021\n",
            "  0.11591188 0.08580045 0.1025693  0.10459598]]\n",
            "20.0\n"
          ]
        }
      ]
    },
    {
      "cell_type": "code",
      "source": [
        "# without a for statement - part2\n",
        "softmax = np.exp(z3)/np.sum(np.exp(z3),axis=1,keepdims=True)\n",
        "print('softmax.shape:',softmax.shape)\n",
        "print(softmax)\n",
        "print(np.sum(softmax))"
      ],
      "metadata": {
        "colab": {
          "base_uri": "https://localhost:8080/"
        },
        "id": "OvyPFhMPOKBk",
        "outputId": "1920d1d7-9728-4efc-e079-0ab1f0bfd9e5"
      },
      "execution_count": 66,
      "outputs": [
        {
          "output_type": "stream",
          "name": "stdout",
          "text": [
            "softmax.shape: (20, 10)\n",
            "[[0.09252571 0.09988753 0.11690309 0.09499764 0.09011403 0.09668627\n",
            "  0.11591085 0.08579508 0.10257498 0.10460483]\n",
            " [0.09253133 0.09985678 0.1168935  0.09499291 0.09011197 0.09667343\n",
            "  0.11593765 0.08582147 0.10258093 0.10460002]\n",
            " [0.09251364 0.09989209 0.11687512 0.09500643 0.09013083 0.09669354\n",
            "  0.11592327 0.08580341 0.10257015 0.10459151]\n",
            " [0.09252074 0.09988196 0.11690583 0.09500437 0.09013061 0.09666976\n",
            "  0.11592354 0.08579904 0.10257099 0.10459315]\n",
            " [0.0925308  0.09987999 0.11691809 0.09500688 0.09012993 0.09664987\n",
            "  0.11592336 0.08581846 0.10256629 0.10457632]\n",
            " [0.09251341 0.09988552 0.11687722 0.09501916 0.09012925 0.0966849\n",
            "  0.11592691 0.08581572 0.10255701 0.1045909 ]\n",
            " [0.09251756 0.09989236 0.11688793 0.09501491 0.09011219 0.09668263\n",
            "  0.11593615 0.08578455 0.10257501 0.10459672]\n",
            " [0.09252467 0.09988328 0.11687665 0.0950018  0.0901161  0.09667045\n",
            "  0.11592661 0.08579591 0.10258987 0.10461466]\n",
            " [0.09251343 0.0998758  0.11689551 0.09500318 0.09012052 0.09669265\n",
            "  0.11591247 0.08580642 0.10257623 0.10460379]\n",
            " [0.09251419 0.09987612 0.11688831 0.09500083 0.09012922 0.09668148\n",
            "  0.11591649 0.08580153 0.10259813 0.10459371]\n",
            " [0.09252958 0.09987404 0.1169009  0.09500691 0.09012015 0.09665721\n",
            "  0.11592333 0.08581889 0.10257714 0.10459186]\n",
            " [0.09252583 0.09986408 0.11686656 0.09499884 0.0901313  0.09666448\n",
            "  0.11594622 0.08580198 0.1025929  0.10460781]\n",
            " [0.09254021 0.09988448 0.11690923 0.09499572 0.09011617 0.09668168\n",
            "  0.1159112  0.08579612 0.10254773 0.10461744]\n",
            " [0.0925234  0.09988643 0.11687784 0.09498829 0.09013296 0.09668962\n",
            "  0.11594645 0.08581302 0.1025545  0.10458748]\n",
            " [0.09250955 0.09990152 0.11690393 0.09500956 0.09011522 0.09666452\n",
            "  0.11593439 0.08579973 0.10254911 0.10461247]\n",
            " [0.09251381 0.09988481 0.11690604 0.09500154 0.090114   0.09667954\n",
            "  0.11591955 0.08579791 0.10258232 0.10460049]\n",
            " [0.09250609 0.09985932 0.11690328 0.09501788 0.09013511 0.09669601\n",
            "  0.11589817 0.08580318 0.10257813 0.10460283]\n",
            " [0.09253025 0.09987196 0.11686734 0.09499781 0.09012666 0.09667521\n",
            "  0.11591007 0.08581153 0.10257732 0.10463187]\n",
            " [0.09250949 0.09988441 0.11688806 0.09499864 0.09012391 0.09667124\n",
            "  0.11592098 0.08582155 0.10257535 0.10460636]\n",
            " [0.09252003 0.09986458 0.11691543 0.09500119 0.09013095 0.09669021\n",
            "  0.11591188 0.08580045 0.1025693  0.10459598]]\n",
            "20.0\n"
          ]
        }
      ]
    },
    {
      "cell_type": "code",
      "source": [
        "# High parabolic tangent\n",
        "np.tanh(z1)"
      ],
      "metadata": {
        "colab": {
          "base_uri": "https://localhost:8080/"
        },
        "id": "i2AgxCyQOM5W",
        "outputId": "5f442bf4-4af8-4343-d3b1-fd1debc667a5"
      },
      "execution_count": 67,
      "outputs": [
        {
          "output_type": "execute_result",
          "data": {
            "text/plain": [
              "array([[ 0.13663778, -0.18842448, -0.02626308, ...,  0.02904066,\n",
              "         0.15063589,  0.18866468],\n",
              "       [ 0.13400558, -0.00642843, -0.05294666, ...,  0.07179233,\n",
              "         0.094333  , -0.10059164],\n",
              "       [ 0.07243772, -0.126272  ,  0.00908478, ..., -0.12001056,\n",
              "        -0.01361838,  0.19233212],\n",
              "       ...,\n",
              "       [ 0.13137793, -0.16778339, -0.04398859, ...,  0.04016013,\n",
              "         0.12446336,  0.01353216],\n",
              "       [ 0.19236769, -0.1547641 ,  0.21713563, ...,  0.02613419,\n",
              "        -0.03949016,  0.15071135],\n",
              "       [ 0.07906226, -0.02079345, -0.07342215, ..., -0.10049825,\n",
              "        -0.04881422,  0.15244856]])"
            ]
          },
          "metadata": {},
          "execution_count": 67
        }
      ]
    },
    {
      "cell_type": "code",
      "source": [
        "# High parabolic tangent (verification)\n",
        "(np.exp(z1)-np.exp(-z1))/(np.exp(z1)+np.exp(-z1))"
      ],
      "metadata": {
        "colab": {
          "base_uri": "https://localhost:8080/"
        },
        "id": "Nn6O5t_UOPvi",
        "outputId": "02307fd7-8b75-4e4b-e252-0d927825051b"
      },
      "execution_count": 68,
      "outputs": [
        {
          "output_type": "execute_result",
          "data": {
            "text/plain": [
              "array([[ 0.13663778, -0.18842448, -0.02626308, ...,  0.02904066,\n",
              "         0.15063589,  0.18866468],\n",
              "       [ 0.13400558, -0.00642843, -0.05294666, ...,  0.07179233,\n",
              "         0.094333  , -0.10059164],\n",
              "       [ 0.07243772, -0.126272  ,  0.00908478, ..., -0.12001056,\n",
              "        -0.01361838,  0.19233212],\n",
              "       ...,\n",
              "       [ 0.13137793, -0.16778339, -0.04398859, ...,  0.04016013,\n",
              "         0.12446336,  0.01353216],\n",
              "       [ 0.19236769, -0.1547641 ,  0.21713563, ...,  0.02613419,\n",
              "        -0.03949016,  0.15071135],\n",
              "       [ 0.07906226, -0.02079345, -0.07342215, ..., -0.10049825,\n",
              "        -0.04881422,  0.15244856]])"
            ]
          },
          "metadata": {},
          "execution_count": 68
        }
      ]
    },
    {
      "cell_type": "markdown",
      "source": [
        "【Problem 3】Implement the cross-entropy error"
      ],
      "metadata": {
        "id": "NmDhoIvbOU0D"
      }
    },
    {
      "cell_type": "code",
      "source": [
        "y = y_train_one_hot[0:20]\n",
        "loss = -y*np.log(sfmax)/len(y)\n",
        "print('shape:\\n',loss.shape)\n",
        "print(loss)"
      ],
      "metadata": {
        "colab": {
          "base_uri": "https://localhost:8080/"
        },
        "id": "EvPb8jJgOSDw",
        "outputId": "b6d29e9c-3245-4fc9-cade-2346186ea4ac"
      },
      "execution_count": 69,
      "outputs": [
        {
          "output_type": "stream",
          "name": "stdout",
          "text": [
            "shape:\n",
            " (20, 10)\n",
            "[[0.         0.         0.         0.         0.         0.\n",
            "  0.         0.         0.         0.11287828]\n",
            " [0.         0.         0.         0.         0.         0.11682083\n",
            "  0.         0.         0.         0.        ]\n",
            " [0.         0.         0.         0.11769054 0.         0.\n",
            "  0.         0.         0.         0.        ]\n",
            " [0.         0.         0.         0.         0.         0.\n",
            "  0.         0.         0.11386    0.        ]\n",
            " [0.         0.         0.         0.         0.12032515 0.\n",
            "  0.         0.         0.         0.        ]\n",
            " [0.11902009 0.         0.         0.         0.         0.\n",
            "  0.         0.         0.         0.        ]\n",
            " [0.         0.         0.         0.         0.         0.\n",
            "  0.         0.12279582 0.         0.        ]\n",
            " [0.         0.         0.         0.         0.         0.\n",
            "  0.         0.1227892  0.         0.        ]\n",
            " [0.         0.         0.         0.         0.         0.\n",
            "  0.         0.         0.11385745 0.        ]\n",
            " [0.         0.         0.         0.         0.         0.\n",
            "  0.         0.12278592 0.         0.        ]\n",
            " [0.         0.         0.         0.         0.         0.\n",
            "  0.         0.         0.         0.11288448]\n",
            " [0.         0.         0.         0.         0.         0.\n",
            "  0.10773144 0.         0.         0.        ]\n",
            " [0.1190056  0.         0.         0.         0.         0.\n",
            "  0.         0.         0.         0.        ]\n",
            " [0.         0.         0.         0.         0.         0.\n",
            "  0.10773134 0.         0.         0.        ]\n",
            " [0.         0.         0.         0.         0.12033331 0.\n",
            "  0.         0.         0.         0.        ]\n",
            " [0.         0.         0.         0.         0.         0.\n",
            "  0.         0.12278803 0.         0.        ]\n",
            " [0.         0.11519965 0.         0.         0.         0.\n",
            "  0.         0.         0.         0.        ]\n",
            " [0.         0.         0.         0.         0.12032697 0.\n",
            "  0.         0.         0.         0.        ]\n",
            " [0.         0.         0.         0.         0.         0.\n",
            "  0.         0.12277426 0.         0.        ]\n",
            " [0.         0.11519701 0.         0.         0.         0.\n",
            "  0.         0.         0.         0.        ]]\n"
          ]
        }
      ]
    },
    {
      "cell_type": "markdown",
      "source": [
        "【Problem 4】Implementing Backpropagation"
      ],
      "metadata": {
        "id": "is3JMTdzObuV"
      }
    },
    {
      "cell_type": "code",
      "source": [
        "# 3rd layer\n",
        "delta_a3 = sfmax-y\n",
        "delta_b3 = np.sum(delta_a3,axis=0)\n",
        "delta_W3 = np.dot(z2.T,delta_a3)\n",
        "delta_z2 = np.dot(delta_a3,W3.T)\n",
        "print(delta_a3.shape)\n",
        "print(delta_b3.shape)\n",
        "print(delta_W3.shape)\n",
        "print(delta_z2.shape)"
      ],
      "metadata": {
        "colab": {
          "base_uri": "https://localhost:8080/"
        },
        "id": "EcM4XPJiOYnN",
        "outputId": "ca2d2be6-d8dd-492f-f10c-c43ebee5eaab"
      },
      "execution_count": 70,
      "outputs": [
        {
          "output_type": "stream",
          "name": "stdout",
          "text": [
            "(20, 10)\n",
            "(10,)\n",
            "(200, 10)\n",
            "(20, 200)\n"
          ]
        }
      ]
    },
    {
      "cell_type": "code",
      "source": [
        "# 2nd layer\n",
        "delta_a2 = delta_z2*(1-np.tanh(z2)**2)\n",
        "delta_b2 = np.sum(delta_a2,axis=0)\n",
        "delta_W2 = np.dot(z1.T,delta_a2)\n",
        "delta_z1 = np.dot(delta_a2,W2.T)\n",
        "print(delta_a2.shape)\n",
        "print(delta_b2.shape)\n",
        "print(delta_W2.shape)\n",
        "print(delta_z1.shape)"
      ],
      "metadata": {
        "colab": {
          "base_uri": "https://localhost:8080/"
        },
        "id": "mbEYSRW4Oelu",
        "outputId": "75ff8ec5-d5ad-4de4-8cb4-d8e75de38fd0"
      },
      "execution_count": 71,
      "outputs": [
        {
          "output_type": "stream",
          "name": "stdout",
          "text": [
            "(20, 200)\n",
            "(200,)\n",
            "(400, 200)\n",
            "(20, 400)\n"
          ]
        }
      ]
    },
    {
      "cell_type": "code",
      "source": [
        "# 1st layer\n",
        "delta_a1 = delta_z1*(1-np.tanh(z1)**2)\n",
        "delta_b1 = np.sum(delta_a1,axis=0)\n",
        "delta_W1 = np.dot(X.T,delta_a1)\n",
        "print(delta_a1.shape)\n",
        "print(delta_b1.shape)\n",
        "print(delta_W1.shape)"
      ],
      "metadata": {
        "colab": {
          "base_uri": "https://localhost:8080/"
        },
        "id": "UNooJW6rOiev",
        "outputId": "5916191c-b073-44f9-d2bd-adbe25e5e4ec"
      },
      "execution_count": 72,
      "outputs": [
        {
          "output_type": "stream",
          "name": "stdout",
          "text": [
            "(20, 400)\n",
            "(400,)\n",
            "(784, 400)\n"
          ]
        }
      ]
    },
    {
      "cell_type": "markdown",
      "source": [
        "【Problem 5】Estimation"
      ],
      "metadata": {
        "id": "v3iNGLhvOoww"
      }
    },
    {
      "cell_type": "code",
      "source": [
        "clf = ScratchSimpleNeuralNetrowkClassifier(n_epoch=30, n_features=784,\n",
        "                                           n_nodes1=400, n_nodes2=200, n_output=10,\n",
        "                                           sigma=0.01, n_batch=100,\n",
        "                                           activate_function_key='tanh',\n",
        "                                           lr = 0.01, verbose = True)\n",
        "\n",
        "clf.fit(X_train,y_train_one_hot,X_val,y_val_one_hot)\n",
        "y_pred = clf.predict(X_val)"
      ],
      "metadata": {
        "colab": {
          "base_uri": "https://localhost:8080/"
        },
        "id": "kPGOPEnkOlv7",
        "outputId": "ecfd134a-12b0-42b6-e200-17c87602155e"
      },
      "execution_count": 73,
      "outputs": [
        {
          "output_type": "stream",
          "name": "stderr",
          "text": [
            "/usr/local/lib/python3.7/dist-packages/ipykernel_launcher.py:23: DeprecationWarning: `np.int` is a deprecated alias for the builtin `int`. To silence this warning, use `int` by itself. Doing this will not modify any behavior and is safe. When replacing `np.int`, you may wish to use e.g. `np.int64` or `np.int32` to specify the precision. If you wish to review your current use, check the release note link for additional information.\n",
            "Deprecated in NumPy 1.20; for more details and guidance: https://numpy.org/devdocs/release/1.20.0-notes.html#deprecations\n"
          ]
        },
        {
          "output_type": "stream",
          "name": "stdout",
          "text": [
            "epoch:  0 loss:   1.101 acc:0.187\n"
          ]
        },
        {
          "output_type": "stream",
          "name": "stderr",
          "text": [
            "/usr/local/lib/python3.7/dist-packages/ipykernel_launcher.py:23: DeprecationWarning: `np.int` is a deprecated alias for the builtin `int`. To silence this warning, use `int` by itself. Doing this will not modify any behavior and is safe. When replacing `np.int`, you may wish to use e.g. `np.int64` or `np.int32` to specify the precision. If you wish to review your current use, check the release note link for additional information.\n",
            "Deprecated in NumPy 1.20; for more details and guidance: https://numpy.org/devdocs/release/1.20.0-notes.html#deprecations\n"
          ]
        },
        {
          "output_type": "stream",
          "name": "stdout",
          "text": [
            "epoch:  1 loss:   1.077 acc:0.374\n"
          ]
        },
        {
          "output_type": "stream",
          "name": "stderr",
          "text": [
            "/usr/local/lib/python3.7/dist-packages/ipykernel_launcher.py:23: DeprecationWarning: `np.int` is a deprecated alias for the builtin `int`. To silence this warning, use `int` by itself. Doing this will not modify any behavior and is safe. When replacing `np.int`, you may wish to use e.g. `np.int64` or `np.int32` to specify the precision. If you wish to review your current use, check the release note link for additional information.\n",
            "Deprecated in NumPy 1.20; for more details and guidance: https://numpy.org/devdocs/release/1.20.0-notes.html#deprecations\n"
          ]
        },
        {
          "output_type": "stream",
          "name": "stdout",
          "text": [
            "epoch:  2 loss:   0.838 acc:0.486\n"
          ]
        },
        {
          "output_type": "stream",
          "name": "stderr",
          "text": [
            "/usr/local/lib/python3.7/dist-packages/ipykernel_launcher.py:23: DeprecationWarning: `np.int` is a deprecated alias for the builtin `int`. To silence this warning, use `int` by itself. Doing this will not modify any behavior and is safe. When replacing `np.int`, you may wish to use e.g. `np.int64` or `np.int32` to specify the precision. If you wish to review your current use, check the release note link for additional information.\n",
            "Deprecated in NumPy 1.20; for more details and guidance: https://numpy.org/devdocs/release/1.20.0-notes.html#deprecations\n"
          ]
        },
        {
          "output_type": "stream",
          "name": "stdout",
          "text": [
            "epoch:  3 loss:   0.511 acc:0.654\n"
          ]
        },
        {
          "output_type": "stream",
          "name": "stderr",
          "text": [
            "/usr/local/lib/python3.7/dist-packages/ipykernel_launcher.py:23: DeprecationWarning: `np.int` is a deprecated alias for the builtin `int`. To silence this warning, use `int` by itself. Doing this will not modify any behavior and is safe. When replacing `np.int`, you may wish to use e.g. `np.int64` or `np.int32` to specify the precision. If you wish to review your current use, check the release note link for additional information.\n",
            "Deprecated in NumPy 1.20; for more details and guidance: https://numpy.org/devdocs/release/1.20.0-notes.html#deprecations\n"
          ]
        },
        {
          "output_type": "stream",
          "name": "stdout",
          "text": [
            "epoch:  4 loss:   0.362 acc:0.781\n"
          ]
        },
        {
          "output_type": "stream",
          "name": "stderr",
          "text": [
            "/usr/local/lib/python3.7/dist-packages/ipykernel_launcher.py:23: DeprecationWarning: `np.int` is a deprecated alias for the builtin `int`. To silence this warning, use `int` by itself. Doing this will not modify any behavior and is safe. When replacing `np.int`, you may wish to use e.g. `np.int64` or `np.int32` to specify the precision. If you wish to review your current use, check the release note link for additional information.\n",
            "Deprecated in NumPy 1.20; for more details and guidance: https://numpy.org/devdocs/release/1.20.0-notes.html#deprecations\n"
          ]
        },
        {
          "output_type": "stream",
          "name": "stdout",
          "text": [
            "epoch:  5 loss:   0.290 acc:0.826\n"
          ]
        },
        {
          "output_type": "stream",
          "name": "stderr",
          "text": [
            "/usr/local/lib/python3.7/dist-packages/ipykernel_launcher.py:23: DeprecationWarning: `np.int` is a deprecated alias for the builtin `int`. To silence this warning, use `int` by itself. Doing this will not modify any behavior and is safe. When replacing `np.int`, you may wish to use e.g. `np.int64` or `np.int32` to specify the precision. If you wish to review your current use, check the release note link for additional information.\n",
            "Deprecated in NumPy 1.20; for more details and guidance: https://numpy.org/devdocs/release/1.20.0-notes.html#deprecations\n"
          ]
        },
        {
          "output_type": "stream",
          "name": "stdout",
          "text": [
            "epoch:  6 loss:   0.250 acc:0.850\n"
          ]
        },
        {
          "output_type": "stream",
          "name": "stderr",
          "text": [
            "/usr/local/lib/python3.7/dist-packages/ipykernel_launcher.py:23: DeprecationWarning: `np.int` is a deprecated alias for the builtin `int`. To silence this warning, use `int` by itself. Doing this will not modify any behavior and is safe. When replacing `np.int`, you may wish to use e.g. `np.int64` or `np.int32` to specify the precision. If you wish to review your current use, check the release note link for additional information.\n",
            "Deprecated in NumPy 1.20; for more details and guidance: https://numpy.org/devdocs/release/1.20.0-notes.html#deprecations\n"
          ]
        },
        {
          "output_type": "stream",
          "name": "stdout",
          "text": [
            "epoch:  7 loss:   0.224 acc:0.866\n"
          ]
        },
        {
          "output_type": "stream",
          "name": "stderr",
          "text": [
            "/usr/local/lib/python3.7/dist-packages/ipykernel_launcher.py:23: DeprecationWarning: `np.int` is a deprecated alias for the builtin `int`. To silence this warning, use `int` by itself. Doing this will not modify any behavior and is safe. When replacing `np.int`, you may wish to use e.g. `np.int64` or `np.int32` to specify the precision. If you wish to review your current use, check the release note link for additional information.\n",
            "Deprecated in NumPy 1.20; for more details and guidance: https://numpy.org/devdocs/release/1.20.0-notes.html#deprecations\n"
          ]
        },
        {
          "output_type": "stream",
          "name": "stdout",
          "text": [
            "epoch:  8 loss:   0.207 acc:0.877\n"
          ]
        },
        {
          "output_type": "stream",
          "name": "stderr",
          "text": [
            "/usr/local/lib/python3.7/dist-packages/ipykernel_launcher.py:23: DeprecationWarning: `np.int` is a deprecated alias for the builtin `int`. To silence this warning, use `int` by itself. Doing this will not modify any behavior and is safe. When replacing `np.int`, you may wish to use e.g. `np.int64` or `np.int32` to specify the precision. If you wish to review your current use, check the release note link for additional information.\n",
            "Deprecated in NumPy 1.20; for more details and guidance: https://numpy.org/devdocs/release/1.20.0-notes.html#deprecations\n"
          ]
        },
        {
          "output_type": "stream",
          "name": "stdout",
          "text": [
            "epoch:  9 loss:   0.195 acc:0.885\n"
          ]
        },
        {
          "output_type": "stream",
          "name": "stderr",
          "text": [
            "/usr/local/lib/python3.7/dist-packages/ipykernel_launcher.py:23: DeprecationWarning: `np.int` is a deprecated alias for the builtin `int`. To silence this warning, use `int` by itself. Doing this will not modify any behavior and is safe. When replacing `np.int`, you may wish to use e.g. `np.int64` or `np.int32` to specify the precision. If you wish to review your current use, check the release note link for additional information.\n",
            "Deprecated in NumPy 1.20; for more details and guidance: https://numpy.org/devdocs/release/1.20.0-notes.html#deprecations\n"
          ]
        },
        {
          "output_type": "stream",
          "name": "stdout",
          "text": [
            "epoch: 10 loss:   0.186 acc:0.890\n"
          ]
        },
        {
          "output_type": "stream",
          "name": "stderr",
          "text": [
            "/usr/local/lib/python3.7/dist-packages/ipykernel_launcher.py:23: DeprecationWarning: `np.int` is a deprecated alias for the builtin `int`. To silence this warning, use `int` by itself. Doing this will not modify any behavior and is safe. When replacing `np.int`, you may wish to use e.g. `np.int64` or `np.int32` to specify the precision. If you wish to review your current use, check the release note link for additional information.\n",
            "Deprecated in NumPy 1.20; for more details and guidance: https://numpy.org/devdocs/release/1.20.0-notes.html#deprecations\n"
          ]
        },
        {
          "output_type": "stream",
          "name": "stdout",
          "text": [
            "epoch: 11 loss:   0.179 acc:0.894\n"
          ]
        },
        {
          "output_type": "stream",
          "name": "stderr",
          "text": [
            "/usr/local/lib/python3.7/dist-packages/ipykernel_launcher.py:23: DeprecationWarning: `np.int` is a deprecated alias for the builtin `int`. To silence this warning, use `int` by itself. Doing this will not modify any behavior and is safe. When replacing `np.int`, you may wish to use e.g. `np.int64` or `np.int32` to specify the precision. If you wish to review your current use, check the release note link for additional information.\n",
            "Deprecated in NumPy 1.20; for more details and guidance: https://numpy.org/devdocs/release/1.20.0-notes.html#deprecations\n"
          ]
        },
        {
          "output_type": "stream",
          "name": "stdout",
          "text": [
            "epoch: 12 loss:   0.174 acc:0.897\n"
          ]
        },
        {
          "output_type": "stream",
          "name": "stderr",
          "text": [
            "/usr/local/lib/python3.7/dist-packages/ipykernel_launcher.py:23: DeprecationWarning: `np.int` is a deprecated alias for the builtin `int`. To silence this warning, use `int` by itself. Doing this will not modify any behavior and is safe. When replacing `np.int`, you may wish to use e.g. `np.int64` or `np.int32` to specify the precision. If you wish to review your current use, check the release note link for additional information.\n",
            "Deprecated in NumPy 1.20; for more details and guidance: https://numpy.org/devdocs/release/1.20.0-notes.html#deprecations\n"
          ]
        },
        {
          "output_type": "stream",
          "name": "stdout",
          "text": [
            "epoch: 13 loss:   0.169 acc:0.900\n"
          ]
        },
        {
          "output_type": "stream",
          "name": "stderr",
          "text": [
            "/usr/local/lib/python3.7/dist-packages/ipykernel_launcher.py:23: DeprecationWarning: `np.int` is a deprecated alias for the builtin `int`. To silence this warning, use `int` by itself. Doing this will not modify any behavior and is safe. When replacing `np.int`, you may wish to use e.g. `np.int64` or `np.int32` to specify the precision. If you wish to review your current use, check the release note link for additional information.\n",
            "Deprecated in NumPy 1.20; for more details and guidance: https://numpy.org/devdocs/release/1.20.0-notes.html#deprecations\n"
          ]
        },
        {
          "output_type": "stream",
          "name": "stdout",
          "text": [
            "epoch: 14 loss:   0.165 acc:0.902\n"
          ]
        },
        {
          "output_type": "stream",
          "name": "stderr",
          "text": [
            "/usr/local/lib/python3.7/dist-packages/ipykernel_launcher.py:23: DeprecationWarning: `np.int` is a deprecated alias for the builtin `int`. To silence this warning, use `int` by itself. Doing this will not modify any behavior and is safe. When replacing `np.int`, you may wish to use e.g. `np.int64` or `np.int32` to specify the precision. If you wish to review your current use, check the release note link for additional information.\n",
            "Deprecated in NumPy 1.20; for more details and guidance: https://numpy.org/devdocs/release/1.20.0-notes.html#deprecations\n"
          ]
        },
        {
          "output_type": "stream",
          "name": "stdout",
          "text": [
            "epoch: 15 loss:   0.162 acc:0.904\n"
          ]
        },
        {
          "output_type": "stream",
          "name": "stderr",
          "text": [
            "/usr/local/lib/python3.7/dist-packages/ipykernel_launcher.py:23: DeprecationWarning: `np.int` is a deprecated alias for the builtin `int`. To silence this warning, use `int` by itself. Doing this will not modify any behavior and is safe. When replacing `np.int`, you may wish to use e.g. `np.int64` or `np.int32` to specify the precision. If you wish to review your current use, check the release note link for additional information.\n",
            "Deprecated in NumPy 1.20; for more details and guidance: https://numpy.org/devdocs/release/1.20.0-notes.html#deprecations\n"
          ]
        },
        {
          "output_type": "stream",
          "name": "stdout",
          "text": [
            "epoch: 16 loss:   0.158 acc:0.906\n"
          ]
        },
        {
          "output_type": "stream",
          "name": "stderr",
          "text": [
            "/usr/local/lib/python3.7/dist-packages/ipykernel_launcher.py:23: DeprecationWarning: `np.int` is a deprecated alias for the builtin `int`. To silence this warning, use `int` by itself. Doing this will not modify any behavior and is safe. When replacing `np.int`, you may wish to use e.g. `np.int64` or `np.int32` to specify the precision. If you wish to review your current use, check the release note link for additional information.\n",
            "Deprecated in NumPy 1.20; for more details and guidance: https://numpy.org/devdocs/release/1.20.0-notes.html#deprecations\n"
          ]
        },
        {
          "output_type": "stream",
          "name": "stdout",
          "text": [
            "epoch: 17 loss:   0.155 acc:0.908\n"
          ]
        },
        {
          "output_type": "stream",
          "name": "stderr",
          "text": [
            "/usr/local/lib/python3.7/dist-packages/ipykernel_launcher.py:23: DeprecationWarning: `np.int` is a deprecated alias for the builtin `int`. To silence this warning, use `int` by itself. Doing this will not modify any behavior and is safe. When replacing `np.int`, you may wish to use e.g. `np.int64` or `np.int32` to specify the precision. If you wish to review your current use, check the release note link for additional information.\n",
            "Deprecated in NumPy 1.20; for more details and guidance: https://numpy.org/devdocs/release/1.20.0-notes.html#deprecations\n"
          ]
        },
        {
          "output_type": "stream",
          "name": "stdout",
          "text": [
            "epoch: 18 loss:   0.153 acc:0.910\n"
          ]
        },
        {
          "output_type": "stream",
          "name": "stderr",
          "text": [
            "/usr/local/lib/python3.7/dist-packages/ipykernel_launcher.py:23: DeprecationWarning: `np.int` is a deprecated alias for the builtin `int`. To silence this warning, use `int` by itself. Doing this will not modify any behavior and is safe. When replacing `np.int`, you may wish to use e.g. `np.int64` or `np.int32` to specify the precision. If you wish to review your current use, check the release note link for additional information.\n",
            "Deprecated in NumPy 1.20; for more details and guidance: https://numpy.org/devdocs/release/1.20.0-notes.html#deprecations\n"
          ]
        },
        {
          "output_type": "stream",
          "name": "stdout",
          "text": [
            "epoch: 19 loss:   0.150 acc:0.912\n"
          ]
        },
        {
          "output_type": "stream",
          "name": "stderr",
          "text": [
            "/usr/local/lib/python3.7/dist-packages/ipykernel_launcher.py:23: DeprecationWarning: `np.int` is a deprecated alias for the builtin `int`. To silence this warning, use `int` by itself. Doing this will not modify any behavior and is safe. When replacing `np.int`, you may wish to use e.g. `np.int64` or `np.int32` to specify the precision. If you wish to review your current use, check the release note link for additional information.\n",
            "Deprecated in NumPy 1.20; for more details and guidance: https://numpy.org/devdocs/release/1.20.0-notes.html#deprecations\n"
          ]
        },
        {
          "output_type": "stream",
          "name": "stdout",
          "text": [
            "epoch: 20 loss:   0.148 acc:0.913\n"
          ]
        },
        {
          "output_type": "stream",
          "name": "stderr",
          "text": [
            "/usr/local/lib/python3.7/dist-packages/ipykernel_launcher.py:23: DeprecationWarning: `np.int` is a deprecated alias for the builtin `int`. To silence this warning, use `int` by itself. Doing this will not modify any behavior and is safe. When replacing `np.int`, you may wish to use e.g. `np.int64` or `np.int32` to specify the precision. If you wish to review your current use, check the release note link for additional information.\n",
            "Deprecated in NumPy 1.20; for more details and guidance: https://numpy.org/devdocs/release/1.20.0-notes.html#deprecations\n"
          ]
        },
        {
          "output_type": "stream",
          "name": "stdout",
          "text": [
            "epoch: 21 loss:   0.145 acc:0.914\n"
          ]
        },
        {
          "output_type": "stream",
          "name": "stderr",
          "text": [
            "/usr/local/lib/python3.7/dist-packages/ipykernel_launcher.py:23: DeprecationWarning: `np.int` is a deprecated alias for the builtin `int`. To silence this warning, use `int` by itself. Doing this will not modify any behavior and is safe. When replacing `np.int`, you may wish to use e.g. `np.int64` or `np.int32` to specify the precision. If you wish to review your current use, check the release note link for additional information.\n",
            "Deprecated in NumPy 1.20; for more details and guidance: https://numpy.org/devdocs/release/1.20.0-notes.html#deprecations\n"
          ]
        },
        {
          "output_type": "stream",
          "name": "stdout",
          "text": [
            "epoch: 22 loss:   0.143 acc:0.916\n"
          ]
        },
        {
          "output_type": "stream",
          "name": "stderr",
          "text": [
            "/usr/local/lib/python3.7/dist-packages/ipykernel_launcher.py:23: DeprecationWarning: `np.int` is a deprecated alias for the builtin `int`. To silence this warning, use `int` by itself. Doing this will not modify any behavior and is safe. When replacing `np.int`, you may wish to use e.g. `np.int64` or `np.int32` to specify the precision. If you wish to review your current use, check the release note link for additional information.\n",
            "Deprecated in NumPy 1.20; for more details and guidance: https://numpy.org/devdocs/release/1.20.0-notes.html#deprecations\n"
          ]
        },
        {
          "output_type": "stream",
          "name": "stdout",
          "text": [
            "epoch: 23 loss:   0.141 acc:0.917\n"
          ]
        },
        {
          "output_type": "stream",
          "name": "stderr",
          "text": [
            "/usr/local/lib/python3.7/dist-packages/ipykernel_launcher.py:23: DeprecationWarning: `np.int` is a deprecated alias for the builtin `int`. To silence this warning, use `int` by itself. Doing this will not modify any behavior and is safe. When replacing `np.int`, you may wish to use e.g. `np.int64` or `np.int32` to specify the precision. If you wish to review your current use, check the release note link for additional information.\n",
            "Deprecated in NumPy 1.20; for more details and guidance: https://numpy.org/devdocs/release/1.20.0-notes.html#deprecations\n"
          ]
        },
        {
          "output_type": "stream",
          "name": "stdout",
          "text": [
            "epoch: 24 loss:   0.138 acc:0.918\n"
          ]
        },
        {
          "output_type": "stream",
          "name": "stderr",
          "text": [
            "/usr/local/lib/python3.7/dist-packages/ipykernel_launcher.py:23: DeprecationWarning: `np.int` is a deprecated alias for the builtin `int`. To silence this warning, use `int` by itself. Doing this will not modify any behavior and is safe. When replacing `np.int`, you may wish to use e.g. `np.int64` or `np.int32` to specify the precision. If you wish to review your current use, check the release note link for additional information.\n",
            "Deprecated in NumPy 1.20; for more details and guidance: https://numpy.org/devdocs/release/1.20.0-notes.html#deprecations\n"
          ]
        },
        {
          "output_type": "stream",
          "name": "stdout",
          "text": [
            "epoch: 25 loss:   0.136 acc:0.919\n"
          ]
        },
        {
          "output_type": "stream",
          "name": "stderr",
          "text": [
            "/usr/local/lib/python3.7/dist-packages/ipykernel_launcher.py:23: DeprecationWarning: `np.int` is a deprecated alias for the builtin `int`. To silence this warning, use `int` by itself. Doing this will not modify any behavior and is safe. When replacing `np.int`, you may wish to use e.g. `np.int64` or `np.int32` to specify the precision. If you wish to review your current use, check the release note link for additional information.\n",
            "Deprecated in NumPy 1.20; for more details and guidance: https://numpy.org/devdocs/release/1.20.0-notes.html#deprecations\n"
          ]
        },
        {
          "output_type": "stream",
          "name": "stdout",
          "text": [
            "epoch: 26 loss:   0.134 acc:0.920\n"
          ]
        },
        {
          "output_type": "stream",
          "name": "stderr",
          "text": [
            "/usr/local/lib/python3.7/dist-packages/ipykernel_launcher.py:23: DeprecationWarning: `np.int` is a deprecated alias for the builtin `int`. To silence this warning, use `int` by itself. Doing this will not modify any behavior and is safe. When replacing `np.int`, you may wish to use e.g. `np.int64` or `np.int32` to specify the precision. If you wish to review your current use, check the release note link for additional information.\n",
            "Deprecated in NumPy 1.20; for more details and guidance: https://numpy.org/devdocs/release/1.20.0-notes.html#deprecations\n"
          ]
        },
        {
          "output_type": "stream",
          "name": "stdout",
          "text": [
            "epoch: 27 loss:   0.132 acc:0.921\n"
          ]
        },
        {
          "output_type": "stream",
          "name": "stderr",
          "text": [
            "/usr/local/lib/python3.7/dist-packages/ipykernel_launcher.py:23: DeprecationWarning: `np.int` is a deprecated alias for the builtin `int`. To silence this warning, use `int` by itself. Doing this will not modify any behavior and is safe. When replacing `np.int`, you may wish to use e.g. `np.int64` or `np.int32` to specify the precision. If you wish to review your current use, check the release note link for additional information.\n",
            "Deprecated in NumPy 1.20; for more details and guidance: https://numpy.org/devdocs/release/1.20.0-notes.html#deprecations\n"
          ]
        },
        {
          "output_type": "stream",
          "name": "stdout",
          "text": [
            "epoch: 28 loss:   0.130 acc:0.922\n"
          ]
        },
        {
          "output_type": "stream",
          "name": "stderr",
          "text": [
            "/usr/local/lib/python3.7/dist-packages/ipykernel_launcher.py:23: DeprecationWarning: `np.int` is a deprecated alias for the builtin `int`. To silence this warning, use `int` by itself. Doing this will not modify any behavior and is safe. When replacing `np.int`, you may wish to use e.g. `np.int64` or `np.int32` to specify the precision. If you wish to review your current use, check the release note link for additional information.\n",
            "Deprecated in NumPy 1.20; for more details and guidance: https://numpy.org/devdocs/release/1.20.0-notes.html#deprecations\n"
          ]
        },
        {
          "output_type": "stream",
          "name": "stdout",
          "text": [
            "epoch: 29 loss:   0.129 acc:0.923\n"
          ]
        }
      ]
    },
    {
      "cell_type": "markdown",
      "source": [
        "【Problem 6】Learning and Estimation\n"
      ],
      "metadata": {
        "id": "acwryX5mRbei"
      }
    },
    {
      "cell_type": "code",
      "source": [
        "accuracy = accuracy_score(y_val, y_pred)\n",
        "#precision = precision_score(y_val, y_pred)\n",
        "#recall = recall_score(y_val, y_pred)\n",
        "#f1 = f1_score(y_val, y_pred)\n",
        "\n",
        "print('accuracy:{:.3f}'.format(accuracy))\n",
        "#print('precision',precision)\n",
        "#print('recall',recall)\n",
        "#print('f1',f1)"
      ],
      "metadata": {
        "colab": {
          "base_uri": "https://localhost:8080/"
        },
        "id": "PKOyX94wOq3f",
        "outputId": "58813c36-5559-4e6f-d328-4a4c14b96b84"
      },
      "execution_count": 74,
      "outputs": [
        {
          "output_type": "stream",
          "name": "stdout",
          "text": [
            "accuracy:0.917\n"
          ]
        }
      ]
    },
    {
      "cell_type": "markdown",
      "source": [
        "【Problem 7】Plotting the Learning Curve"
      ],
      "metadata": {
        "id": "qfiwwcYhRgaa"
      }
    },
    {
      "cell_type": "code",
      "source": [
        "# Visualize the loss function for each epoch\n",
        "fig = plt.subplots(figsize=(12,8))\n",
        "plt.rcParams[\"font.size\"] = 20\n",
        "\n",
        "plt.plot(clf.log_loss,'rs--')\n",
        "plt.plot(clf.log_loss_val,'bo--');"
      ],
      "metadata": {
        "colab": {
          "base_uri": "https://localhost:8080/",
          "height": 483
        },
        "id": "sODBTaXmReMO",
        "outputId": "f91a3980-061c-47d2-aaa0-bfef254cfcc9"
      },
      "execution_count": 75,
      "outputs": [
        {
          "output_type": "display_data",
          "data": {
            "text/plain": [
              "<Figure size 864x576 with 1 Axes>"
            ],
            "image/png": "[encoded data removed]"
          },
          "metadata": {
            "needs_background": "light"
          }
        }
      ]
    },
    {
      "cell_type": "code",
      "source": [
        "# Visualization of the percentage of correct answers for each epoch\n",
        "fig = plt.subplots(figsize=(12,8))\n",
        "plt.rcParams[\"font.size\"] = 20\n",
        "\n",
        "plt.plot(clf.log_acc,'rs--')\n",
        "plt.plot(clf.log_acc_val,'bo--');"
      ],
      "metadata": {
        "colab": {
          "base_uri": "https://localhost:8080/",
          "height": 492
        },
        "id": "o7VwkccZRi3_",
        "outputId": "e723b58d-76a4-4de5-d849-ac72fc81eef6"
      },
      "execution_count": 76,
      "outputs": [
        {
          "output_type": "display_data",
          "data": {
            "text/plain": [
              "<Figure size 864x576 with 1 Axes>"
            ],
            "image/png": "[encoded data removed]"
          },
          "metadata": {
            "needs_background": "light"
          }
        }
      ]
    },
    {
      "cell_type": "markdown",
      "source": [
        "【Problem 8】(Advanced Assignment) Checking for Misclassification"
      ],
      "metadata": {
        "id": "50jEaqx3RqWH"
      }
    },
    {
      "cell_type": "code",
      "source": [
        "\"\"\"\n",
        "The word classification results are displayed side by side. The upper part of the image shows the \"Estimation result / Correct answer\".\n",
        "\n",
        "Parameters:\n",
        "----------\n",
        "y_pred : ndarray of estimations (n_samples,)\n",
        "y_val : Correct answer labels for validation data (n_samples,)\n",
        "X_val : Features of validation data（n_samples, n_features)\n",
        "\"\"\"\n",
        "import numpy as np\n",
        "import matplotlib.pyplot as plt\n",
        "\n",
        "num = 5 # How many to display\n",
        "print('Estimation result / correct answer')\n",
        "\n",
        "true_false = y_pred==y_val\n",
        "false_list = np.where(true_false==False)[0].astype(np.int)\n",
        "if false_list.shape[0] < num:\n",
        "    num = false_list.shape[0]\n",
        "fig = plt.figure(figsize=(6, 6))\n",
        "fig.subplots_adjust(left=0, right=0.8,  bottom=0, top=0.8, hspace=1, wspace=0.5)\n",
        "for i in range(num):\n",
        "    ax = fig.add_subplot(6, 6, i + 1, xticks=[], yticks=[])\n",
        "    ax.set_title(\"{} / {}\".format(y_pred[false_list[i]],y_val[false_list[i]]))\n",
        "    ax.imshow(X_val.reshape(-1,28,28)[false_list[i]], cmap='gray')"
      ],
      "metadata": {
        "colab": {
          "base_uri": "https://localhost:8080/",
          "height": 163
        },
        "id": "-D8NEBHwRnQa",
        "outputId": "d37abc4d-e702-41ec-9f44-74d08177751e"
      },
      "execution_count": 77,
      "outputs": [
        {
          "output_type": "stream",
          "name": "stdout",
          "text": [
            "Estimation result / correct answer\n"
          ]
        },
        {
          "output_type": "stream",
          "name": "stderr",
          "text": [
            "/usr/local/lib/python3.7/dist-packages/ipykernel_launcher.py:17: DeprecationWarning: `np.int` is a deprecated alias for the builtin `int`. To silence this warning, use `int` by itself. Doing this will not modify any behavior and is safe. When replacing `np.int`, you may wish to use e.g. `np.int64` or `np.int32` to specify the precision. If you wish to review your current use, check the release note link for additional information.\n",
            "Deprecated in NumPy 1.20; for more details and guidance: https://numpy.org/devdocs/release/1.20.0-notes.html#deprecations\n"
          ]
        },
        {
          "output_type": "display_data",
          "data": {
            "text/plain": [
              "<Figure size 432x432 with 5 Axes>"
            ],
            "image/png": "[encoded data removed]"
          },
          "metadata": {}
        }
      ]
    },
    {
      "cell_type": "code",
      "source": [
        ""
      ],
      "metadata": {
        "id": "2RuoMdJhRtYa"
      },
      "execution_count": null,
      "outputs": []
    }
  ]
}