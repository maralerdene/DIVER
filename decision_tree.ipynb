{
  "nbformat": 4,
  "nbformat_minor": 0,
  "metadata": {
    "colab": {
      "name": "decision_tree.ipynb",
      "provenance": [],
      "authorship_tag": "ABX9TyMfaTfPjFQRpivKoMAU4stV",
      "include_colab_link": true
    },
    "kernelspec": {
      "name": "python3",
      "display_name": "Python 3"
    },
    "language_info": {
      "name": "python"
    }
  },
  "cells": [
    {
      "cell_type": "markdown",
      "metadata": {
        "id": "view-in-github",
        "colab_type": "text"
      },
      "source": [
        "<a href=\"https://colab.research.google.com/github/fkvivid/DIVER/blob/main/decision_tree.ipynb\" target=\"_parent\"><img src=\"https://colab.research.google.com/assets/colab-badge.svg\" alt=\"Open In Colab\"/></a>"
      ]
    },
    {
      "cell_type": "code",
      "execution_count": 2,
      "metadata": {
        "id": "V9kpRT56lZ6C"
      },
      "outputs": [],
      "source": [
        "import numpy as np\n",
        "import pandas as pd\n",
        "import seaborn as sns\n",
        "import matplotlib.pyplot as plt\n",
        "import statistics"
      ]
    },
    {
      "cell_type": "code",
      "source": [
        "class ScratchDecesionTreeClassifierDepth1():\n",
        "  def __init__ (self, verbose=False):\n",
        "    self.verbose=verbose\n",
        "  \n",
        "  def _gini(self,X):\n",
        "    unique,count = np.unique(X,return_counts=True)\n",
        "    tmp = 0\n",
        "\n",
        "    for i in unique:\n",
        "      tmp += (count[unique==i]/np.sum(count))**2\n",
        "\n",
        "    return 1-tmp\n",
        "\n",
        "  def fit (self,X,y):\n",
        "\n",
        "    feature_num = X.shape[1]\n",
        "\n",
        "    self.gain = 0\n",
        "\n",
        "    for i in range(feature_num):\n",
        "      self.threshold = np.unique(X[:,i])\n",
        "\n",
        "      for j in self.threshold[1:]:\n",
        "        l = y[X[:,i]<j]\n",
        "        r = y[X[:,i]>=j]\n",
        "\n",
        "        gini_l = len(l)/(len(l)+len(r))*self._gini(l)\n",
        "        gini_r = len(r)/(len(l)+len(r))*self._gini(r)\n",
        "\n",
        "        tmp = self._gini(y) - gini_l - gini_r\n",
        "\n",
        "        if tmp>self.gain:\n",
        "          self.l_label = statistics.mode(l)\n",
        "          self.r_label = statistics.mode(r)\n",
        "          self.feature = i\n",
        "          self.threshold = j\n",
        "          self.gain = tmp\n",
        "\n",
        "          if self.verbose:\n",
        "            print('feature', self.feature,\n",
        "                  'threshold', self.threshold,\n",
        "                  'gain', self.gain)\n",
        "            \n",
        "  def predict(self, X):\n",
        "    \n",
        "    return np.where(X[:,self.feature] < self.threshold, self.l_label, self.r_label)\n"
      ],
      "metadata": {
        "id": "QRGwiIAXlfXF"
      },
      "execution_count": 3,
      "outputs": []
    },
    {
      "cell_type": "code",
      "source": [
        "# Visualizing the decision area\n",
        "from matplotlib.colors import ListedColormap\n",
        "import matplotlib.patches as mpatches\n",
        "\n",
        "def decision_region(X, y, model, step=0.01, title='decision region', xlabel='xlabel', ylabel='ylabel', target_names=['versicolor', 'virginica']):\n",
        "    # setting\n",
        "    scatter_color = ['red', 'blue']\n",
        "    contourf_color = ['pink', 'skyblue']\n",
        "    n_class = 2\n",
        "\n",
        "    # pred\n",
        "    mesh_f0, mesh_f1  = np.meshgrid(np.arange(np.min(X[:,0])-0.5, np.max(X[:,0])+0.5, step), np.arange(np.min(X[:,1])-0.5, np.max(X[:,1])+0.5, step))\n",
        "    mesh = np.c_[np.ravel(mesh_f0),np.ravel(mesh_f1)]\n",
        "    y_pred = model.predict(mesh).reshape(mesh_f0.shape)\n",
        "\n",
        "    # plot\n",
        "    plt.title(title)\n",
        "    plt.xlabel(xlabel)\n",
        "    plt.ylabel(ylabel)\n",
        "    plt.contourf(mesh_f0, mesh_f1, y_pred, n_class-1, cmap=ListedColormap(contourf_color))\n",
        "    plt.contour(mesh_f0, mesh_f1, y_pred, n_class-1, colors='y', linewidths=3, alpha=0.5)\n",
        "    for i, target in enumerate(np.unique(y)):\n",
        "        plt.scatter(X[y==target][:, 0], X[y==target][:, 1], s=80, color=scatter_color[i], label=target_names[i], marker='o')\n",
        "    patches = [mpatches.Patch(color=scatter_color[i], label=target_names[i]) for i in range(n_class)]\n",
        "    plt.legend(handles=patches)\n",
        "    plt.legend()\n",
        "    plt.show()"
      ],
      "metadata": {
        "id": "hGoaKvPQpRuS"
      },
      "execution_count": 4,
      "outputs": []
    },
    {
      "cell_type": "markdown",
      "source": [
        "[Problem 1] Function to find impurity"
      ],
      "metadata": {
        "id": "KZ0CdfI3p_Pc"
      }
    },
    {
      "cell_type": "code",
      "source": [
        "X = np.array([0,2,1,-1,4])\n",
        "y = np.array([0,0,0,1,1])"
      ],
      "metadata": {
        "id": "XmWTKZanqN5g"
      },
      "execution_count": 6,
      "outputs": []
    },
    {
      "cell_type": "code",
      "source": [
        "threshold_value = np.unique(X)\n",
        "print('threshold_value',threshold_value)"
      ],
      "metadata": {
        "colab": {
          "base_uri": "https://localhost:8080/"
        },
        "id": "HqxNP2hwqgtE",
        "outputId": "86568e92-2559-48ff-df7e-68c7e27d2774"
      },
      "execution_count": 8,
      "outputs": [
        {
          "output_type": "stream",
          "name": "stdout",
          "text": [
            "threshold_value [-1  0  1  2  4]\n"
          ]
        }
      ]
    },
    {
      "cell_type": "code",
      "source": [
        "# Classify by label value\n",
        "u,counts = np.unique(y,return_counts=True)\n",
        "\n",
        "print('unique', u, 'unique_counts',counts)"
      ],
      "metadata": {
        "colab": {
          "base_uri": "https://localhost:8080/"
        },
        "id": "OBnluAcrp39U",
        "outputId": "040b2705-e44c-4ac4-8899-cee2ce7533c8"
      },
      "execution_count": 9,
      "outputs": [
        {
          "output_type": "stream",
          "name": "stdout",
          "text": [
            "unique [0 1] unique_counts [3 2]\n"
          ]
        }
      ]
    },
    {
      "cell_type": "code",
      "source": [
        "# calculation of gini impurity\n",
        "def _gini(X):\n",
        "  unique,count = np.unique(X,return_counts=True)\n",
        "  tmp = 0\n",
        "\n",
        "  for i in unique:\n",
        "    tmp += (count[unique==i]/np.sum(count))**2\n",
        "\n",
        "  return 1-tmp"
      ],
      "metadata": {
        "id": "R5JJVtIqqd3W"
      },
      "execution_count": 12,
      "outputs": []
    },
    {
      "cell_type": "code",
      "source": [
        "for i in threshold_value[1:]:\n",
        "  c1 = y[X<i]\n",
        "  c2 = y[X>=i]\n",
        "\n",
        "  print(i,'c1',c1,'c2',c2)\n",
        "  print(i,'gini_left',_gini(c1),'gini_right',_gini(c2))"
      ],
      "metadata": {
        "colab": {
          "base_uri": "https://localhost:8080/"
        },
        "id": "gDZ53AqxqydP",
        "outputId": "5e92c2ff-20dd-41a7-f94e-ca9e2086fb46"
      },
      "execution_count": 13,
      "outputs": [
        {
          "output_type": "stream",
          "name": "stdout",
          "text": [
            "0 c1 [1] c2 [0 0 0 1]\n",
            "0 gini_left [0.] gini_right [0.375]\n",
            "1 c1 [0 1] c2 [0 0 1]\n",
            "1 gini_left [0.5] gini_right [0.44444444]\n",
            "2 c1 [0 0 1] c2 [0 1]\n",
            "2 gini_left [0.44444444] gini_right [0.5]\n",
            "4 c1 [0 0 0 1] c2 [1]\n",
            "4 gini_left [0.375] gini_right [0.]\n"
          ]
        }
      ]
    },
    {
      "cell_type": "markdown",
      "source": [
        "[Problem 2] Function for obtaining information gain"
      ],
      "metadata": {
        "id": "Z6WlzVAwrRbQ"
      }
    },
    {
      "cell_type": "code",
      "source": [
        "# Calculate the information gain at each threshold\n",
        "\n",
        "for i in threshold_value[1:]:\n",
        "  c1 = y[X<i]\n",
        "  c2 = y[X>=i]\n",
        "\n",
        "  left = len(c1)/(len(c1)+len(c2))*_gini(c1)\n",
        "  right = len(c2)/(len(c1)+len(c2))*_gini(c2)\n",
        "\n",
        "  gain = _gini(X) - left - right\n",
        "\n",
        "  print(i,gain)"
      ],
      "metadata": {
        "colab": {
          "base_uri": "https://localhost:8080/"
        },
        "id": "-_NY0oDDrHUL",
        "outputId": "432f9082-31d4-436e-a6a7-3108e9bbeefe"
      },
      "execution_count": 14,
      "outputs": [
        {
          "output_type": "stream",
          "name": "stdout",
          "text": [
            "0 [0.5]\n",
            "1 [0.33333333]\n",
            "2 [0.33333333]\n",
            "4 [0.5]\n"
          ]
        }
      ]
    },
    {
      "cell_type": "markdown",
      "source": [
        "[Question 3] Learning"
      ],
      "metadata": {
        "id": "-XjZ3lFWsA9J"
      }
    },
    {
      "cell_type": "code",
      "source": [
        "X = np.array([[-0.44699,-2.8073], [-1.4621,-2.4586],\n",
        "              [0.10645,1.9242], [-3.5944,-4.0112],\n",
        "              [-0.9888,4.5718], [-3.1625,-3.9606],\n",
        "              [ 0.56421,0.72888], [-0.60216, 8.4636],\n",
        "              [-0.61251,-0.75345], [-0.73535,-2.2718],\n",
        "              [-0.80647,-2.2135], [0.86291,2.3946],\n",
        "              [-3.1108,0.15394], [-2.9362,2.5462],\n",
        "              [-0.57242,-2.9915],[1.4771,3.4896],\n",
        "              [0.58619,0.37158],[0.6017,4.3439],\n",
        "              [-2.1086,8.3428],[-4.1013,-4.353],\n",
        "              [-1.9948,-1.3927],[0.35084,-0.031994],\n",
        "              [0.96765,7.8929],[-1.281,15.6824],\n",
        "              [0.96765,10.083],[1.3763,1.3347],\n",
        "              [-2.234,-2.5323],[-2.9452,-1.8219],\n",
        "              [0.14654,-0.28733],[0.5461,5.8245],\n",
        "              [-0.65259,9.3444],[0.59912,5.3523],\n",
        "              [0.50214,-0.31818],[-3.0603,-3.6461],\n",
        "              [-6.6797,0.67661],[-2.354,-0.72261],\n",
        "              [1.1319,2.4023],[-0.12243,9.0162],\n",
        "              [-2.5677,13.1779],[0.057313,5.4681]])\n",
        "\n",
        "y = np.array([0,0,0,0,0,0,0,0,0,0,0,0,0,0,0,0,0,0,0,0,\n",
        "              1,1,1,1,1,1,1,1,1,1,1,1,1,1,1,1,1,1,1,1])"
      ],
      "metadata": {
        "id": "N1yp3lYar-wP"
      },
      "execution_count": 21,
      "outputs": []
    },
    {
      "cell_type": "code",
      "source": [
        ""
      ],
      "metadata": {
        "id": "PRtLfkJMzTWk"
      },
      "execution_count": 21,
      "outputs": []
    },
    {
      "cell_type": "code",
      "source": [
        "fig = plt.subplots(figsize=(12,8))\n",
        "plt.scatter(X[y==1,0],X[y==1,1],s=80,label='y=1')\n",
        "plt.scatter(X[y==0,0],X[y==0,1],s=80,label='y=0')\n",
        "plt.legend()"
      ],
      "metadata": {
        "colab": {
          "base_uri": "https://localhost:8080/",
          "height": 501
        },
        "id": "IWwae_r1ufUa",
        "outputId": "e69cad34-2134-4626-b687-8a39384811a0"
      },
      "execution_count": 22,
      "outputs": [
        {
          "output_type": "execute_result",
          "data": {
            "text/plain": [
              "<matplotlib.legend.Legend at 0x7f4eb76aaa10>"
            ]
          },
          "metadata": {},
          "execution_count": 22
        },
        {
          "output_type": "display_data",
          "data": {
            "text/plain": [
              "<Figure size 864x576 with 1 Axes>"
            ],
            "image/png": "[encoded data removed]"
          },
          "metadata": {
            "needs_background": "light"
          }
        }
      ]
    },
    {
      "cell_type": "code",
      "source": [
        "# Split into training data and validation data\n",
        "\n",
        "from sklearn.model_selection import train_test_split\n",
        "\n",
        "X_train, X_valid, y_train,y_valid = train_test_split(X,y,train_size=0.8, random_state=None)\n",
        "\n",
        "print(X_train.shape)\n",
        "print(y_train.shape)\n",
        "print(X_valid.shape)\n",
        "print(y_valid.shape)"
      ],
      "metadata": {
        "colab": {
          "base_uri": "https://localhost:8080/"
        },
        "id": "tMlTsAiCu2ns",
        "outputId": "b8d3ceb2-4a81-431b-825f-4de0f8f75cf2"
      },
      "execution_count": 23,
      "outputs": [
        {
          "output_type": "stream",
          "name": "stdout",
          "text": [
            "(32, 2)\n",
            "(32,)\n",
            "(8, 2)\n",
            "(8,)\n"
          ]
        }
      ]
    },
    {
      "cell_type": "code",
      "source": [
        "clf1 = ScratchDecesionTreeClassifierDepth1(verbose=True)\n",
        "clf1.fit(X_train,y_train)"
      ],
      "metadata": {
        "colab": {
          "base_uri": "https://localhost:8080/"
        },
        "id": "s7L_ZK6PvZUs",
        "outputId": "41380e30-faef-4c0e-a143-bb12be89db3c"
      },
      "execution_count": 24,
      "outputs": [
        {
          "output_type": "stream",
          "name": "stdout",
          "text": [
            "feature 0 threshold -4.1013 gain [0.01612903]\n",
            "feature 0 threshold -3.0603 gain [0.01785714]\n",
            "feature 0 threshold -0.60216 gain [0.01821862]\n",
            "feature 0 threshold -0.57242 gain [0.03174603]\n",
            "feature 0 threshold -0.44699 gain [0.04901961]\n",
            "feature 0 threshold -0.12243 gain [0.0703125]\n",
            "feature 1 threshold -1.8219 gain [0.07142857]\n"
          ]
        }
      ]
    },
    {
      "cell_type": "markdown",
      "source": [
        "[Question 4] Estimation"
      ],
      "metadata": {
        "id": "dS4wmH8Qzuj9"
      }
    },
    {
      "cell_type": "code",
      "source": [
        "y_pred = clf1.predict(X_valid)"
      ],
      "metadata": {
        "id": "JiiX2OyawDJE"
      },
      "execution_count": 25,
      "outputs": []
    },
    {
      "cell_type": "code",
      "source": [
        "print(y_pred)\n",
        "print(y_valid)"
      ],
      "metadata": {
        "colab": {
          "base_uri": "https://localhost:8080/"
        },
        "id": "Tnn9t2vhz6vb",
        "outputId": "7163d418-bda9-4df5-f8d0-faab6ea51878"
      },
      "execution_count": 26,
      "outputs": [
        {
          "output_type": "stream",
          "name": "stdout",
          "text": [
            "[0 0 1 1 1 1 0 1]\n",
            "[0 0 1 0 1 0 1 1]\n"
          ]
        }
      ]
    },
    {
      "cell_type": "markdown",
      "source": [
        "[Question 5] Learning and Estimation"
      ],
      "metadata": {
        "id": "0R8xslJX0DgU"
      }
    },
    {
      "cell_type": "code",
      "source": [
        "# Evaluation index\n",
        "from sklearn.metrics import accuracy_score\n",
        "from sklearn.metrics import precision_score\n",
        "from sklearn.metrics import recall_score\n",
        "from sklearn.metrics import f1_score\n",
        "\n",
        "accuracy = accuracy_score(y_valid,y_pred)\n",
        "precision = precision_score(y_valid,y_pred)\n",
        "recall = recall_score(y_valid,y_pred)\n",
        "f1 = f1_score(y_valid,y_pred)\n",
        "\n",
        "print('accuracy:',accuracy)\n",
        "print('precision:',precision)\n",
        "print('recall:',recall)\n",
        "print('f1:',f1)"
      ],
      "metadata": {
        "colab": {
          "base_uri": "https://localhost:8080/"
        },
        "id": "j5AkwVPzz_DS",
        "outputId": "22a84378-469e-48ca-b669-ea818e871383"
      },
      "execution_count": 27,
      "outputs": [
        {
          "output_type": "stream",
          "name": "stdout",
          "text": [
            "accuracy: 0.625\n",
            "precision: 0.6\n",
            "recall: 0.75\n",
            "f1: 0.6666666666666665\n"
          ]
        }
      ]
    },
    {
      "cell_type": "code",
      "source": [
        "# Decision tree\n",
        "from sklearn.tree import DecisionTreeClassifier\n",
        "\n",
        "clf2 = DecisionTreeClassifier(max_depth=1)\n",
        "\n",
        "clf2.fit(X_train,y_train)\n",
        "\n",
        "y_pred = clf2.predict(X_valid)"
      ],
      "metadata": {
        "id": "GV-5U71Z0dCy"
      },
      "execution_count": 28,
      "outputs": []
    },
    {
      "cell_type": "code",
      "source": [
        "print(y_pred)\n",
        "print(y_valid)"
      ],
      "metadata": {
        "colab": {
          "base_uri": "https://localhost:8080/"
        },
        "id": "bSDEK65V0xOw",
        "outputId": "9100e161-23b0-47a6-a825-663e5869f66d"
      },
      "execution_count": 29,
      "outputs": [
        {
          "output_type": "stream",
          "name": "stdout",
          "text": [
            "[0 0 1 1 1 1 0 1]\n",
            "[0 0 1 0 1 0 1 1]\n"
          ]
        }
      ]
    },
    {
      "cell_type": "code",
      "source": [
        "\n",
        "accuracy = accuracy_score(y_valid,y_pred)\n",
        "precision = precision_score(y_valid,y_pred)\n",
        "recall = recall_score(y_valid,y_pred)\n",
        "f1 = f1_score(y_valid,y_pred)\n",
        "\n",
        "print('accuracy:',accuracy)\n",
        "print('precision:',precision)\n",
        "print('recall:',recall)\n",
        "print('f1:',f1)"
      ],
      "metadata": {
        "colab": {
          "base_uri": "https://localhost:8080/"
        },
        "id": "M9CHyGmP006p",
        "outputId": "32bd3ba7-a09d-49fd-cc2b-d3c4bbf58da6"
      },
      "execution_count": 30,
      "outputs": [
        {
          "output_type": "stream",
          "name": "stdout",
          "text": [
            "accuracy: 0.625\n",
            "precision: 0.6\n",
            "recall: 0.75\n",
            "f1: 0.6666666666666665\n"
          ]
        }
      ]
    },
    {
      "cell_type": "markdown",
      "source": [
        "[Problem 6] Visualization of the decision region"
      ],
      "metadata": {
        "id": "uwnia1Ff1GiY"
      }
    },
    {
      "cell_type": "code",
      "source": [
        "# Results of Scratch Decision Tree Classification\n",
        "fig, ax = plt.subplots(figsize=(12,12))\n",
        "decision_region(X_train,y_train, clf1, target_names=['0','1'], title='Train')"
      ],
      "metadata": {
        "colab": {
          "base_uri": "https://localhost:8080/",
          "height": 730
        },
        "id": "1nJH1s4W05DB",
        "outputId": "7ae6b80d-aab2-4668-ffc8-e85f0334f906"
      },
      "execution_count": 31,
      "outputs": [
        {
          "output_type": "display_data",
          "data": {
            "text/plain": [
              "<Figure size 864x864 with 1 Axes>"
            ],
            "image/png": "[encoded data removed]"
          },
          "metadata": {
            "needs_background": "light"
          }
        }
      ]
    },
    {
      "cell_type": "code",
      "source": [
        "# Results of Scratch Decision Tree Classification\n",
        "fig, ax = plt.subplots(figsize=(12,12))\n",
        "decision_region(X_train,y_train, clf2, target_names=['0','1'], title='Train')"
      ],
      "metadata": {
        "colab": {
          "base_uri": "https://localhost:8080/",
          "height": 730
        },
        "id": "IOdJaXps1eWy",
        "outputId": "c2167a0a-9103-46a8-e9b6-80426e08b1e8"
      },
      "execution_count": 32,
      "outputs": [
        {
          "output_type": "display_data",
          "data": {
            "text/plain": [
              "<Figure size 864x864 with 1 Axes>"
            ],
            "image/png": "[encoded data removed]"
          },
          "metadata": {
            "needs_background": "light"
          }
        }
      ]
    },
    {
      "cell_type": "code",
      "source": [
        ""
      ],
      "metadata": {
        "id": "4d9_7t3e1tPi"
      },
      "execution_count": null,
      "outputs": []
    }
  ]
}