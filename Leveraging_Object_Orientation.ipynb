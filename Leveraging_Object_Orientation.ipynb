{
  "nbformat": 4,
  "nbformat_minor": 0,
  "metadata": {
    "colab": {
      "name": "Leveraging Object Orientation.ipynb",
      "provenance": [],
      "authorship_tag": "ABX9TyOoUtziLm10YSJa8EVjnbAJ",
      "include_colab_link": true
    },
    "kernelspec": {
      "name": "python3",
      "display_name": "Python 3"
    },
    "language_info": {
      "name": "python"
    }
  },
  "cells": [
    {
      "cell_type": "markdown",
      "metadata": {
        "id": "view-in-github",
        "colab_type": "text"
      },
      "source": [
        "<a href=\"https://colab.research.google.com/github/fkvivid/DIVER/blob/main/Leveraging_Object_Orientation.ipynb\" target=\"_parent\"><img src=\"https://colab.research.google.com/assets/colab-badge.svg\" alt=\"Open In Colab\"/></a>"
      ]
    },
    {
      "cell_type": "code",
      "execution_count": 1,
      "metadata": {
        "colab": {
          "base_uri": "https://localhost:8080/"
        },
        "id": "_oEm-zjjdc3J",
        "outputId": "17389c0b-3ecf-4385-cd34-0488af6171e3"
      },
      "outputs": [
        {
          "output_type": "stream",
          "name": "stdout",
          "text": [
            "平均 : [4.86 3.31 1.45 0.22]\n",
            "分散 : [0.0764 0.0849 0.0105 0.0056]\n"
          ]
        }
      ],
      "source": [
        "import numpy as np\n",
        "from sklearn.preprocessing import StandardScaler\n",
        "from sklearn.datasets import load_iris\n",
        "\n",
        "data = load_iris()\n",
        "X = data.data[:10]\n",
        "\n",
        "scaler = StandardScaler()\n",
        "scaler.fit(X)\n",
        "print(\"平均 :\", scaler.mean_)\n",
        "print(\"分散 :\", scaler.var_)\n",
        "X_std = scaler.transform(X)"
      ]
    },
    {
      "cell_type": "code",
      "source": [
        "scaler0 = StandardScaler()\n",
        "scaler1 = StandardScaler()\n",
        "scaler2 = StandardScaler()"
      ],
      "metadata": {
        "id": "LsRF21BAeGP3"
      },
      "execution_count": 2,
      "outputs": []
    },
    {
      "cell_type": "markdown",
      "source": [
        "[Problem 1] Enumeration of classes used so far"
      ],
      "metadata": {
        "id": "2crNwXDweI1_"
      }
    },
    {
      "cell_type": "code",
      "source": [
        "# from pandas     --> pd\n",
        "# from numpy      --> np\n",
        "# from matplotlib --> plt\n",
        "# from seaborn    --> sns\n",
        "\n",
        "# from sklearn    --> LinearRegression, train_test_split, mean_squared_error, SVR, \n",
        "# make_pipeline, StandardScaler, cross_val_score, DecisionTreeRegressor\n",
        "# RandomForestRegressor\n"
      ],
      "metadata": {
        "id": "F4Gd1SoOeGks"
      },
      "execution_count": 4,
      "outputs": []
    },
    {
      "cell_type": "markdown",
      "source": [
        "[Problem 2] Enumerate methods and instance variables that have been used so far"
      ],
      "metadata": {
        "id": "IV2uQyPDgzCf"
      }
    },
    {
      "cell_type": "code",
      "source": [
        "# from pandas     --> df = pd.read_csv('train.csv')\n",
        "# from seaborn    --> sns.distplot(data['SalePrice'])\n",
        "# from numpy      --> data['logSalePrice'] = np.log(data['SalePrice'])\n",
        "# from matplotlib --> fig, ax1 = plt.subplots()\n",
        "# from sklearn    --> model = LinearRegression()"
      ],
      "metadata": {
        "id": "P4XPH99_gvsx"
      },
      "execution_count": 5,
      "outputs": []
    },
    {
      "cell_type": "code",
      "source": [
        "import numpy as np\n",
        "import pandas as pd"
      ],
      "metadata": {
        "id": "iBjBSxW9ieHf"
      },
      "execution_count": 6,
      "outputs": []
    },
    {
      "cell_type": "code",
      "source": [
        "class ScratchStandardScaler():\n",
        "    def __init__(self):\n",
        "        pass\n",
        "\n",
        "    def fit(self, X):\n",
        "        self.mean_ = np.mean(X, axis=0)\n",
        "        self.var_ = np.std(X - self.mean_, axis=0)\n",
        "        return self\n",
        "\n",
        "    def transform(self, X):\n",
        "        return (X - self.mean_) / self.var_\n",
        "\n",
        "    def fit_transform(self, X):\n",
        "        return self.fit(X).transform(X)"
      ],
      "metadata": {
        "id": "ByKhtWxIhiWU"
      },
      "execution_count": 13,
      "outputs": []
    },
    {
      "cell_type": "code",
      "source": [
        "import numpy as np\n",
        "from sklearn.datasets import load_iris\n",
        "\n",
        "data = load_iris()\n",
        "X = data.data[:10]\n",
        "\n",
        "scratch_scaler = ScratchStandardScaler()\n",
        "scratch_scaler.fit(X)\n",
        "print(\"平均 : {}\".format(scratch_scaler.mean_))\n",
        "print(\"分散 : {}\".format(scratch_scaler.var_))\n",
        "X_std = scratch_scaler.transform(X)\n",
        "print(X_std)"
      ],
      "metadata": {
        "colab": {
          "base_uri": "https://localhost:8080/"
        },
        "id": "B09fcUH9jehG",
        "outputId": "1ae7508d-5e57-47ff-fcdb-3b324d416b1f"
      },
      "execution_count": 14,
      "outputs": [
        {
          "output_type": "stream",
          "name": "stdout",
          "text": [
            "平均 : [4.86 3.31 1.45 0.22]\n",
            "分散 : [0.2764055  0.29137605 0.10246951 0.07483315]\n",
            "[[ 0.86828953  0.65207831 -0.48795004 -0.26726124]\n",
            " [ 0.14471492 -1.06391725 -0.48795004 -0.26726124]\n",
            " [-0.57885968 -0.37751902 -1.46385011 -0.26726124]\n",
            " [-0.94064699 -0.72071813  0.48795004 -0.26726124]\n",
            " [ 0.50650222  0.99527742 -0.48795004 -0.26726124]\n",
            " [ 1.95365143  2.02487476  2.43975018  2.40535118]\n",
            " [-0.94064699  0.3088792  -0.48795004  1.06904497]\n",
            " [ 0.50650222  0.3088792   0.48795004 -0.26726124]\n",
            " [-1.66422159 -1.40711636 -0.48795004 -0.26726124]\n",
            " [ 0.14471492 -0.72071813  0.48795004 -1.60356745]]\n"
          ]
        }
      ]
    },
    {
      "cell_type": "code",
      "source": [
        "class ExampleClass():\n",
        "    \"\"\"\n",
        "    説明用の簡単なクラス\n",
        "\n",
        "    Parameters\n",
        "    ----------\n",
        "    value : float or int\n",
        "        初期値\n",
        "\n",
        "    Attributes\n",
        "    ----------\n",
        "    value : float or int\n",
        "        計算結果\n",
        "    \"\"\"\n",
        "    def __init__(self, value):\n",
        "        self.value = value\n",
        "        print(\"初期値{}が設定されました\".format(self.value))\n",
        "    def add(self, value2):\n",
        "        \"\"\"\n",
        "        受け取った引数をself.valueに加える\n",
        "        \"\"\"\n",
        "        self.value += value2\n",
        "\n",
        "example = ExampleClass(5)\n",
        "print(\"value : {}\".format(example.value))\n",
        "example.add(3)\n",
        "print(\"value : {}\".format(example.value))"
      ],
      "metadata": {
        "colab": {
          "base_uri": "https://localhost:8080/"
        },
        "id": "vNQr_unukqd5",
        "outputId": "61e73583-d546-4ed5-b14d-3e8ca056f3fb"
      },
      "execution_count": 16,
      "outputs": [
        {
          "output_type": "stream",
          "name": "stdout",
          "text": [
            "初期値5が設定されました\n",
            "value : 5\n",
            "value : 8\n"
          ]
        }
      ]
    },
    {
      "cell_type": "markdown",
      "source": [
        "[Problem 4] Creating a class that performs four arithmetic operations"
      ],
      "metadata": {
        "id": "GJpxEhpsk85C"
      }
    },
    {
      "cell_type": "code",
      "source": [
        "class Arithmetic():\n",
        "    \"\"\"\n",
        "    説明用の簡単なクラス\n",
        "\n",
        "    Parameters\n",
        "    ----------\n",
        "    value : float or int\n",
        "        初期値\n",
        "\n",
        "    Attributes\n",
        "    ----------\n",
        "    value : float or int\n",
        "        計算結果\n",
        "    \"\"\"\n",
        "    def __init__(self, value):\n",
        "        self.value = value\n",
        "        print(\"初期値{}が設定されました\".format(self.value))\n",
        "    def add(self, newVal):\n",
        "        if type(newVal) != int and type(newVal) != float:\n",
        "          raise ValueError('input is must be number')\n",
        "        self.value += newVal\n",
        "    def subtract(self, newVal):\n",
        "        if type(newVal) != int and type(newVal) != float:\n",
        "          raise ValueError('input is must be number')\n",
        "        self.value -= newVal\n",
        "    def multiply(self, newVal):\n",
        "        if type(newVal) != int and type(newVal) != float:\n",
        "          raise ValueError('input is must be number')\n",
        "        self.value += newVal\n",
        "    def divide(self, newVal):\n",
        "        if type(newVal) != int and type(newVal) != float:\n",
        "          raise ValueError('input is must be number')\n",
        "        self.value += newVal\n",
        "\n",
        "example = Arithmetic(5)\n",
        "print(\"value : {}\".format(example.value))\n",
        "example.add(1)\n",
        "print(\"value : {}\".format(example.value))\n",
        "example.subtract(1)\n",
        "print(\"value : {}\".format(example.value))\n",
        "example.multiply(1)\n",
        "print(\"value : {}\".format(example.value))\n",
        "example.divide(1)\n",
        "print(\"value : {}\".format(example.value))\n",
        "example.add('1')\n",
        "print(\"value : {}\".format(example.value))"
      ],
      "metadata": {
        "colab": {
          "base_uri": "https://localhost:8080/",
          "height": 454
        },
        "id": "uGxlxlOCk6UD",
        "outputId": "754083df-1a8a-4f4b-813c-8330d40dbf2e"
      },
      "execution_count": 23,
      "outputs": [
        {
          "output_type": "stream",
          "name": "stdout",
          "text": [
            "初期値5が設定されました\n",
            "value : 5\n",
            "value : 6\n",
            "value : 5\n",
            "value : 6\n",
            "value : 7\n"
          ]
        },
        {
          "output_type": "error",
          "ename": "ValueError",
          "evalue": "ignored",
          "traceback": [
            "\u001b[0;31m---------------------------------------------------------------------------\u001b[0m",
            "\u001b[0;31mValueError\u001b[0m                                Traceback (most recent call last)",
            "\u001b[0;32m<ipython-input-23-3bd6fcc52372>\u001b[0m in \u001b[0;36m<module>\u001b[0;34m()\u001b[0m\n\u001b[1;32m     43\u001b[0m \u001b[0mexample\u001b[0m\u001b[0;34m.\u001b[0m\u001b[0mdivide\u001b[0m\u001b[0;34m(\u001b[0m\u001b[0;36m1\u001b[0m\u001b[0;34m)\u001b[0m\u001b[0;34m\u001b[0m\u001b[0;34m\u001b[0m\u001b[0m\n\u001b[1;32m     44\u001b[0m \u001b[0mprint\u001b[0m\u001b[0;34m(\u001b[0m\u001b[0;34m\"value : {}\"\u001b[0m\u001b[0;34m.\u001b[0m\u001b[0mformat\u001b[0m\u001b[0;34m(\u001b[0m\u001b[0mexample\u001b[0m\u001b[0;34m.\u001b[0m\u001b[0mvalue\u001b[0m\u001b[0;34m)\u001b[0m\u001b[0;34m)\u001b[0m\u001b[0;34m\u001b[0m\u001b[0;34m\u001b[0m\u001b[0m\n\u001b[0;32m---> 45\u001b[0;31m \u001b[0mexample\u001b[0m\u001b[0;34m.\u001b[0m\u001b[0madd\u001b[0m\u001b[0;34m(\u001b[0m\u001b[0;34m'1'\u001b[0m\u001b[0;34m)\u001b[0m\u001b[0;34m\u001b[0m\u001b[0;34m\u001b[0m\u001b[0m\n\u001b[0m\u001b[1;32m     46\u001b[0m \u001b[0mprint\u001b[0m\u001b[0;34m(\u001b[0m\u001b[0;34m\"value : {}\"\u001b[0m\u001b[0;34m.\u001b[0m\u001b[0mformat\u001b[0m\u001b[0;34m(\u001b[0m\u001b[0mexample\u001b[0m\u001b[0;34m.\u001b[0m\u001b[0mvalue\u001b[0m\u001b[0;34m)\u001b[0m\u001b[0;34m)\u001b[0m\u001b[0;34m\u001b[0m\u001b[0;34m\u001b[0m\u001b[0m\n",
            "\u001b[0;32m<ipython-input-23-3bd6fcc52372>\u001b[0m in \u001b[0;36madd\u001b[0;34m(self, newVal)\u001b[0m\n\u001b[1;32m     18\u001b[0m     \u001b[0;32mdef\u001b[0m \u001b[0madd\u001b[0m\u001b[0;34m(\u001b[0m\u001b[0mself\u001b[0m\u001b[0;34m,\u001b[0m \u001b[0mnewVal\u001b[0m\u001b[0;34m)\u001b[0m\u001b[0;34m:\u001b[0m\u001b[0;34m\u001b[0m\u001b[0;34m\u001b[0m\u001b[0m\n\u001b[1;32m     19\u001b[0m         \u001b[0;32mif\u001b[0m \u001b[0mtype\u001b[0m\u001b[0;34m(\u001b[0m\u001b[0mnewVal\u001b[0m\u001b[0;34m)\u001b[0m \u001b[0;34m!=\u001b[0m \u001b[0mint\u001b[0m \u001b[0;32mand\u001b[0m \u001b[0mtype\u001b[0m\u001b[0;34m(\u001b[0m\u001b[0mnewVal\u001b[0m\u001b[0;34m)\u001b[0m \u001b[0;34m!=\u001b[0m \u001b[0mfloat\u001b[0m\u001b[0;34m:\u001b[0m\u001b[0;34m\u001b[0m\u001b[0;34m\u001b[0m\u001b[0m\n\u001b[0;32m---> 20\u001b[0;31m           \u001b[0;32mraise\u001b[0m \u001b[0mValueError\u001b[0m\u001b[0;34m(\u001b[0m\u001b[0;34m'input is must be number'\u001b[0m\u001b[0;34m)\u001b[0m\u001b[0;34m\u001b[0m\u001b[0;34m\u001b[0m\u001b[0m\n\u001b[0m\u001b[1;32m     21\u001b[0m         \u001b[0mself\u001b[0m\u001b[0;34m.\u001b[0m\u001b[0mvalue\u001b[0m \u001b[0;34m+=\u001b[0m \u001b[0mnewVal\u001b[0m\u001b[0;34m\u001b[0m\u001b[0;34m\u001b[0m\u001b[0m\n\u001b[1;32m     22\u001b[0m     \u001b[0;32mdef\u001b[0m \u001b[0msubtract\u001b[0m\u001b[0;34m(\u001b[0m\u001b[0mself\u001b[0m\u001b[0;34m,\u001b[0m \u001b[0mnewVal\u001b[0m\u001b[0;34m)\u001b[0m\u001b[0;34m:\u001b[0m\u001b[0;34m\u001b[0m\u001b[0;34m\u001b[0m\u001b[0m\n",
            "\u001b[0;31mValueError\u001b[0m: input is must be number"
          ]
        }
      ]
    },
    {
      "cell_type": "code",
      "source": [
        ""
      ],
      "metadata": {
        "id": "hWuH-rdAlor9"
      },
      "execution_count": null,
      "outputs": []
    }
  ]
}