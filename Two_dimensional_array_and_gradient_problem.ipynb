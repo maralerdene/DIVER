{
  "nbformat": 4,
  "nbformat_minor": 0,
  "metadata": {
    "colab": {
      "name": "Two-dimensional_array_and_gradient_problem.ipynb",
      "provenance": [],
      "authorship_tag": "ABX9TyOTISNYSNuxRY18VyJJQhUA",
      "include_colab_link": true
    },
    "kernelspec": {
      "name": "python3",
      "display_name": "Python 3"
    },
    "language_info": {
      "name": "python"
    }
  },
  "cells": [
    {
      "cell_type": "markdown",
      "metadata": {
        "id": "view-in-github",
        "colab_type": "text"
      },
      "source": [
        "<a href=\"https://colab.research.google.com/github/fkvivid/DIVER/blob/main/Two_dimensional_array_and_gradient_problem.ipynb\" target=\"_parent\"><img src=\"https://colab.research.google.com/assets/colab-badge.svg\" alt=\"Open In Colab\"/></a>"
      ]
    },
    {
      "cell_type": "markdown",
      "source": [
        "[Problem 1] Linear function"
      ],
      "metadata": {
        "id": "CDkEqDcKjnZr"
      }
    },
    {
      "cell_type": "code",
      "execution_count": 1,
      "metadata": {
        "colab": {
          "base_uri": "https://localhost:8080/"
        },
        "id": "_heFDl0VjdJ8",
        "outputId": "7ea84732-2778-47b0-c010-9df54ecdeca0"
      },
      "outputs": [
        {
          "output_type": "stream",
          "name": "stdout",
          "text": [
            "[-24.   -23.95 -23.9  ...  25.9   25.95  26.  ]\n"
          ]
        }
      ],
      "source": [
        "import numpy as np\n",
        "\n",
        "narray = np.arange(-50,50.1,0.1)\n",
        "\n",
        "val = -50\n",
        "for i in range(len(narray)):\n",
        "\n",
        "  narray[i] = 0.5*val + 1\n",
        "  val = val + 0.1\n",
        "\n",
        "print(narray)"
      ]
    },
    {
      "cell_type": "markdown",
      "source": [
        "[Problem 2] Array combination"
      ],
      "metadata": {
        "id": "dB3BEtPKjtMb"
      }
    },
    {
      "cell_type": "code",
      "source": [
        "carray = np.arange(-50,50.1,0.1)\n",
        "\n",
        "val = -50\n",
        "for i in range(len(carray)):\n",
        "\n",
        "  carray[i] = val\n",
        "  val = val + 0.1\n",
        "\n",
        "combined = np.vstack((narray, carray)).T\n",
        "print(combined)"
      ],
      "metadata": {
        "colab": {
          "base_uri": "https://localhost:8080/"
        },
        "id": "0BR05SA0jqkL",
        "outputId": "60e6b1e6-8744-4f99-927e-71e2f7b75ba1"
      },
      "execution_count": 2,
      "outputs": [
        {
          "output_type": "stream",
          "name": "stdout",
          "text": [
            "[[-24.   -50.  ]\n",
            " [-23.95 -49.9 ]\n",
            " [-23.9  -49.8 ]\n",
            " ...\n",
            " [ 25.9   49.8 ]\n",
            " [ 25.95  49.9 ]\n",
            " [ 26.    50.  ]]\n"
          ]
        }
      ]
    },
    {
      "cell_type": "markdown",
      "source": [
        "[Problem 3] Find the gradient"
      ],
      "metadata": {
        "id": "A4_mGX8djwAO"
      }
    },
    {
      "cell_type": "code",
      "source": [
        "a = narray[1:]\n",
        "b = narray[:-1]\n",
        "\n",
        "gradient = a-b\n",
        "\n",
        "print(a.shape,b.shape,gradient.shape)"
      ],
      "metadata": {
        "colab": {
          "base_uri": "https://localhost:8080/"
        },
        "id": "W50KjE39jvNN",
        "outputId": "ace8c928-a91c-4896-9ce3-ca30df85f288"
      },
      "execution_count": 3,
      "outputs": [
        {
          "output_type": "stream",
          "name": "stdout",
          "text": [
            "(1000,) (1000,) (1000,)\n"
          ]
        }
      ]
    },
    {
      "cell_type": "markdown",
      "source": [
        "[Problem 4] Draw a graph"
      ],
      "metadata": {
        "id": "JklHMZvEj2HE"
      }
    },
    {
      "cell_type": "code",
      "source": [
        "# display graph\n",
        "import matplotlib.pyplot as plt\n",
        "\n",
        "plt.title('graident')\n",
        "plt.xlabel('x')\n",
        "plt.ylabel('gradient')\n",
        "plt.plot(narray[1:], gradient)\n",
        "plt.show()"
      ],
      "metadata": {
        "colab": {
          "base_uri": "https://localhost:8080/",
          "height": 295
        },
        "id": "-WN_xJC2jzaY",
        "outputId": "a8cbe7f5-8109-4324-b3b6-6f5761e97202"
      },
      "execution_count": 4,
      "outputs": [
        {
          "output_type": "display_data",
          "data": {
            "text/plain": [
              "<Figure size 432x288 with 1 Axes>"
            ],
            "image/png": "[encoded data removed]"
          },
          "metadata": {
            "needs_background": "light"
          }
        }
      ]
    },
    {
      "cell_type": "markdown",
      "source": [
        "[Problem 5] Python functionalization"
      ],
      "metadata": {
        "id": "0BKcK7_8oF0o"
      }
    },
    {
      "cell_type": "code",
      "source": [
        "import math as math\n",
        "def compute_gradient(function, x_range=(-50, 50.1, 0.1)):\n",
        "    \"\"\"\n",
        "    Calculate the gradient using the amount of change.\n",
        "\n",
        "    Parameters\n",
        "    ----------------\n",
        "    function : function\n",
        "      The function you want to find, the one that returns the ndarray of y when you put the ndarray of x.\n",
        "    x_range : tuple\n",
        "      Specify the range in the same way as the argument of np.arange ().\n",
        "\n",
        "    Returns\n",
        "    ----------------\n",
        "    array_xy : ndarray, shape(n, 2)\n",
        "      A combination of x and y. n depends on x_range.\n",
        "    gradient : ndarray, shape(n-1,)\n",
        "      Function gradient. One factor is reduced to make a difference\n",
        "    \"\"\"\n",
        "    array_x = np.arange(-50,50.1,0.1)\n",
        "    counter = 0\n",
        "    for i in x_range:\n",
        "      array_x[counter]=i\n",
        "      counter = counter + 1\n",
        "     \n",
        "    \n",
        "    array_y = function1(array_x)\n",
        "    array_xy = np.vstack((array_x, array_y)).T\n",
        "\n",
        "    gradient=array_y-array_x\n",
        "    return array_xy,gradient\n",
        "def function1(array_x):\n",
        "\n",
        "    array_y = np.arange(-50,50.1,0.1)\n",
        "\n",
        "    counter = 0\n",
        "    for i in array_x:\n",
        "      array_y[counter]=(math.pow(i,2))\n",
        "      counter = counter + 1\n",
        "    # y=x2(−50≤x≤50)\n",
        "    return array_y\n",
        "\n",
        "def function2(array_x):\n",
        "\n",
        "    array_y = np.arange(-50,50.1,0.1)\n",
        "\n",
        "    counter = 0\n",
        "    for i in array_x:\n",
        "      array_y[counter]=2 * (math.pow(i,2)) + math.pow(2,x)\n",
        "      counter = counter + 1\n",
        "    # y=2x2+2x. (−50≤x≤50)\n",
        "    return array_y\n",
        "\n",
        "\n",
        "def function3(array_x):\n",
        "\n",
        "    array_y = np.arange(-50,50.1,0.1)\n",
        "\n",
        "    counter = 0\n",
        "    for i in array_x:\n",
        "      array_y[counter]= np.sin (math.pow(i,0.5))\n",
        "      counter = counter + 1\n",
        "    # y=sing(x1/2) (−50≤x≤50)\n",
        "    return array_y\n",
        "\n",
        "array_xy, gradient = compute_gradient(function1)"
      ],
      "metadata": {
        "id": "3WBbOM_aoDno"
      },
      "execution_count": 5,
      "outputs": []
    },
    {
      "cell_type": "markdown",
      "source": [
        "[Problem 6] Find the minimum value"
      ],
      "metadata": {
        "id": "7y0dEX8YoL_6"
      }
    },
    {
      "cell_type": "code",
      "source": [
        "np.argmin(array_xy,0)\n",
        "np.min(array_xy,0)"
      ],
      "metadata": {
        "colab": {
          "base_uri": "https://localhost:8080/"
        },
        "id": "8pKTyEtdoJ4A",
        "outputId": "c9e803eb-77bc-4663-bbd9-46f148681704"
      },
      "execution_count": 6,
      "outputs": [
        {
          "output_type": "execute_result",
          "data": {
            "text/plain": [
              "array([-5.00000000e+01,  5.04870979e-25])"
            ]
          },
          "metadata": {},
          "execution_count": 6
        }
      ]
    },
    {
      "cell_type": "code",
      "source": [
        ""
      ],
      "metadata": {
        "id": "_O6y5BUNoODB"
      },
      "execution_count": null,
      "outputs": []
    }
  ]
}