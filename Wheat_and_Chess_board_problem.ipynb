{
  "nbformat": 4,
  "nbformat_minor": 0,
  "metadata": {
    "colab": {
      "name": "Wheat_and_chess_board_problem.ipynb",
      "provenance": [],
      "authorship_tag": "ABX9TyP+0YAY6n/lz5KJXbnSa7VE",
      "include_colab_link": true
    },
    "kernelspec": {
      "name": "python3",
      "display_name": "Python 3"
    },
    "language_info": {
      "name": "python"
    }
  },
  "cells": [
    {
      "cell_type": "markdown",
      "metadata": {
        "id": "view-in-github",
        "colab_type": "text"
      },
      "source": [
        "<a href=\"https://colab.research.google.com/github/fkvivid/DIVER/blob/main/Wheat_and_chess_board_problem.ipynb\" target=\"_parent\"><img src=\"https://colab.research.google.com/assets/colab-badge.svg\" alt=\"Open In Colab\"/></a>"
      ]
    },
    {
      "cell_type": "code",
      "execution_count": 1,
      "metadata": {
        "id": "G9RxrRpVwrg5"
      },
      "outputs": [],
      "source": [
        "import numpy as np"
      ]
    },
    {
      "cell_type": "code",
      "source": [
        "n_squares = 4\n",
        "small_board_list = [1]\n",
        "for _ in range(n_squares - 1):\n",
        "    small_board_list.append(2*small_board_list[-1])\n",
        "print(\"Arrange wheat on a plate of 4 squares (list)：{}\".format(small_board_list))"
      ],
      "metadata": {
        "colab": {
          "base_uri": "https://localhost:8080/"
        },
        "id": "PK_wrzq26a0D",
        "outputId": "7d68e619-1e67-422a-f9b5-86826c0bff20"
      },
      "execution_count": 2,
      "outputs": [
        {
          "output_type": "stream",
          "name": "stdout",
          "text": [
            "Arrange wheat on a plate of 4 squares (list)：[1, 2, 4, 8]\n"
          ]
        }
      ]
    },
    {
      "cell_type": "code",
      "source": [
        "import numpy as np\n",
        "\n",
        "small_board_ndarray = np.array(small_board_list)\n",
        "print(\"Arrange wheat on a plate of 4 squares (ndarray)：{}\".format(small_board_ndarray))"
      ],
      "metadata": {
        "colab": {
          "base_uri": "https://localhost:8080/"
        },
        "id": "en7wPwAV6sVv",
        "outputId": "2dbf76dc-2dcd-48f0-b6ae-1510c73bb245"
      },
      "execution_count": 3,
      "outputs": [
        {
          "output_type": "stream",
          "name": "stdout",
          "text": [
            "Arrange wheat on a plate of 4 squares (ndarray)：[1 2 4 8]\n"
          ]
        }
      ]
    },
    {
      "cell_type": "markdown",
      "source": [
        "[Problem 1] Number of wheat on a 2 x 2 square chess board"
      ],
      "metadata": {
        "id": "Lw5o73CF9-t6"
      }
    },
    {
      "cell_type": "code",
      "source": [
        "small_board_ndarray = np.array([1,2**2,2**6,2**14])\n",
        "#first 1\n",
        "#two to right = 8\n",
        "#four to lower left = 64\n",
        "#eight to lower right = 16384\n",
        "print(\"Arrange wheat on a plate of 2 squares (ndarray)：{}\".format(small_board_ndarray))"
      ],
      "metadata": {
        "colab": {
          "base_uri": "https://localhost:8080/"
        },
        "id": "Kcs5qLSb9yUs",
        "outputId": "c1a83f0e-33df-4567-dab4-f7cb13556b32"
      },
      "execution_count": 4,
      "outputs": [
        {
          "output_type": "stream",
          "name": "stdout",
          "text": [
            "Arrange wheat on a plate of 2 squares (ndarray)：[    1     4    64 16384]\n"
          ]
        }
      ]
    },
    {
      "cell_type": "markdown",
      "source": [
        "[Problem 2] Expansion to n × m mass"
      ],
      "metadata": {
        "id": "oNrj73TzBFKh"
      }
    },
    {
      "cell_type": "code",
      "source": [
        "def expansion(n,m):\n",
        "  z = 0;\n",
        "  chessBoard = np.empty((n, m), int)\n",
        "  total = 0\n",
        "  for i in range(n):\n",
        "    for j in range(m):\n",
        "      \n",
        "      chessBoard[i][j] = np.power(2, z)\n",
        "      z = z + 1\n",
        "      total = total + chessBoard[i][j]\n",
        "  return chessBoard,total\n",
        "  \n",
        "ex,total = expansion(8,8)\n",
        "print(ex.astype(np.uint64))"
      ],
      "metadata": {
        "colab": {
          "base_uri": "https://localhost:8080/"
        },
        "id": "hpFbB27kBG6b",
        "outputId": "6a0de3ed-80ae-49f9-ed99-dfaa297e4851"
      },
      "execution_count": 5,
      "outputs": [
        {
          "output_type": "stream",
          "name": "stdout",
          "text": [
            "[[                  1                   2                   4\n",
            "                    8                  16                  32\n",
            "                   64                 128]\n",
            " [                256                 512                1024\n",
            "                 2048                4096                8192\n",
            "                16384               32768]\n",
            " [              65536              131072              262144\n",
            "               524288             1048576             2097152\n",
            "              4194304             8388608]\n",
            " [           16777216            33554432            67108864\n",
            "            134217728           268435456           536870912\n",
            "           1073741824          2147483648]\n",
            " [         4294967296          8589934592         17179869184\n",
            "          34359738368         68719476736        137438953472\n",
            "         274877906944        549755813888]\n",
            " [      1099511627776       2199023255552       4398046511104\n",
            "        8796093022208      17592186044416      35184372088832\n",
            "       70368744177664     140737488355328]\n",
            " [    281474976710656     562949953421312    1125899906842624\n",
            "     2251799813685248    4503599627370496    9007199254740992\n",
            "    18014398509481984   36028797018963968]\n",
            " [  72057594037927936  144115188075855872  288230376151711744\n",
            "   576460752303423488 1152921504606846976 2305843009213693952\n",
            "  4611686018427387904 9223372036854775808]]\n"
          ]
        }
      ]
    },
    {
      "cell_type": "markdown",
      "source": [
        "[Problem 3] Total number of wheat"
      ],
      "metadata": {
        "id": "BEi_zpsOLQJh"
      }
    },
    {
      "cell_type": "code",
      "source": [
        "import matplotlib.pyplot as plt\n",
        "%matplotlib inline\n",
        "\n",
        "#find total number \n",
        "lastItem = ex[-1].astype(np.uint64)\n",
        "total = (lastItem+1)*32\n",
        "print('total',total)\n",
        "\n",
        "plt.xlabel(\"column\")\n",
        "plt.ylabel(\"number\")\n",
        "plt.title(\"number in each column\")\n",
        "plt.bar(np.arange(8),np.mean(ex.astype(np.uint64), axis=0))\n",
        "plt.show()"
      ],
      "metadata": {
        "colab": {
          "base_uri": "https://localhost:8080/",
          "height": 347
        },
        "id": "vRc7l50fLZh5",
        "outputId": "6513b6b5-dc6a-4ce8-d963-b2a90965df34"
      },
      "execution_count": 6,
      "outputs": [
        {
          "output_type": "stream",
          "name": "stdout",
          "text": [
            "total [2305843009213693984 4611686018427387936 9223372036854775840\n",
            "                  32                  32                  32\n",
            "                  32                  32]\n"
          ]
        },
        {
          "output_type": "display_data",
          "data": {
            "text/plain": [
              "<Figure size 432x288 with 1 Axes>"
            ],
            "image/png": "[encoded data removed]"
          },
          "metadata": {
            "needs_background": "light"
          }
        }
      ]
    },
    {
      "cell_type": "markdown",
      "source": [
        "[Problem 4] Heat map of the number of wheat"
      ],
      "metadata": {
        "id": "9lL5pAfaFjws"
      }
    },
    {
      "cell_type": "code",
      "source": [
        "plt.xlabel(\"column\")\n",
        "plt.ylabel(\"row\")\n",
        "plt.title(\"heatmap\")\n",
        "plt.pcolor(np.array(ex).reshape(8, 8))\n",
        "plt.show()"
      ],
      "metadata": {
        "colab": {
          "base_uri": "https://localhost:8080/",
          "height": 295
        },
        "id": "5nz7zYLHLj7X",
        "outputId": "bb2362aa-8294-4d8d-ff28-343b9337c32e"
      },
      "execution_count": 7,
      "outputs": [
        {
          "output_type": "display_data",
          "data": {
            "text/plain": [
              "<Figure size 432x288 with 1 Axes>"
            ],
            "image/png": "[encoded data removed]"
          },
          "metadata": {
            "needs_background": "light"
          }
        }
      ]
    },
    {
      "cell_type": "markdown",
      "source": [
        "[Problem 5] How many times the second half is the first half"
      ],
      "metadata": {
        "id": "rfw1G_q8FpUN"
      }
    },
    {
      "cell_type": "code",
      "source": [
        "firstHalf, secondHalf = np.vsplit(ex.astype(np.uint64), [4])\n",
        "\n",
        "howManyTimes =  np.sum(secondHalf)/np.sum(firstHalf)\n",
        "print(howManyTimes)"
      ],
      "metadata": {
        "colab": {
          "base_uri": "https://localhost:8080/"
        },
        "id": "yv_T3DVMFmtf",
        "outputId": "89a4ae93-6597-46b9-d68e-fae15d1a730f"
      },
      "execution_count": 8,
      "outputs": [
        {
          "output_type": "stream",
          "name": "stdout",
          "text": [
            "4294967296.0\n"
          ]
        }
      ]
    },
    {
      "cell_type": "markdown",
      "source": [
        "[Problem 6] Expansion to n × m mass by other calculation methods"
      ],
      "metadata": {
        "id": "z3sCwP1DFxbx"
      }
    },
    {
      "cell_type": "code",
      "source": [
        "def expansion(n,m):\n",
        "  z = 0;\n",
        "  chessBoard = np.empty((n, m), int)\n",
        "  \n",
        "  #chessBoard = [[0 for x in range(n)] for y in range(m)] \n",
        "  \n",
        "  for i in range(n):\n",
        "    \n",
        "    Yaxis = np.empty(m,int)\n",
        "    for j in range(m):\n",
        "       l = np.power(2,z)\n",
        "       #np.append(Yaxis,l).astype(np.uint64)\n",
        "       Yaxis[j] = l\n",
        "       #print(l)\n",
        "       #print(z,np.power(2,z))\n",
        "       \n",
        "       z = z + 1\n",
        "    #print(Yaxis)  \n",
        "    \n",
        "    np.append(chessBoard,[[2,2,2,2,2,2,2,2]],axis=0)\n",
        "    #print('chess',chessBoard)\n",
        "  return chessBoard\n",
        "\n",
        "\n",
        "chess = expansion(8,8)\n",
        "\n",
        "#for i in range(8):\n",
        "#  print(chess[i][i])\n",
        "\n",
        "#print(chess)"
      ],
      "metadata": {
        "id": "Td7Ckr9CFwBA"
      },
      "execution_count": 10,
      "outputs": []
    },
    {
      "cell_type": "markdown",
      "source": [
        "[Problem 7] Comparison of calculation time"
      ],
      "metadata": {
        "id": "86wfk9CgiaBF"
      }
    },
    {
      "cell_type": "code",
      "source": [
        "%%timeit \n",
        "def expansion(n,m):\n",
        "  z = 0;\n",
        "  chessBoard = np.empty((n, m), int)\n",
        "  \n",
        "  #chessBoard = [[0 for x in range(n)] for y in range(m)] \n",
        "  \n",
        "  for i in range(n):\n",
        "    \n",
        "    Yaxis = np.empty(m,int)\n",
        "    for j in range(m):\n",
        "       l = np.power(2,z)\n",
        "       #np.append(Yaxis,l).astype(np.uint64)\n",
        "       Yaxis[j] = l\n",
        "       #print(l)\n",
        "       #print(z,np.power(2,z))\n",
        "       \n",
        "       z = z + 1\n",
        "    #print(Yaxis)  \n",
        "    \n",
        "    np.append(chessBoard,[[2,2,2,2,2,2,2,2]],axis=0)\n",
        "    #print('chess',chessBoard)\n",
        "  return chessBoard\n",
        "\n",
        "\n",
        "chess = expansion(8,8)"
      ],
      "metadata": {
        "id": "X1OHjCSTF5U_",
        "colab": {
          "base_uri": "https://localhost:8080/"
        },
        "outputId": "095726b3-6b49-454e-a088-338b6b29ce66"
      },
      "execution_count": 11,
      "outputs": [
        {
          "output_type": "stream",
          "name": "stdout",
          "text": [
            "1000 loops, best of 5: 168 µs per loop\n"
          ]
        }
      ]
    },
    {
      "cell_type": "code",
      "source": [
        ""
      ],
      "metadata": {
        "id": "0TPkq1Abie2P"
      },
      "execution_count": null,
      "outputs": []
    }
  ]
}